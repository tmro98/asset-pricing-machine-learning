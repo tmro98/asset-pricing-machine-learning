{
 "cells": [
  {
   "attachments": {},
   "cell_type": "markdown",
   "metadata": {},
   "source": [
    "Imports"
   ]
  },
  {
   "cell_type": "code",
   "execution_count": 1,
   "metadata": {},
   "outputs": [],
   "source": [
    "import numpy as np\n",
    "import pandas as pd\n",
    "import matplotlib.pyplot as plt\n",
    "\n",
    "import glob\n",
    "from pathlib import Path\n",
    "\n",
    "import ta\n",
    "\n",
    "import yfinance as yf\n",
    "import nasdaqdatalink\n",
    "import pandas_datareader.famafrench as ff\n",
    "import pandas_datareader.data as web\n",
    "\n",
    "from keys import nasdaq_api_key\n",
    "\n",
    "nasdaqdatalink.ApiConfig.api_key = nasdaq_api_key\n"
   ]
  },
  {
   "attachments": {},
   "cell_type": "markdown",
   "metadata": {},
   "source": [
    "Market data"
   ]
  },
  {
   "cell_type": "code",
   "execution_count": 2,
   "metadata": {},
   "outputs": [],
   "source": [
    "sp500 = yf.download(\n",
    "    tickers=\"^GSPC\",\n",
    "    start=\"1980-01-02\",\n",
    "    end=\"2023-04-01\",\n",
    "    progress=False,\n",
    "    auto_adjust=True,\n",
    ")"
   ]
  },
  {
   "attachments": {},
   "cell_type": "markdown",
   "metadata": {},
   "source": [
    "Technical indicators"
   ]
  },
  {
   "cell_type": "code",
   "execution_count": 3,
   "metadata": {},
   "outputs": [],
   "source": [
    "def feature_extractor(dframe):\n",
    "    dframe = dframe.round(2)\n",
    "\n",
    "    o = dframe[\"Open\"]\n",
    "    h = dframe[\"High\"]\n",
    "    l = dframe[\"Low\"]\n",
    "    c = dframe[\"Close\"]\n",
    "    v = dframe[\"Volume\"]\n",
    "\n",
    "    # Momentum\n",
    "\n",
    "    PPO = ta.momentum.PercentagePriceOscillator(close=c)\n",
    "    PVO = ta.momentum.PercentageVolumeOscillator(volume=v)\n",
    "    ROC_10d = ta.momentum.ROCIndicator(close=c, window=10)\n",
    "    ROC_60d = ta.momentum.ROCIndicator(close=c, window=60)\n",
    "    RSI = ta.momentum.RSIIndicator(close=c)\n",
    "    SRSI = ta.momentum.StochRSIIndicator(close=c)\n",
    "    SO = ta.momentum.StochasticOscillator(high=h, close=c, low=l)\n",
    "    TSI = ta.momentum.TSIIndicator(close=c)\n",
    "    UO = ta.momentum.UltimateOscillator(high=h, low=l, close=c)\n",
    "    WR = ta.momentum.WilliamsRIndicator(high=h, low=l, close=c)\n",
    "\n",
    "    # Volume\n",
    "\n",
    "    EMV = ta.volume.EaseOfMovementIndicator(high=h, low=l, volume=v)\n",
    "    FI = ta.volume.ForceIndexIndicator(close=c, volume=v)\n",
    "    MFI = ta.volume.MFIIndicator(high=h, low=l, close=c, volume=v)\n",
    "    NVI = ta.volume.NegativeVolumeIndexIndicator(close=c, volume=v)\n",
    "\n",
    "    # Volatility\n",
    "\n",
    "    BB = ta.volatility.BollingerBands(close=c)\n",
    "    DC = ta.volatility.DonchianChannel(high=h, low=l, close=c)\n",
    "    KC = ta.volatility.KeltnerChannel(high=h, low=l, close=c)\n",
    "    UI = ta.volatility.UlcerIndex(close=c)\n",
    "\n",
    "    # Trend\n",
    "\n",
    "    AI = ta.trend.AroonIndicator(close=c)\n",
    "    CCI = ta.trend.CCIIndicator(high=h, low=l, close=c)\n",
    "    KST = ta.trend.KSTIndicator(close=c)\n",
    "    MACD = ta.trend.MACD(close=c)\n",
    "    MI = ta.trend.MassIndex(high=h, low=l)\n",
    "    STC = ta.trend.STCIndicator(close=c)\n",
    "    TRIX = ta.trend.TRIXIndicator(close=c)\n",
    "    VI = ta.trend.VortexIndicator(high=h, low=l, close=c)\n",
    "\n",
    "    dframe[\"PPO\"] = PPO.ppo_signal()\n",
    "    dframe[\"PVO\"] = PVO.pvo_signal()\n",
    "    dframe[\"MOM10d\"] = ROC_10d.roc()\n",
    "    dframe[\"MOM60d\"] = ROC_60d.roc()\n",
    "    dframe[\"RSI\"] = RSI.rsi()\n",
    "    dframe[\"SRSI\"] = SRSI.stochrsi()\n",
    "    dframe[\"SO\"] = SO.stoch_signal()\n",
    "    dframe[\"TSI\"] = TSI.tsi()\n",
    "    dframe[\"UO\"] = UO.ultimate_oscillator()\n",
    "    dframe[\"WR\"] = WR.williams_r()\n",
    "    dframe[\"EMV\"] = EMV.sma_ease_of_movement()\n",
    "    dframe[\"FI\"] = FI.force_index()\n",
    "    dframe[\"MFI\"] = MFI.money_flow_index()\n",
    "    dframe[\"NVI\"] = NVI.negative_volume_index()\n",
    "    dframe[\"BB\"] = BB.bollinger_hband_indicator()\n",
    "    dframe[\"BBW\"] = BB.bollinger_pband()\n",
    "    dframe[\"DC\"] = DC.donchian_channel_pband()\n",
    "    dframe[\"KC\"] = KC.keltner_channel_hband_indicator()\n",
    "    dframe[\"UI\"] = UI.ulcer_index()\n",
    "    dframe[\"AI\"] = AI.aroon_indicator()\n",
    "    dframe[\"CCI\"] = CCI.cci()\n",
    "    dframe[\"KST\"] = KST.kst_sig()\n",
    "    dframe[\"MACD\"] = MACD.macd_signal()\n",
    "    dframe[\"MI\"] = MI.mass_index()\n",
    "    dframe[\"STC\"] = STC.stc()\n",
    "    dframe[\"TRIX\"] = TRIX.trix()\n",
    "    dframe[\"VI\"] = VI.vortex_indicator_diff()\n",
    "\n",
    "    dframe[\"VOLA20d\"] = dframe[\"Close\"].pct_change().rolling(20).std()\n",
    "    dframe[\"VOLA60d\"] = dframe[\"Close\"].pct_change().rolling(60).std()\n",
    "    dframe[\"CHVOLA\"] = dframe[\"VOLA20d\"] - dframe[\"VOLA60d\"]\n",
    "    dframe[\"MAXRET\"] = dframe[\"Close\"].pct_change().rolling(20).max()\n",
    "    dframe[\"MINRET\"] = dframe[\"Close\"].pct_change().rolling(20).min()\n",
    "    dframe[\"CHMOM\"] = dframe[\"MOM10d\"] - dframe[\"MOM60d\"]\n",
    "\n",
    "\n",
    "    df_ta = dframe.drop([\"Open\", \"High\", \"Low\", \"Volume\"], axis=1)\n",
    "\n",
    "    dframe = df_ta.resample(\"M\").last()\n",
    "\n",
    "    dframe[\"RETURN\"] = dframe[\"Close\"].pct_change()\n",
    "    dframe.drop(\"Close\", axis=1, inplace=True)\n",
    "\n",
    "    return dframe\n"
   ]
  },
  {
   "attachments": {},
   "cell_type": "markdown",
   "metadata": {},
   "source": [
    "Market ratios"
   ]
  },
  {
   "cell_type": "code",
   "execution_count": 4,
   "metadata": {},
   "outputs": [],
   "source": [
    "sp500_ratio = nasdaqdatalink.get(\n",
    "    [\n",
    "        \"MULTPL/SP500_DIV_YIELD_MONTH\",\n",
    "        \"MULTPL/SP500_EARNINGS_YIELD_MONTH\",\n",
    "        \"MULTPL/SP500_PE_RATIO_MONTH\",\n",
    "    ],\n",
    "    start_date=\"1980-01-01\",\n",
    "    end_date=\"2023-03-31\",\n",
    ")\n",
    "\n",
    "rule = {\n",
    "    \"MULTPL/SP500_DIV_YIELD_MONTH - Value\": \"last\",\n",
    "    \"MULTPL/SP500_EARNINGS_YIELD_MONTH - Value\": \"first\",\n",
    "    \"MULTPL/SP500_PE_RATIO_MONTH - Value\": \"first\",\n",
    "}\n",
    "\n",
    "sp500_ratios = sp500_ratio.resample(\"M\").apply(rule)\n",
    "sp500_ratios.columns = [\"DIVYIELD\", \"EARNYIELD\", \"PERATIO\"]\n",
    "sp500_ratios[\"DIVYIELD\"] = sp500_ratios[\"DIVYIELD\"].shift(1)\n"
   ]
  },
  {
   "attachments": {},
   "cell_type": "markdown",
   "metadata": {},
   "source": [
    "Rates"
   ]
  },
  {
   "cell_type": "code",
   "execution_count": 5,
   "metadata": {},
   "outputs": [],
   "source": [
    "fredrates = web.DataReader(\n",
    "    [\"T10Y2Y\", \"DTB3\", \"DTB6\", \"DPRIME\", \"DFF\"],\n",
    "    \"fred\",\n",
    "    start=\"1980-01-01\",\n",
    "    end=\"2023-03-31\",\n",
    ")\n",
    "\n",
    "fredrates = fredrates.resample(\"M\").last()\n",
    "fredrates[\"TB6TB3\"] = fredrates[\"DTB6\"] - fredrates[\"DTB3\"]\n",
    "fredrates[\"TB3\"] = fredrates[\"DTB3\"].diff()\n",
    "fredrates[\"TB6\"] = fredrates[\"DTB6\"].diff()\n",
    "fredrates[\"PRIME\"] = fredrates[\"DPRIME\"].diff()\n",
    "fredrates[\"FF\"] = fredrates[\"DFF\"].diff()\n",
    "fredrates.drop([\"DTB3\", \"DTB6\", \"DPRIME\", \"DFF\"], axis=1, inplace=True)\n"
   ]
  },
  {
   "attachments": {},
   "cell_type": "markdown",
   "metadata": {},
   "source": [
    "Sentiment\n",
    "https://www.frbsf.org/economic-research/indicators-data/daily-news-sentiment-index/"
   ]
  },
  {
   "cell_type": "code",
   "execution_count": 6,
   "metadata": {},
   "outputs": [],
   "source": [
    "senti = pd.read_csv(\".data/misc/news_sentiment_data.csv\", index_col=\"date\")\n",
    "senti.index = pd.to_datetime(senti.index, format=\"%d.%m.%Y\")\n",
    "senti.columns = [\"SENT1d\"]\n",
    "senti[\"SENT1d\"] = pd.to_numeric(senti[\"SENT1d\"])\n",
    "senti[\"SENT20d\"] = senti[\"SENT1d\"].rolling(20).sum()\n",
    "senti = senti.resample(\"M\").last()\n",
    "senti[\"SENTMA\"] = senti[\"SENT20d\"].rolling(3).mean()\n"
   ]
  },
  {
   "attachments": {},
   "cell_type": "markdown",
   "metadata": {},
   "source": [
    "Risk free rate"
   ]
  },
  {
   "cell_type": "code",
   "execution_count": 7,
   "metadata": {},
   "outputs": [],
   "source": [
    "ff_dict = web.DataReader(\n",
    "    \"F-F_Research_Data_Factors\", \"famafrench\", start=\"1980-01-02\", end=\"2023-03-31\"\n",
    ")\n",
    "\n",
    "RF = ff_dict[0].div(100)[\"RF\"]\n"
   ]
  },
  {
   "attachments": {},
   "cell_type": "markdown",
   "metadata": {},
   "source": [
    "Macro"
   ]
  },
  {
   "cell_type": "code",
   "execution_count": 8,
   "metadata": {},
   "outputs": [],
   "source": [
    "fred_real = web.DataReader(\n",
    "    [\"CPIAUCSL\", \"UNRATE\"], \"fred\", start=\"1980-01-01\", end=\"2023-03-31\"\n",
    ")\n",
    "\n",
    "fred_real[\"CPIAUCSL\"] = fred_real[\"CPIAUCSL\"].shift(1)\n",
    "fred_real[\"CPIAUCSL\"] = fred_real[\"CPIAUCSL\"].pct_change()\n",
    "fred_real[\"UNRATE\"] = fred_real[\"UNRATE\"].shift(1)\n",
    "fred_real.columns = [\"CPI\", \"UNRATE\"]\n",
    "\n",
    "fred_real = fred_real.resample(\"M\").last()\n"
   ]
  },
  {
   "attachments": {},
   "cell_type": "markdown",
   "metadata": {},
   "source": [
    "Buildung dataframe"
   ]
  },
  {
   "cell_type": "code",
   "execution_count": 9,
   "metadata": {},
   "outputs": [],
   "source": [
    "macros = sp500_ratios.join(fredrates)\n",
    "macros = macros.join(senti)\n",
    "macros = macros.join(fred_real)\n",
    "macros[\"RF\"] = RF.values\n"
   ]
  },
  {
   "cell_type": "code",
   "execution_count": 10,
   "metadata": {},
   "outputs": [],
   "source": [
    "dframe_feature = feature_extractor(sp500)\n",
    "dframe_feature = dframe_feature.join(macros)\n",
    "dframe_feature[\"EXCESS_RETURN\"] = dframe_feature[\"RETURN\"] - dframe_feature[\"RF\"]\n",
    "dframe_feature[\"AVG_EXCESS_RETURN\"] = dframe_feature[\"EXCESS_RETURN\"].rolling(3).mean()\n",
    "dframe_feature[\"EXCESS_RETURN_T+1\"] = dframe_feature[\"EXCESS_RETURN\"].shift(-1)\n",
    "dframe_feature.dropna(axis=0, inplace=True)"
   ]
  },
  {
   "cell_type": "code",
   "execution_count": 17,
   "metadata": {},
   "outputs": [],
   "source": [
    "dframe_feature.to_csv(\".data/time_series.csv\")\n"
   ]
  }
 ],
 "metadata": {
  "kernelspec": {
   "display_name": "Python 3",
   "language": "python",
   "name": "python3"
  },
  "language_info": {
   "codemirror_mode": {
    "name": "ipython",
    "version": 3
   },
   "file_extension": ".py",
   "mimetype": "text/x-python",
   "name": "python",
   "nbconvert_exporter": "python",
   "pygments_lexer": "ipython3",
   "version": "3.11.2"
  },
  "orig_nbformat": 4
 },
 "nbformat": 4,
 "nbformat_minor": 2
}
