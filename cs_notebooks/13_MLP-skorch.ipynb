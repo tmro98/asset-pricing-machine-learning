{
 "cells": [
  {
   "cell_type": "code",
   "execution_count": null,
   "id": "554dd17f-a5c0-4631-9055-c08f32661192",
   "metadata": {},
   "outputs": [],
   "source": [
    "import numpy as np\n",
    "import pandas as pd\n",
    "import matplotlib.pyplot as plt\n",
    "import datetime\n",
    "\n",
    "import torch\n",
    "from torch import nn\n",
    "import torch.nn.functional as F\n",
    "from skorch import dataset\n",
    "from skorch import NeuralNetRegressor\n",
    "from skorch.callbacks import EarlyStopping, LRScheduler, GradientNormClipping\n",
    "\n",
    "from sklearn.ensemble import BaggingRegressor\n",
    "from sklearn.model_selection import GridSearchCV\n",
    "from sklearn.pipeline import Pipeline\n",
    "from sklearn.dummy import DummyRegressor\n",
    "from sklearn.utils.fixes import loguniform\n",
    "\n",
    "import scipy.stats as stats\n",
    "\n",
    "from panel_utils import *"
   ]
  },
  {
   "cell_type": "code",
   "execution_count": null,
   "id": "215dbfec-472f-4453-bab4-6cc1f4ef77ec",
   "metadata": {},
   "outputs": [],
   "source": [
    "if torch.cuda.is_available():\n",
    "    device = torch.device(\"cuda\")\n",
    "else:\n",
    "    device = torch.device(\"cpu\")\n",
    "    \n",
    "torch.cuda.get_device_name(0)"
   ]
  },
  {
   "cell_type": "code",
   "execution_count": null,
   "id": "408c6172-38b6-4bd7-8656-424d01b41bf1",
   "metadata": {},
   "outputs": [],
   "source": [
    "df = pd.read_csv(\"../_data/panelbigcap.csv\", index_col=\"Date\")\n",
    "df = df.loc[df.index <= \"2019.12.31\"]\n",
    "scale_interact_sort(df=df, micro_cols=micro_cols, macro_cols=macro_cols, interact=False)\n",
    "df = df.round(4)"
   ]
  },
  {
   "cell_type": "code",
   "execution_count": null,
   "id": "c02f550a-a3a8-4443-9f98-f1f112756a31",
   "metadata": {},
   "outputs": [],
   "source": [
    "%store -r df"
   ]
  },
  {
   "cell_type": "code",
   "execution_count": null,
   "id": "caa2ba75-9f83-4b73-a489-f2c9ecf212e2",
   "metadata": {},
   "outputs": [],
   "source": [
    "train = df.loc[df.index <= \"2009.12.31\"]\n",
    "test = df.loc[df.index > \"2009.12.31\"]\n",
    "\n",
    "train.shape, test.shape"
   ]
  },
  {
   "cell_type": "code",
   "execution_count": null,
   "id": "135ffd89-d153-447e-95de-82451275046a",
   "metadata": {},
   "outputs": [],
   "source": [
    "class RegressorModule(nn.Module):\n",
    "    def __init__(self):\n",
    "        super(RegressorModule, self).__init__()\n",
    "\n",
    "        self.dense0 = nn.Linear(57, 128)\n",
    "        self.nonlin0 = torch.tanh\n",
    "        self.dropout0 = nn.Dropout(0.05)\n",
    "        self.dense1 = nn.Linear(128, 64)\n",
    "        self.nonlin1 = torch.tanh\n",
    "        self.dropout1 = nn.Dropout(0.05)\n",
    "        self.dense2 = nn.Linear(64, 32)\n",
    "        self.nonlin2 = torch.tanh\n",
    "        self.dropout2 = nn.Dropout(0.05)\n",
    "        self.dense3 = nn.Linear(32, 16)\n",
    "        self.nonlin3 = torch.tanh\n",
    "        self.dropout3 = nn.Dropout(0.05)\n",
    "        self.dense4 = nn.Linear(16, 8)\n",
    "        self.nonlin4 = torch.tanh\n",
    "        self.output = nn.Linear(8, 1)\n",
    "\n",
    "    def forward(self, X):\n",
    "        X = self.nonlin0(self.dense0(X))\n",
    "        X = self.dropout0(X)\n",
    "        X = self.nonlin1(self.dense1(X))\n",
    "        X = self.dropout1(X)\n",
    "        X = self.nonlin2(self.dense2(X))\n",
    "        X = self.dropout2(X)\n",
    "        X = self.nonlin3(self.dense3(X))\n",
    "        X = self.dropout3(X)\n",
    "        X = self.nonlin4(self.dense4(X))\n",
    "        X = self.output(X)\n",
    "        return X.squeeze(-1)"
   ]
  },
  {
   "cell_type": "code",
   "execution_count": null,
   "id": "d361f992-c058-48c0-8df8-e5dd36d87239",
   "metadata": {},
   "outputs": [],
   "source": [
    "\n",
    "bestparams = []\n",
    "predictions = []\n",
    "naive_predictions = []\n",
    "train_end_dates = []\n",
    "\n",
    "naive_mean = DummyRegressor(strategy=\"mean\")\n",
    "\n",
    "for i in np.arange(2009,2019,1):\n",
    "    train_realtime = df.loc[pd.to_datetime(df.index).year <= i]\n",
    "    test_realtime = df.loc[(pd.to_datetime(df.index).year > i) & (pd.to_datetime(df.index).year < i+2)]\n",
    "\n",
    "    X_train, y_train = train_realtime.drop([\"EXCESS_RETURN_T+1\"], axis=1).values.astype('float32'), train_realtime[\"EXCESS_RETURN_T+1\"].values.astype('float32')\n",
    "    X_test, y_test = test_realtime.drop([\"EXCESS_RETURN_T+1\"], axis=1).values.astype('float32'), test_realtime[\"EXCESS_RETURN_T+1\"].values.astype('float32')\n",
    "\n",
    "    net_regr = NeuralNetRegressor(\n",
    "            RegressorModule,\n",
    "            max_epochs=100,\n",
    "            optimizer=torch.optim.Adam,\n",
    "            optimizer__lr=0.01,\n",
    "            optimizer__weight_decay=0.1,\n",
    "            device=device,\n",
    "            train_split= dataset.ValidSplit(cv=0.2), \n",
    "            criterion = torch.nn.MSELoss,\n",
    "            batch_size=2048,\n",
    "            iterator_train__shuffle=True,\n",
    "            callbacks=[EarlyStopping(patience=5,monitor='valid_loss',threshold=0.001), LRScheduler(policy='WarmRestartLR', monitor='train_loss'),\n",
    "                       GradientNormClipping(gradient_clip_value=None)],\n",
    "            verbose=0\n",
    "    )\n",
    "\n",
    "    bag = BaggingRegressor(net_regr, n_estimators=10)\n",
    "        \n",
    "    bag.fit(X_train, y_train)\n",
    "    naive_mean.fit(X_train, y_train)\n",
    "\n",
    "    predictions.extend(bag.predict(X_test).tolist())\n",
    "    naive_predictions.extend(naive_mean.predict(X_test).tolist())\n",
    "    train_end_dates.append(pd.to_datetime(train_realtime.index[-1]).strftime('%Y-%m-%d'))"
   ]
  },
  {
   "cell_type": "code",
   "execution_count": null,
   "id": "19b21de3-8a88-438d-9008-6e0fc4bbcc2b",
   "metadata": {},
   "outputs": [],
   "source": [
    "print(\"zeroOOSR2\", modOOSR2(test[\"EXCESS_RETURN_T+1\"].values, np.array(predictions)))\n",
    "print(\"meanOOSR2: \", OOSR2(\n",
    "    test[\"EXCESS_RETURN_T+1\"].values, \n",
    "    np.array(predictions), \n",
    "    np.array(naive_predictions)\n",
    "))"
   ]
  }
 ],
 "metadata": {
  "kernelspec": {
   "display_name": "Python 3 (ipykernel)",
   "language": "python",
   "name": "python3"
  },
  "language_info": {
   "codemirror_mode": {
    "name": "ipython",
    "version": 3
   },
   "file_extension": ".py",
   "mimetype": "text/x-python",
   "name": "python",
   "nbconvert_exporter": "python",
   "pygments_lexer": "ipython3",
   "version": "3.10.6"
  }
 },
 "nbformat": 4,
 "nbformat_minor": 5
}
