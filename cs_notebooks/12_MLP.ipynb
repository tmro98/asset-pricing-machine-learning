{
 "cells": [
  {
   "cell_type": "code",
   "execution_count": null,
   "id": "554dd17f-a5c0-4631-9055-c08f32661192",
   "metadata": {},
   "outputs": [],
   "source": [
    "import numpy as np\n",
    "import pandas as pd\n",
    "import matplotlib.pyplot as plt\n",
    "import datetime\n",
    "\n",
    "from sklearn.ensemble import BaggingRegressor\n",
    "from sklearn.neural_network import MLPRegressor\n",
    "from sklearn.model_selection import GridSearchCV\n",
    "from sklearn.pipeline import Pipeline\n",
    "from sklearn.dummy import DummyRegressor\n",
    "from sklearn.utils.fixes import loguniform \n",
    "\n",
    "import scipy.stats as stats\n",
    "\n",
    "from panel_utils import *"
   ]
  },
  {
   "cell_type": "code",
   "execution_count": null,
   "id": "408c6172-38b6-4bd7-8656-424d01b41bf1",
   "metadata": {},
   "outputs": [],
   "source": [
    "df = pd.read_csv(\"../_data/panelbigcap.csv\", index_col=\"Date\")\n",
    "df = df.loc[df.index <= \"2019.12.31\"]\n",
    "scale_interact_sort(df=df, micro_cols=micro_cols, macro_cols=macro_cols, interact=False)\n",
    "df = df.round(4)"
   ]
  },
  {
   "cell_type": "code",
   "execution_count": null,
   "id": "c02f550a-a3a8-4443-9f98-f1f112756a31",
   "metadata": {},
   "outputs": [],
   "source": [
    "%store -r df"
   ]
  },
  {
   "cell_type": "code",
   "execution_count": null,
   "id": "caa2ba75-9f83-4b73-a489-f2c9ecf212e2",
   "metadata": {},
   "outputs": [],
   "source": [
    "train = df.loc[df.index <= \"2009.12.31\"]\n",
    "test = df.loc[df.index > \"2009.12.31\"]\n",
    "\n",
    "train.shape, test.shape"
   ]
  },
  {
   "cell_type": "code",
   "execution_count": null,
   "id": "d361f992-c058-48c0-8df8-e5dd36d87239",
   "metadata": {},
   "outputs": [],
   "source": [
    "bestparams = []\n",
    "predictions = []\n",
    "naive_predictions = []\n",
    "train_end_dates = []\n",
    "\n",
    "naive_mean = DummyRegressor(strategy=\"mean\")\n",
    "\n",
    "for i in np.arange(2009,2019,1):\n",
    "    train_realtime = df.loc[pd.to_datetime(df.index).year <= i]\n",
    "    test_realtime = df.loc[(pd.to_datetime(df.index).year > i) & (pd.to_datetime(df.index).year < i+2)]\n",
    "\n",
    "    X_train, y_train = train_realtime.drop([\"EXCESS_RETURN_T+1\"], axis=1), train_realtime[\"EXCESS_RETURN_T+1\"]\n",
    "    X_test, y_test = test_realtime.drop([\"EXCESS_RETURN_T+1\"], axis=1), test_realtime[\"EXCESS_RETURN_T+1\"]\n",
    "\n",
    "    mlp = MLPRegressor(hidden_layer_sizes=\"passthrough\",activation='tanh',solver=\"adam\")\n",
    "\n",
    "    pipeline = Pipeline([\n",
    "        ('regressor', BaggingRegressor(mlp,n_estimators=10))\n",
    "    ])\n",
    "\n",
    "    param_grid = {\n",
    "        'regressor__base_estimator__hidden_layer_sizes': [(128,64,32,16,8)],\n",
    "        'regressor__base_estimator__alpha': [1000],\n",
    "        'regressor__base_estimator__early_stopping': [True],\n",
    "        'regressor__base_estimator__max_iter': [100],\n",
    "        'regressor__base_estimator__n_iter_no_change': [10],\n",
    "        \"regressor__base_estimator__learning_rate_init\":[0.001],\n",
    "        \"regressor__base_estimator__batch_size\":[5000],\n",
    "        \"regressor__base_estimator__tol\":[0.0001],\n",
    "\n",
    "        }\n",
    "\n",
    "    grid_search = GridSearchCV(\n",
    "            estimator = pipeline,\n",
    "            param_grid = param_grid,\n",
    "            scoring = \"neg_mean_squared_error\",\n",
    "            refit = \"neg_mean_squared_error\",\n",
    "            cv = holdout_cv(X_train, n_test = 4),\n",
    "            n_jobs=-1,\n",
    "    )\n",
    "\n",
    "    grid_search.fit(X_train, y_train)\n",
    "    naive_mean.fit(X_train, y_train)\n",
    "\n",
    "    predictions.extend(grid_search.predict(X_test).tolist())\n",
    "    naive_predictions.extend(naive_mean.predict(X_test).tolist())\n",
    "    bestparams.append(grid_search.best_params_)\n",
    "    train_end_dates.append(pd.to_datetime(train_realtime.index[-1]).strftime('%Y-%m-%d'))\n",
    "\n",
    "    print(\"train end\",i)\n",
    "    print(\"val MSE\",grid_search.best_score_)"
   ]
  },
  {
   "cell_type": "code",
   "execution_count": null,
   "id": "19b21de3-8a88-438d-9008-6e0fc4bbcc2b",
   "metadata": {},
   "outputs": [],
   "source": [
    "print(\"zeroOOSR2\", modOOSR2(test[\"EXCESS_RETURN_T+1\"].values, np.array(predictions)))\n",
    "print(\"meanOOSR2: \", OOSR2(\n",
    "    test[\"EXCESS_RETURN_T+1\"].values, \n",
    "    np.array(predictions), \n",
    "    np.array(naive_predictions)\n",
    "))"
   ]
  },
  {
   "cell_type": "code",
   "execution_count": null,
   "id": "7a9f0051-8ef8-4583-a7bd-932e28fd5bec",
   "metadata": {},
   "outputs": [],
   "source": [
    "alphalist = []\n",
    "\n",
    "for paramdict in bestparams:\n",
    "    alphalist.append( paramdict['regressor__alpha'])\n",
    "    \n",
    "fig, ax = plt.subplots(figsize=(9,3))\n",
    "ax.plot(train_end_dates, alphalist)\n",
    "ax.set_xlabel('date')\n",
    "ax.set_ylabel('param')\n",
    "\n",
    "plt.plot()"
   ]
  }
 ],
 "metadata": {
  "kernelspec": {
   "display_name": "Python 3 (ipykernel)",
   "language": "python",
   "name": "python3"
  },
  "language_info": {
   "codemirror_mode": {
    "name": "ipython",
    "version": 3
   },
   "file_extension": ".py",
   "mimetype": "text/x-python",
   "name": "python",
   "nbconvert_exporter": "python",
   "pygments_lexer": "ipython3",
   "version": "3.10.6"
  }
 },
 "nbformat": 4,
 "nbformat_minor": 5
}
