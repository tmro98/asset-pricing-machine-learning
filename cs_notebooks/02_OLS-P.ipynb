{
 "cells": [
  {
   "cell_type": "code",
   "execution_count": 1,
   "id": "5c51c5b7-4a02-4408-997f-c44e82aedc34",
   "metadata": {},
   "outputs": [],
   "source": [
    "import numpy as np\n",
    "import pandas as pd\n",
    "import matplotlib.pyplot as plt\n",
    "import datetime\n",
    "\n",
    "from sklearn.linear_model import LinearRegression\n",
    "from sklearn.model_selection import GridSearchCV\n",
    "from sklearn.pipeline import Pipeline\n",
    "from sklearn.dummy import DummyRegressor\n",
    "\n",
    "from panel_utils import *"
   ]
  },
  {
   "cell_type": "code",
   "execution_count": null,
   "id": "6c2ac841-aace-4810-88b8-fdb0f9a0ef63",
   "metadata": {},
   "outputs": [],
   "source": [
    "df = pd.read_csv(\"../_data/panelbigcap.csv\", index_col=\"Date\")\n",
    "df = df.loc[df.index <= \"2019.12.31\"]\n",
    "scale_interact_sort(df=df, micro_cols=micro_cols, macro_cols=macro_cols, interact=False)\n",
    "df = df.round(4)"
   ]
  },
  {
   "cell_type": "code",
   "execution_count": 11,
   "id": "f19de35c-ef49-42a6-bc14-8b143836673b",
   "metadata": {},
   "outputs": [],
   "source": [
    "%store -r df"
   ]
  },
  {
   "cell_type": "code",
   "execution_count": 12,
   "id": "a9efc865-aad3-4d4c-8875-cc8712e96645",
   "metadata": {},
   "outputs": [
    {
     "data": {
      "text/plain": [
       "((235787, 58), (162912, 58))"
      ]
     },
     "execution_count": 12,
     "metadata": {},
     "output_type": "execute_result"
    }
   ],
   "source": [
    "train = df.loc[df.index <= \"2009.12.31\"]\n",
    "test = df.loc[df.index > \"2009.12.31\"]\n",
    "\n",
    "train.shape, test.shape"
   ]
  },
  {
   "cell_type": "code",
   "execution_count": 13,
   "id": "6d157100-f776-4ac9-bb32-c80eb98436e6",
   "metadata": {},
   "outputs": [
    {
     "name": "stdout",
     "output_type": "stream",
     "text": [
      "train end 2009\n",
      "train end 2010\n",
      "train end 2011\n",
      "train end 2012\n",
      "train end 2013\n",
      "train end 2014\n",
      "train end 2015\n",
      "train end 2016\n",
      "train end 2017\n",
      "train end 2018\n"
     ]
    }
   ],
   "source": [
    "predictions = []\n",
    "naive_predictions = []\n",
    "train_end_dates = []\n",
    "\n",
    "naive_mean = DummyRegressor(strategy=\"mean\")\n",
    "\n",
    "for i in np.arange(2009,2019,1):\n",
    "    train_realtime = df.loc[pd.to_datetime(df.index).year <= i]\n",
    "    test_realtime = df.loc[(pd.to_datetime(df.index).year > i) & (pd.to_datetime(df.index).year < i+2)]\n",
    "    \n",
    "    X_train, y_train = train_realtime.drop([\"EXCESS_RETURN_T+1\"], axis=1), train_realtime[\"EXCESS_RETURN_T+1\"]\n",
    "    X_test, y_test = test_realtime.drop([\"EXCESS_RETURN_T+1\"], axis=1), test_realtime[\"EXCESS_RETURN_T+1\"]\n",
    "    \n",
    "    pipeline = Pipeline([\n",
    "        (\"regressor\", LinearRegression(positive=True,fit_intercept=False)) \n",
    "    ])\n",
    "    \n",
    "    param_grid = {\n",
    "     'regressor__positive':[True]\n",
    "     }\n",
    "    \n",
    "    grid_search = GridSearchCV(\n",
    "         estimator = pipeline,\n",
    "         param_grid = param_grid,\n",
    "         scoring = \"neg_mean_squared_error\",\n",
    "         refit = \"neg_mean_squared_error\",\n",
    "         cv = holdout_cv(X_train, n_test = 4),\n",
    "         n_jobs = -1,\n",
    "     )\n",
    "\n",
    "    grid_search.fit(X_train, y_train)\n",
    "    naive_mean.fit(X_train, y_train)\n",
    "\n",
    "    predictions.extend(grid_search.predict(X_test).tolist())\n",
    "    naive_predictions.extend(naive_mean.predict(X_test).tolist())\n",
    "   # bestparams.append(grid_search.best_params_)\n",
    "    train_end_dates.append(pd.to_datetime(train_realtime.index[-1]).strftime('%Y-%m-%d'))\n",
    "    \n",
    "    print(\"train end\",i)"
   ]
  },
  {
   "cell_type": "code",
   "execution_count": 14,
   "id": "a2c1c482-3b40-4df2-a93b-a0b808af11f0",
   "metadata": {},
   "outputs": [
    {
     "name": "stdout",
     "output_type": "stream",
     "text": [
      "zeroOOSR2 0.017988596071414786\n",
      "meanOOSR2:  -0.0008731829222354826\n"
     ]
    }
   ],
   "source": [
    "print(\"zeroOOSR2\", modOOSR2(test[\"EXCESS_RETURN_T+1\"].values, np.array(predictions)))\n",
    "print(\"meanOOSR2: \", OOSR2(\n",
    "    test[\"EXCESS_RETURN_T+1\"].values, \n",
    "    np.array(predictions), \n",
    "    np.array(naive_predictions)\n",
    "))"
   ]
  },
  {
   "cell_type": "code",
   "execution_count": null,
   "id": "c549ed54-ffb4-470a-84b8-11e8b3647549",
   "metadata": {},
   "outputs": [],
   "source": []
  }
 ],
 "metadata": {
  "kernelspec": {
   "display_name": "Python 3",
   "language": "python",
   "name": "python3"
  },
  "language_info": {
   "codemirror_mode": {
    "name": "ipython",
    "version": 3
   },
   "file_extension": ".py",
   "mimetype": "text/x-python",
   "name": "python",
   "nbconvert_exporter": "python",
   "pygments_lexer": "ipython3",
   "version": "3.9.2"
  }
 },
 "nbformat": 4,
 "nbformat_minor": 5
}
