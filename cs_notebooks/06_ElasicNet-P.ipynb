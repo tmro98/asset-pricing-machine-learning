{
 "cells": [
  {
   "cell_type": "code",
   "execution_count": 1,
   "id": "554dd17f-a5c0-4631-9055-c08f32661192",
   "metadata": {},
   "outputs": [],
   "source": [
    "import numpy as np\n",
    "import pandas as pd\n",
    "import matplotlib.pyplot as plt\n",
    "import datetime\n",
    "\n",
    "from sklearn.linear_model import ElasticNet\n",
    "from sklearn.model_selection import RandomizedSearchCV\n",
    "from sklearn.pipeline import Pipeline\n",
    "from sklearn.dummy import DummyRegressor\n",
    "from sklearn.feature_selection import SelectKBest\n",
    "from sklearn.feature_selection import f_regression \n",
    "from sklearn.utils.fixes import loguniform\n",
    "\n",
    "import scipy.stats as stats\n",
    "\n",
    "from panel_utils import *"
   ]
  },
  {
   "cell_type": "code",
   "execution_count": null,
   "id": "466feacb-4dac-406f-bf69-02f8630653a2",
   "metadata": {},
   "outputs": [],
   "source": [
    "df = pd.read_csv(\"../_data/panelbigcap.csv\", index_col=\"Date\")\n",
    "df = df.loc[df.index <= \"2019.12.31\"]\n",
    "scale_interact_sort(df=df, micro_cols=micro_cols, macro_cols=macro_cols, interact=False)\n",
    "df = df.round(4)"
   ]
  },
  {
   "cell_type": "code",
   "execution_count": 2,
   "id": "9fcd94cc-6aa6-4e49-bb8e-ef27e696b70a",
   "metadata": {},
   "outputs": [],
   "source": [
    "%store -r df"
   ]
  },
  {
   "cell_type": "code",
   "execution_count": 3,
   "id": "caa2ba75-9f83-4b73-a489-f2c9ecf212e2",
   "metadata": {},
   "outputs": [
    {
     "data": {
      "text/plain": [
       "((235787, 58), (162912, 58))"
      ]
     },
     "execution_count": 3,
     "metadata": {},
     "output_type": "execute_result"
    }
   ],
   "source": [
    "train = df.loc[df.index <= \"2009.12.31\"]\n",
    "test = df.loc[df.index > \"2009.12.31\"]\n",
    "\n",
    "train.shape, test.shape"
   ]
  },
  {
   "cell_type": "code",
   "execution_count": 8,
   "id": "b5cea9e6-a7cd-4f9b-b2d9-efaecbd20b14",
   "metadata": {},
   "outputs": [
    {
     "name": "stdout",
     "output_type": "stream",
     "text": [
      "train end 2009\n",
      "val MSE -0.018329837116136508\n",
      "train end 2010\n",
      "val MSE -0.01907782218003399\n",
      "train end 2011\n",
      "val MSE -0.01958718910872316\n",
      "train end 2012\n",
      "val MSE -0.014752689985995165\n",
      "train end 2013\n",
      "val MSE -0.00936709241001905\n",
      "train end 2014\n",
      "val MSE -0.008448289964489673\n",
      "train end 2015\n",
      "val MSE -0.008208139464143702\n",
      "train end 2016\n",
      "val MSE -0.008988074549730224\n",
      "train end 2017\n",
      "val MSE -0.008768078436378595\n",
      "train end 2018\n",
      "val MSE -0.009723504139194646\n"
     ]
    }
   ],
   "source": [
    "bestparams = []\n",
    "predictions = []\n",
    "naive_predictions = []\n",
    "train_end_dates = []\n",
    "\n",
    "naive_mean = DummyRegressor(strategy=\"mean\")\n",
    "\n",
    "for i in np.arange(2009,2019,1):\n",
    "    train_realtime = df.loc[pd.to_datetime(df.index).year <= i]\n",
    "    test_realtime = df.loc[(pd.to_datetime(df.index).year > i) & (pd.to_datetime(df.index).year < i+2)]\n",
    "    \n",
    "    X_train, y_train = train_realtime.drop([\"EXCESS_RETURN_T+1\"], axis=1), train_realtime[\"EXCESS_RETURN_T+1\"]\n",
    "    X_test, y_test = test_realtime.drop([\"EXCESS_RETURN_T+1\"], axis=1), test_realtime[\"EXCESS_RETURN_T+1\"]\n",
    "    \n",
    "    pipeline = Pipeline([\n",
    "   # ('feature_selection', SelectKBest(score_func=f_regression)),\n",
    "    (\"regressor\", ElasticNet(fit_intercept = False, positive=True))\n",
    "    ])\n",
    "\n",
    "    param_grid = {\n",
    "    \"regressor__alpha\": loguniform(0.001,10),\n",
    "    \"regressor__l1_ratio\": stats.uniform(0,1),\n",
    "   # 'feature_selection__k':[i for i in np.arange(1,58)]\n",
    "    }\n",
    "\n",
    "    grid_search = RandomizedSearchCV(\n",
    "        estimator = pipeline,\n",
    "        param_distributions = param_grid,\n",
    "        scoring = \"neg_mean_squared_error\",\n",
    "        refit = \"neg_mean_squared_error\",\n",
    "        cv = holdout_cv(X_train, n_test = 4),\n",
    "        n_iter=100,\n",
    "        n_jobs = -1,\n",
    "    )\n",
    "\n",
    "    grid_search.fit(X_train, y_train)\n",
    "    naive_mean.fit(X_train, y_train)\n",
    "\n",
    "    predictions.extend(grid_search.predict(X_test).tolist())\n",
    "    naive_predictions.extend(naive_mean.predict(X_test).tolist())\n",
    "    bestparams.append(grid_search.best_params_)\n",
    "    train_end_dates.append(pd.to_datetime(train_realtime.index[-1]).strftime('%Y-%m-%d'))\n",
    "    \n",
    "    print(\"train end\",i)\n",
    "    print(\"val MSE\",grid_search.best_score_)"
   ]
  },
  {
   "cell_type": "code",
   "execution_count": 9,
   "id": "bfde1a87-e54b-406f-a236-5c812142a6c6",
   "metadata": {},
   "outputs": [
    {
     "name": "stdout",
     "output_type": "stream",
     "text": [
      "zeroOOSR2 0.018290416564553325\n",
      "meanOOSR2:  -0.0005655652749960716\n"
     ]
    }
   ],
   "source": [
    "print(\"zeroOOSR2\", modOOSR2(test[\"EXCESS_RETURN_T+1\"].values, np.array(predictions)))\n",
    "print(\"meanOOSR2: \", OOSR2(\n",
    "    test[\"EXCESS_RETURN_T+1\"].values, \n",
    "    np.array(predictions), \n",
    "    np.array(naive_predictions)\n",
    "))"
   ]
  },
  {
   "cell_type": "code",
   "execution_count": 31,
   "id": "62f192a1-f9ff-4874-bf2d-8bd2f3797d7d",
   "metadata": {},
   "outputs": [
    {
     "data": {
      "text/plain": [
       "[]"
      ]
     },
     "execution_count": 31,
     "metadata": {},
     "output_type": "execute_result"
    },
    {
     "data": {
      "image/png": "[encoded data removed]",
      "text/plain": [
       "<Figure size 648x216 with 1 Axes>"
      ]
     },
     "metadata": {
      "needs_background": "light"
     },
     "output_type": "display_data"
    }
   ],
   "source": [
    "alphalist = []\n",
    "ratiolist = []\n",
    "\n",
    "for paramdict in bestparams:\n",
    "    alphalist.append( paramdict['regressor__alpha'])\n",
    "    ratiolist.append( paramdict['regressor__l1_ratio'])\n",
    "\n",
    "    \n",
    "fig, ax = plt.subplots(figsize=(9,3))\n",
    "ax.plot(train_end_dates, alphalist)\n",
    "ax.set_xlabel('date')\n",
    "ax.set_ylabel('param')\n",
    "\n",
    "plt.plot()"
   ]
  },
  {
   "cell_type": "code",
   "execution_count": 32,
   "id": "1c4e07c9-e88c-461f-8dee-dfe61f2e55dd",
   "metadata": {},
   "outputs": [
    {
     "data": {
      "text/plain": [
       "[]"
      ]
     },
     "execution_count": 32,
     "metadata": {},
     "output_type": "execute_result"
    },
    {
     "data": {
      "image/png": "[encoded data removed]",
      "text/plain": [
       "<Figure size 648x216 with 1 Axes>"
      ]
     },
     "metadata": {
      "needs_background": "light"
     },
     "output_type": "display_data"
    }
   ],
   "source": [
    "fig, ax = plt.subplots(figsize=(9,3))\n",
    "ax.plot(train_end_dates, ratiolist)\n",
    "ax.set_xlabel('date')\n",
    "ax.set_ylabel('param')\n",
    "\n",
    "plt.plot()"
   ]
  },
  {
   "cell_type": "code",
   "execution_count": null,
   "id": "3f7e1108-0b04-4fce-bab4-be2c7fd631ca",
   "metadata": {},
   "outputs": [],
   "source": []
  }
 ],
 "metadata": {
  "kernelspec": {
   "display_name": "Python 3",
   "language": "python",
   "name": "python3"
  },
  "language_info": {
   "codemirror_mode": {
    "name": "ipython",
    "version": 3
   },
   "file_extension": ".py",
   "mimetype": "text/x-python",
   "name": "python",
   "nbconvert_exporter": "python",
   "pygments_lexer": "ipython3",
   "version": "3.9.2"
  }
 },
 "nbformat": 4,
 "nbformat_minor": 5
}
