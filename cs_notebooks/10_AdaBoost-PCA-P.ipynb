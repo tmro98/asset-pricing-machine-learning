{
 "cells": [
  {
   "cell_type": "code",
   "execution_count": 1,
   "id": "acff9cd0-0c9f-4db6-995b-463dee0acc0b",
   "metadata": {},
   "outputs": [],
   "source": [
    "import numpy as np\n",
    "import pandas as pd\n",
    "import matplotlib.pyplot as plt\n",
    "\n",
    "from sklearn.pipeline import Pipeline\n",
    "from sklearn.linear_model import LinearRegression\n",
    "from sklearn.decomposition import PCA\n",
    "from sklearn.ensemble import AdaBoostRegressor\n",
    "from sklearn.model_selection import TimeSeriesSplit\n",
    "from sklearn.model_selection import GridSearchCV, RandomizedSearchCV\n",
    "from sklearn.pipeline import Pipeline\n",
    "from sklearn.dummy import DummyRegressor\n",
    "from sklearn.utils.fixes import loguniform\n",
    "\n",
    "import scipy.stats as stats\n",
    "\n",
    "from panel_utils import *"
   ]
  },
  {
   "cell_type": "code",
   "execution_count": 2,
   "id": "5f30951b-41bc-425c-aa59-e59b6682220d",
   "metadata": {},
   "outputs": [],
   "source": [
    "df = pd.read_csv(\"../_data/panelbigcap.csv\", index_col=\"Date\")\n",
    "df = df.loc[df.index <= \"2019.12.31\"]\n",
    "scale_interact_sort(df=df, micro_cols=micro_cols, macro_cols=macro_cols, interact=False)\n",
    "df = df.round(4)"
   ]
  },
  {
   "cell_type": "code",
   "execution_count": 2,
   "id": "c445bc9b-8cec-4e65-ab1a-2080c0f9819c",
   "metadata": {},
   "outputs": [],
   "source": [
    "%store -r df"
   ]
  },
  {
   "cell_type": "code",
   "execution_count": 3,
   "id": "da684514-3b67-4418-ae1e-12ce2e4d13c3",
   "metadata": {},
   "outputs": [
    {
     "data": {
      "text/plain": [
       "((235787, 58), (162912, 58))"
      ]
     },
     "execution_count": 3,
     "metadata": {},
     "output_type": "execute_result"
    }
   ],
   "source": [
    "train = df.loc[df.index <= \"2009.12.31\"]\n",
    "test = df.loc[df.index > \"2009.12.31\"]\n",
    "\n",
    "train.shape, test.shape"
   ]
  },
  {
   "cell_type": "code",
   "execution_count": 13,
   "id": "c43a56f5-2253-4b19-9bde-e68787d71492",
   "metadata": {},
   "outputs": [
    {
     "name": "stdout",
     "output_type": "stream",
     "text": [
      "train end 2009\n",
      "val MSE -0.01846028803966464\n",
      "train end 2010\n",
      "val MSE -0.01912861062463576\n",
      "train end 2011\n",
      "val MSE -0.019602461706332973\n",
      "train end 2012\n",
      "val MSE -0.014696299597458955\n",
      "train end 2013\n",
      "val MSE -0.009288410322973766\n",
      "train end 2014\n",
      "val MSE -0.00836697008876247\n",
      "train end 2015\n",
      "val MSE -0.008146931461235019\n",
      "train end 2016\n",
      "val MSE -0.008933470292546633\n",
      "train end 2017\n",
      "val MSE -0.008728460524284776\n",
      "train end 2018\n",
      "val MSE -0.00970110834492838\n"
     ]
    }
   ],
   "source": [
    "bestparams = []\n",
    "predictions = []\n",
    "naive_predictions = []\n",
    "train_end_dates = []\n",
    "\n",
    "naive_mean = DummyRegressor(strategy=\"mean\")\n",
    "\n",
    "for i in np.arange(2009,2019,1):\n",
    "    train_realtime = df.loc[pd.to_datetime(df.index).year <= i]\n",
    "    test_realtime = df.loc[(pd.to_datetime(df.index).year > i) & (pd.to_datetime(df.index).year < i+2)]\n",
    "    \n",
    "    X_train, y_train = train_realtime.drop([\"EXCESS_RETURN_T+1\"], axis=1), train_realtime[\"EXCESS_RETURN_T+1\"]\n",
    "    X_test, y_test = test_realtime.drop([\"EXCESS_RETURN_T+1\"], axis=1), test_realtime[\"EXCESS_RETURN_T+1\"]\n",
    "\n",
    "    est = Pipeline([\n",
    "        (\"pca\", PCA()),\n",
    "        ('regressor', LinearRegression())\n",
    "        ])\n",
    "\n",
    "    estimator = AdaBoostRegressor(base_estimator=est)\n",
    "    \n",
    "    param_grid = {\n",
    "    \"n_estimators\": [2,3,4,5],\n",
    "    \"learning_rate\": [0.05,0.1,0.25],\n",
    "    'loss': [\"square\"],\n",
    "    \"base_estimator__pca__n_components\": [1,2,4,6,8],\n",
    "    'base_estimator__regressor__positive': [True],\n",
    "    'base_estimator__regressor__fit_intercept': [True],\n",
    "    }\n",
    "\n",
    "    grid_search = GridSearchCV(\n",
    "        estimator = estimator,\n",
    "        param_grid = param_grid,\n",
    "        scoring = \"neg_mean_squared_error\",\n",
    "        refit = \"neg_mean_squared_error\",\n",
    "        cv = holdout_cv(X_train, n_test = 4),\n",
    "        n_jobs=-1,\n",
    "        pre_dispatch=4\n",
    "    )\n",
    "\n",
    "    grid_search.fit(X_train, y_train)\n",
    "    naive_mean.fit(X_train, y_train)\n",
    "\n",
    "    predictions.extend(grid_search.predict(X_test).tolist())\n",
    "    naive_predictions.extend(naive_mean.predict(X_test).tolist())\n",
    "    bestparams.append(grid_search.best_params_)\n",
    "    train_end_dates.append(pd.to_datetime(train_realtime.index[-1]).strftime('%Y-%m-%d'))\n",
    "    \n",
    "    print(\"train end\",i)\n",
    "    print(\"val MSE\",grid_search.best_score_)"
   ]
  },
  {
   "cell_type": "code",
   "execution_count": 14,
   "id": "a2eddad2-736c-467b-a103-9500f4c11e74",
   "metadata": {},
   "outputs": [
    {
     "name": "stdout",
     "output_type": "stream",
     "text": [
      "zeroOOSR2 0.02317849056126675\n",
      "meanOOSR2:  0.0044163953823628255\n"
     ]
    }
   ],
   "source": [
    "print(\"zeroOOSR2\", modOOSR2(test[\"EXCESS_RETURN_T+1\"].values, np.array(predictions)))\n",
    "print(\"meanOOSR2: \", OOSR2(\n",
    "    test[\"EXCESS_RETURN_T+1\"].values, \n",
    "    np.array(predictions), \n",
    "    np.array(naive_predictions)\n",
    "))"
   ]
  },
  {
   "cell_type": "code",
   "execution_count": 9,
   "id": "f46ff44a-d40e-495c-98ea-9665f91a9eb5",
   "metadata": {},
   "outputs": [
    {
     "data": {
      "text/plain": [
       "[]"
      ]
     },
     "execution_count": 9,
     "metadata": {},
     "output_type": "execute_result"
    },
    {
     "data": {
      "image/png": "[encoded data removed]",
      "text/plain": [
       "<Figure size 648x216 with 1 Axes>"
      ]
     },
     "metadata": {
      "needs_background": "light"
     },
     "output_type": "display_data"
    }
   ],
   "source": [
    "nlist = []\n",
    "\n",
    "for paramdict in bestparams:\n",
    "    nlist.append( paramdict['n_estimators'])\n",
    "    \n",
    "fig, ax = plt.subplots(figsize=(9,3))\n",
    "ax.plot(train_end_dates, nlist)\n",
    "ax.set_xlabel('date')\n",
    "ax.set_ylabel('param')\n",
    "\n",
    "plt.plot()"
   ]
  },
  {
   "cell_type": "markdown",
   "id": "d2267583-4b75-4072-9c92-71ec877bb9c1",
   "metadata": {},
   "source": [
    "zeroOOSR2 0.02380334506584969\n",
    "meanOOSR2:  0.00505325164937076"
   ]
  },
  {
   "cell_type": "code",
   "execution_count": null,
   "id": "ba518340-e34a-4c05-9167-c6d3315972ed",
   "metadata": {},
   "outputs": [],
   "source": []
  }
 ],
 "metadata": {
  "kernelspec": {
   "display_name": "Python 3",
   "language": "python",
   "name": "python3"
  },
  "language_info": {
   "codemirror_mode": {
    "name": "ipython",
    "version": 3
   },
   "file_extension": ".py",
   "mimetype": "text/x-python",
   "name": "python",
   "nbconvert_exporter": "python",
   "pygments_lexer": "ipython3",
   "version": "3.9.2"
  }
 },
 "nbformat": 4,
 "nbformat_minor": 5
}
