{
 "cells": [
  {
   "cell_type": "code",
   "execution_count": null,
   "id": "acff9cd0-0c9f-4db6-995b-463dee0acc0b",
   "metadata": {},
   "outputs": [],
   "source": [
    "import numpy as np\n",
    "import pandas as pd\n",
    "import matplotlib.pyplot as plt\n",
    "\n",
    "from sklearn.pipeline import Pipeline\n",
    "from sklearn.linear_model import LinearRegression\n",
    "from sklearn.decomposition import PCA\n",
    "from sklearn.ensemble import AdaBoostRegressor\n",
    "from sklearn.model_selection import TimeSeriesSplit\n",
    "from sklearn.model_selection import GridSearchCV, RandomizedSearchCV\n",
    "from sklearn.pipeline import Pipeline\n",
    "from sklearn.dummy import DummyRegressor\n",
    "from sklearn.utils.fixes import loguniform\n",
    "\n",
    "import scipy.stats as stats\n",
    "\n",
    "from panel_utils import *\n"
   ]
  },
  {
   "cell_type": "code",
   "execution_count": null,
   "id": "5f30951b-41bc-425c-aa59-e59b6682220d",
   "metadata": {},
   "outputs": [],
   "source": [
    "df = pd.read_csv(\"../_data/panelbigcap.csv\", index_col=\"Date\")\n",
    "df = df.loc[df.index <= \"2019.12.31\"]\n",
    "scale_interact_sort(df=df, micro_cols=micro_cols, macro_cols=macro_cols, interact=False)\n",
    "df = df.round(4)\n"
   ]
  },
  {
   "cell_type": "code",
   "execution_count": null,
   "id": "c445bc9b-8cec-4e65-ab1a-2080c0f9819c",
   "metadata": {},
   "outputs": [],
   "source": [
    "%store -r df"
   ]
  },
  {
   "cell_type": "code",
   "execution_count": null,
   "id": "da684514-3b67-4418-ae1e-12ce2e4d13c3",
   "metadata": {},
   "outputs": [],
   "source": [
    "train = df.loc[df.index <= \"2009.12.31\"]\n",
    "test = df.loc[df.index > \"2009.12.31\"]\n",
    "\n",
    "train.shape, test.shape\n"
   ]
  },
  {
   "cell_type": "code",
   "execution_count": null,
   "id": "c43a56f5-2253-4b19-9bde-e68787d71492",
   "metadata": {},
   "outputs": [],
   "source": [
    "bestparams = []\n",
    "predictions = []\n",
    "naive_predictions = []\n",
    "train_end_dates = []\n",
    "\n",
    "naive_mean = DummyRegressor(strategy=\"mean\")\n",
    "\n",
    "for i in np.arange(2009, 2019, 1):\n",
    "    train_realtime = df.loc[pd.to_datetime(df.index).year <= i]\n",
    "    test_realtime = df.loc[\n",
    "        (pd.to_datetime(df.index).year > i) & (pd.to_datetime(df.index).year < i + 2)\n",
    "    ]\n",
    "\n",
    "    X_train, y_train = (\n",
    "        train_realtime.drop([\"EXCESS_RETURN_T+1\"], axis=1),\n",
    "        train_realtime[\"EXCESS_RETURN_T+1\"],\n",
    "    )\n",
    "    X_test, y_test = (\n",
    "        test_realtime.drop([\"EXCESS_RETURN_T+1\"], axis=1),\n",
    "        test_realtime[\"EXCESS_RETURN_T+1\"],\n",
    "    )\n",
    "\n",
    "    est = Pipeline([(\"pca\", PCA()), (\"regressor\", LinearRegression())])\n",
    "\n",
    "    estimator = AdaBoostRegressor(base_estimator=est)\n",
    "\n",
    "    param_grid = {\n",
    "        \"n_estimators\": [2, 3, 4, 5],\n",
    "        \"learning_rate\": [0.05, 0.1, 0.25],\n",
    "        \"loss\": [\"square\"],\n",
    "        \"base_estimator__pca__n_components\": [1, 2, 4, 6, 8],\n",
    "        \"base_estimator__regressor__positive\": [True],\n",
    "        \"base_estimator__regressor__fit_intercept\": [True],\n",
    "    }\n",
    "\n",
    "    grid_search = GridSearchCV(\n",
    "        estimator=estimator,\n",
    "        param_grid=param_grid,\n",
    "        scoring=\"neg_mean_squared_error\",\n",
    "        refit=\"neg_mean_squared_error\",\n",
    "        cv=holdout_cv(X_train, n_test=4),\n",
    "        n_jobs=-1,\n",
    "        pre_dispatch=4,\n",
    "    )\n",
    "\n",
    "    grid_search.fit(X_train, y_train)\n",
    "    naive_mean.fit(X_train, y_train)\n",
    "\n",
    "    predictions.extend(grid_search.predict(X_test).tolist())\n",
    "    naive_predictions.extend(naive_mean.predict(X_test).tolist())\n",
    "    bestparams.append(grid_search.best_params_)\n",
    "    train_end_dates.append(\n",
    "        pd.to_datetime(train_realtime.index[-1]).strftime(\"%Y-%m-%d\")\n",
    "    )\n",
    "\n",
    "    print(\"train end\", i)\n",
    "    print(\"val MSE\", grid_search.best_score_)\n"
   ]
  },
  {
   "cell_type": "code",
   "execution_count": null,
   "id": "a2eddad2-736c-467b-a103-9500f4c11e74",
   "metadata": {},
   "outputs": [],
   "source": [
    "print(\"zeroOOSR2\", modOOSR2(test[\"EXCESS_RETURN_T+1\"].values, np.array(predictions)))\n",
    "print(\n",
    "    \"meanOOSR2: \",\n",
    "    OOSR2(\n",
    "        test[\"EXCESS_RETURN_T+1\"].values,\n",
    "        np.array(predictions),\n",
    "        np.array(naive_predictions),\n",
    "    ),\n",
    ")\n"
   ]
  },
  {
   "cell_type": "code",
   "execution_count": null,
   "id": "f46ff44a-d40e-495c-98ea-9665f91a9eb5",
   "metadata": {},
   "outputs": [],
   "source": [
    "nlist = []\n",
    "\n",
    "for paramdict in bestparams:\n",
    "    nlist.append(paramdict[\"n_estimators\"])\n",
    "\n",
    "fig, ax = plt.subplots(figsize=(9, 3))\n",
    "ax.plot(train_end_dates, nlist)\n",
    "ax.set_xlabel(\"date\")\n",
    "ax.set_ylabel(\"param\")\n",
    "\n",
    "plt.plot()\n"
   ]
  },
  {
   "cell_type": "code",
   "execution_count": null,
   "id": "ba518340-e34a-4c05-9167-c6d3315972ed",
   "metadata": {},
   "outputs": [],
   "source": []
  }
 ],
 "metadata": {
  "kernelspec": {
   "display_name": "Python 3",
   "language": "python",
   "name": "python3"
  },
  "language_info": {
   "codemirror_mode": {
    "name": "ipython",
    "version": 3
   },
   "file_extension": ".py",
   "mimetype": "text/x-python",
   "name": "python",
   "nbconvert_exporter": "python",
   "pygments_lexer": "ipython3",
   "version": "3.9.2"
  }
 },
 "nbformat": 4,
 "nbformat_minor": 5
}
