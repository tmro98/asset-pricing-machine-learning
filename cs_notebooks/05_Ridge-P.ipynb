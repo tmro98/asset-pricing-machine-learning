{
 "cells": [
  {
   "cell_type": "code",
   "execution_count": 1,
   "id": "554dd17f-a5c0-4631-9055-c08f32661192",
   "metadata": {},
   "outputs": [],
   "source": [
    "import numpy as np\n",
    "import pandas as pd\n",
    "import matplotlib.pyplot as plt\n",
    "import datetime\n",
    "\n",
    "from sklearn.linear_model import Ridge\n",
    "from sklearn.model_selection import RandomizedSearchCV\n",
    "from sklearn.pipeline import Pipeline\n",
    "from sklearn.dummy import DummyRegressor\n",
    "from sklearn.feature_selection import SelectKBest\n",
    "from sklearn.feature_selection import f_regression \n",
    "from sklearn.utils.fixes import loguniform\n",
    "\n",
    "import scipy.stats as stats\n",
    "\n",
    "from panel_utils import *"
   ]
  },
  {
   "cell_type": "code",
   "execution_count": 3,
   "id": "8dea3faa-ec5d-4af5-9e93-ca55c16e24bc",
   "metadata": {},
   "outputs": [],
   "source": [
    "df = pd.read_csv(\"../_data/panelbigcap.csv\", index_col=\"Date\")\n",
    "df = df.loc[df.index <= \"2019.12.31\"]\n",
    "scale_interact_sort(df=df, micro_cols=micro_cols, macro_cols=macro_cols, interact=False)\n",
    "df = df.round(4)"
   ]
  },
  {
   "cell_type": "code",
   "execution_count": 2,
   "id": "9bcd7e21-0296-4b52-9833-9becce4b85d3",
   "metadata": {},
   "outputs": [],
   "source": [
    "%store -r df"
   ]
  },
  {
   "cell_type": "code",
   "execution_count": 3,
   "id": "caa2ba75-9f83-4b73-a489-f2c9ecf212e2",
   "metadata": {},
   "outputs": [
    {
     "data": {
      "text/plain": [
       "((235787, 58), (162912, 58))"
      ]
     },
     "execution_count": 3,
     "metadata": {},
     "output_type": "execute_result"
    }
   ],
   "source": [
    "train = df.loc[df.index <= \"2009.12.31\"]\n",
    "test = df.loc[df.index > \"2009.12.31\"]\n",
    "\n",
    "train.shape, test.shape"
   ]
  },
  {
   "cell_type": "code",
   "execution_count": 15,
   "id": "b5cea9e6-a7cd-4f9b-b2d9-efaecbd20b14",
   "metadata": {},
   "outputs": [
    {
     "name": "stdout",
     "output_type": "stream",
     "text": [
      "train end 2009\n",
      "val MSE -0.01845898258670394\n",
      "train end 2010\n",
      "val MSE -0.01919842537914061\n",
      "train end 2011\n",
      "val MSE -0.019671856772786715\n",
      "train end 2012\n",
      "val MSE -0.01487249853279875\n",
      "train end 2013\n",
      "val MSE -0.009387249952822831\n",
      "train end 2014\n",
      "val MSE -0.008438331359262408\n",
      "train end 2015\n",
      "val MSE -0.008213394447469897\n",
      "train end 2016\n",
      "val MSE -0.008991367870897632\n",
      "train end 2017\n",
      "val MSE -0.008762423389177506\n",
      "train end 2018\n",
      "val MSE -0.009739422249172415\n"
     ]
    }
   ],
   "source": [
    "bestparams = []\n",
    "predictions = []\n",
    "naive_predictions = []\n",
    "train_end_dates = []\n",
    "\n",
    "naive_mean = DummyRegressor(strategy=\"mean\")\n",
    "\n",
    "for i in np.arange(2009,2019,1):\n",
    "    train_realtime = df.loc[pd.to_datetime(df.index).year <= i]\n",
    "    test_realtime = df.loc[(pd.to_datetime(df.index).year > i) & (pd.to_datetime(df.index).year < i+2)]\n",
    "    \n",
    "    X_train, y_train = train_realtime.drop([\"EXCESS_RETURN_T+1\"], axis=1), train_realtime[\"EXCESS_RETURN_T+1\"]\n",
    "    X_test, y_test = test_realtime.drop([\"EXCESS_RETURN_T+1\"], axis=1), test_realtime[\"EXCESS_RETURN_T+1\"]\n",
    "    \n",
    "    pipeline = Pipeline([\n",
    "    (\"regressor\", Ridge(fit_intercept = False, positive=True))\n",
    "    ])\n",
    "\n",
    "    param_grid = {\n",
    "    \"regressor__alpha\": stats.uniform(0.1,10000),\n",
    "    }\n",
    "    \n",
    "    grid_search = RandomizedSearchCV(\n",
    "        estimator = pipeline,\n",
    "        param_distributions = param_grid,\n",
    "        scoring = \"neg_mean_squared_error\",\n",
    "        refit = \"neg_mean_squared_error\",\n",
    "        cv = holdout_cv(X_train, n_test = 4),\n",
    "        n_iter=500,\n",
    "        n_jobs = -1,\n",
    "    )\n",
    "\n",
    "    grid_search.fit(X_train, y_train)\n",
    "    naive_mean.fit(X_train, y_train)\n",
    "\n",
    "    predictions.extend(grid_search.predict(X_test).tolist())\n",
    "    naive_predictions.extend(naive_mean.predict(X_test).tolist())\n",
    "    bestparams.append(grid_search.best_params_)\n",
    "    train_end_dates.append(pd.to_datetime(train_realtime.index[-1]).strftime('%Y-%m-%d'))\n",
    "    \n",
    "    print(\"train end\",i)\n",
    "    print(\"val MSE\",grid_search.best_score_)"
   ]
  },
  {
   "cell_type": "code",
   "execution_count": 16,
   "id": "772ae1b9-ac2f-4920-a152-2eba04996f9f",
   "metadata": {},
   "outputs": [
    {
     "name": "stdout",
     "output_type": "stream",
     "text": [
      "zeroOOSR2 0.01766924050273122\n",
      "meanOOSR2:  -0.001198672446321991\n"
     ]
    }
   ],
   "source": [
    "print(\"zeroOOSR2\", modOOSR2(test[\"EXCESS_RETURN_T+1\"].values, np.array(predictions)))\n",
    "print(\"meanOOSR2: \", OOSR2(\n",
    "    test[\"EXCESS_RETURN_T+1\"].values, \n",
    "    np.array(predictions), \n",
    "    np.array(naive_predictions)\n",
    "))"
   ]
  },
  {
   "cell_type": "code",
   "execution_count": 14,
   "id": "81885597-6359-4c75-b2ad-2181906128da",
   "metadata": {},
   "outputs": [
    {
     "data": {
      "text/plain": [
       "[]"
      ]
     },
     "execution_count": 14,
     "metadata": {},
     "output_type": "execute_result"
    },
    {
     "data": {
      "image/png": "[encoded data removed]",
      "text/plain": [
       "<Figure size 648x216 with 1 Axes>"
      ]
     },
     "metadata": {
      "needs_background": "light"
     },
     "output_type": "display_data"
    }
   ],
   "source": [
    "alphalist = []\n",
    "\n",
    "for paramdict in bestparams:\n",
    "    alphalist.append( paramdict['regressor__alpha'])\n",
    "    \n",
    "fig, ax = plt.subplots(figsize=(9,3))\n",
    "ax.plot(train_end_dates, alphalist)\n",
    "ax.set_xlabel('date')\n",
    "ax.set_ylabel('param')\n",
    "\n",
    "plt.plot()"
   ]
  },
  {
   "cell_type": "code",
   "execution_count": null,
   "id": "b3b799bd-0629-441b-950d-7368abcb54b6",
   "metadata": {},
   "outputs": [],
   "source": []
  }
 ],
 "metadata": {
  "kernelspec": {
   "display_name": "Python 3 (ipykernel)",
   "language": "python",
   "name": "python3"
  },
  "language_info": {
   "codemirror_mode": {
    "name": "ipython",
    "version": 3
   },
   "file_extension": ".py",
   "mimetype": "text/x-python",
   "name": "python",
   "nbconvert_exporter": "python",
   "pygments_lexer": "ipython3",
   "version": "3.10.6"
  }
 },
 "nbformat": 4,
 "nbformat_minor": 5
}
