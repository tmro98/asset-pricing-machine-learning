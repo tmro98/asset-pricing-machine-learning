{
 "cells": [
  {
   "cell_type": "code",
   "execution_count": null,
   "id": "5c51c5b7-4a02-4408-997f-c44e82aedc34",
   "metadata": {},
   "outputs": [],
   "source": [
    "import numpy as np\n",
    "import pandas as pd\n",
    "import matplotlib.pyplot as plt\n",
    "import datetime\n",
    "\n",
    "from panel_utils import *\n",
    "\n",
    "from sklearn.utils.fixes import loguniform\n",
    "\n",
    "from sklearn.linear_model import HuberRegressor\n",
    "from sklearn.model_selection import RandomizedSearchCV\n",
    "from sklearn.pipeline import Pipeline\n",
    "from sklearn.dummy import DummyRegressor\n",
    "from sklearn.feature_selection import SelectKBest\n",
    "from sklearn.feature_selection import f_regression\n"
   ]
  },
  {
   "cell_type": "code",
   "execution_count": null,
   "id": "6c2ac841-aace-4810-88b8-fdb0f9a0ef63",
   "metadata": {},
   "outputs": [],
   "source": [
    "df = pd.read_csv(\"../_data/panelbigcap.csv\", index_col=\"Date\")\n",
    "df = df.loc[df.index <= \"2019.12.31\"]\n",
    "scale_interact_sort(df=df, micro_cols=micro_cols, macro_cols=macro_cols, interact=False)\n",
    "df = df.round(4)\n"
   ]
  },
  {
   "cell_type": "code",
   "execution_count": null,
   "id": "f19de35c-ef49-42a6-bc14-8b143836673b",
   "metadata": {},
   "outputs": [],
   "source": [
    "%store -r df"
   ]
  },
  {
   "cell_type": "code",
   "execution_count": null,
   "id": "a9efc865-aad3-4d4c-8875-cc8712e96645",
   "metadata": {},
   "outputs": [],
   "source": [
    "train = df.loc[df.index <= \"2009.12.31\"]\n",
    "test = df.loc[df.index > \"2009.12.31\"]\n",
    "\n",
    "train.shape, test.shape\n"
   ]
  },
  {
   "cell_type": "code",
   "execution_count": null,
   "id": "6d157100-f776-4ac9-bb32-c80eb98436e6",
   "metadata": {},
   "outputs": [],
   "source": [
    "bestparams = []\n",
    "predictions = []\n",
    "naive_predictions = []\n",
    "train_end_dates = []\n",
    "\n",
    "naive_mean = DummyRegressor(strategy=\"mean\")\n",
    "\n",
    "for i in np.arange(2009, 2019, 1):\n",
    "    train_realtime = df.loc[pd.to_datetime(df.index).year <= i]\n",
    "    test_realtime = df.loc[\n",
    "        (pd.to_datetime(df.index).year > i) & (pd.to_datetime(df.index).year < i + 2)\n",
    "    ]\n",
    "\n",
    "    X_train, y_train = (\n",
    "        train_realtime.drop([\"EXCESS_RETURN_T+1\"], axis=1),\n",
    "        train_realtime[\"EXCESS_RETURN_T+1\"],\n",
    "    )\n",
    "    X_test, y_test = (\n",
    "        test_realtime.drop([\"EXCESS_RETURN_T+1\"], axis=1),\n",
    "        test_realtime[\"EXCESS_RETURN_T+1\"],\n",
    "    )\n",
    "\n",
    "    pipeline = Pipeline(\n",
    "        [\n",
    "            (\"feature_selection\", SelectKBest(score_func=f_regression)),\n",
    "            (\"regressor\", HuberRegressor(alpha=0, max_iter=5000, fit_intercept=False)),\n",
    "        ]\n",
    "    )\n",
    "\n",
    "    param_grid = {\n",
    "        \"feature_selection__k\": [i for i in np.arange(1, 10)],\n",
    "        \"regressor__epsilon\": loguniform(1, 2),\n",
    "    }\n",
    "\n",
    "    grid_search = RandomizedSearchCV(\n",
    "        estimator=pipeline,\n",
    "        param_distributions=param_grid,\n",
    "        scoring=\"neg_mean_squared_error\",\n",
    "        refit=\"neg_mean_squared_error\",\n",
    "        cv=holdout_cv(X_train, n_test=4),\n",
    "        n_iter=60,\n",
    "        n_jobs=-1,\n",
    "    )\n",
    "\n",
    "    grid_search.fit(X_train, y_train)\n",
    "    naive_mean.fit(X_train, y_train)\n",
    "\n",
    "    predictions.extend(grid_search.predict(X_test).tolist())\n",
    "    naive_predictions.extend(naive_mean.predict(X_test).tolist())\n",
    "    bestparams.append(grid_search.best_params_)\n",
    "    train_end_dates.append(\n",
    "        pd.to_datetime(train_realtime.index[-1]).strftime(\"%Y-%m-%d\")\n",
    "    )\n",
    "\n",
    "    print(\"train end\", i)\n",
    "    print(\"val MSE\", grid_search.best_score_)\n"
   ]
  },
  {
   "cell_type": "code",
   "execution_count": null,
   "id": "a2c1c482-3b40-4df2-a93b-a0b808af11f0",
   "metadata": {},
   "outputs": [],
   "source": [
    "print(\"zeroOOSR2\", modOOSR2(test[\"EXCESS_RETURN_T+1\"].values, np.array(predictions)))\n",
    "print(\n",
    "    \"meanOOSR2: \",\n",
    "    OOSR2(\n",
    "        test[\"EXCESS_RETURN_T+1\"].values,\n",
    "        np.array(predictions),\n",
    "        np.array(naive_predictions),\n",
    "    ),\n",
    ")\n"
   ]
  },
  {
   "cell_type": "code",
   "execution_count": null,
   "id": "57f1a6d8-ce69-41a6-baca-7dbd96594e0e",
   "metadata": {},
   "outputs": [],
   "source": [
    "epsilonlist = []\n",
    "for paramdict in bestparams:\n",
    "    epsilonlist.append(paramdict[\"regressor__epsilon\"])\n",
    "\n",
    "fig, ax = plt.subplots(figsize=(9, 3))\n",
    "ax.plot(train_end_dates, epsilonlist)\n",
    "ax.set_xlabel(\"date\")\n",
    "ax.set_ylabel(\"param\")\n",
    "\n",
    "plt.plot()\n"
   ]
  },
  {
   "cell_type": "code",
   "execution_count": null,
   "id": "f9e95052-9369-45b8-b275-b73bb66401a1",
   "metadata": {},
   "outputs": [],
   "source": []
  }
 ],
 "metadata": {
  "kernelspec": {
   "display_name": "Python 3",
   "language": "python",
   "name": "python3"
  },
  "language_info": {
   "codemirror_mode": {
    "name": "ipython",
    "version": 3
   },
   "file_extension": ".py",
   "mimetype": "text/x-python",
   "name": "python",
   "nbconvert_exporter": "python",
   "pygments_lexer": "ipython3",
   "version": "3.9.2"
  }
 },
 "nbformat": 4,
 "nbformat_minor": 5
}
