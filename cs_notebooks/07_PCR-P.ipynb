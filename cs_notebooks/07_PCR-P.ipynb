{
 "cells": [
  {
   "cell_type": "code",
   "execution_count": 1,
   "id": "554dd17f-a5c0-4631-9055-c08f32661192",
   "metadata": {},
   "outputs": [],
   "source": [
    "import numpy as np\n",
    "import pandas as pd\n",
    "import matplotlib.pyplot as plt\n",
    "import datetime\n",
    "\n",
    "from sklearn.linear_model import LinearRegression\n",
    "from sklearn.decomposition import PCA\n",
    "from sklearn.model_selection import GridSearchCV\n",
    "from sklearn.pipeline import Pipeline\n",
    "from sklearn.dummy import DummyRegressor\n",
    "from sklearn.utils.fixes import loguniform\n",
    "from sklearn.feature_selection import SelectKBest\n",
    "from sklearn.feature_selection import f_regression \n",
    "\n",
    "import scipy.stats as stats\n",
    "\n",
    "from panel_utils import *"
   ]
  },
  {
   "cell_type": "code",
   "execution_count": 2,
   "id": "26a5f704-2fc7-4079-8f07-e59fe78a0f14",
   "metadata": {},
   "outputs": [],
   "source": [
    "df = pd.read_csv(\"../_data/panelbigcap.csv\", index_col=\"Date\")\n",
    "df = df.loc[df.index <= \"2019.12.31\"]\n",
    "scale_interact_sort(df=df, micro_cols=micro_cols, macro_cols=macro_cols, interact=False)\n",
    "df = df.round(4)"
   ]
  },
  {
   "cell_type": "code",
   "execution_count": 3,
   "id": "9fcd94cc-6aa6-4e49-bb8e-ef27e696b70a",
   "metadata": {},
   "outputs": [],
   "source": [
    "%store -r df"
   ]
  },
  {
   "cell_type": "code",
   "execution_count": 3,
   "id": "caa2ba75-9f83-4b73-a489-f2c9ecf212e2",
   "metadata": {},
   "outputs": [
    {
     "data": {
      "text/plain": [
       "((235787, 58), (162912, 58))"
      ]
     },
     "execution_count": 3,
     "metadata": {},
     "output_type": "execute_result"
    }
   ],
   "source": [
    "train = df.loc[df.index <= \"2009.12.31\"]\n",
    "test = df.loc[df.index > \"2009.12.31\"]\n",
    "\n",
    "train.shape, test.shape"
   ]
  },
  {
   "cell_type": "code",
   "execution_count": 14,
   "id": "b21225b8-5fa1-4a7a-ab12-c4e0d0da2572",
   "metadata": {
    "tags": []
   },
   "outputs": [
    {
     "name": "stdout",
     "output_type": "stream",
     "text": [
      "train end 2009\n",
      "val MSE -0.018425012976984092\n",
      "train end 2010\n",
      "val MSE -0.018976997979144372\n",
      "train end 2011\n",
      "val MSE -0.01961056985602947\n",
      "train end 2012\n",
      "val MSE -0.014742665356198448\n",
      "train end 2013\n",
      "val MSE -0.009311158476708393\n",
      "train end 2014\n",
      "val MSE -0.008380942027111135\n",
      "train end 2015\n",
      "val MSE -0.00814843011531173\n",
      "train end 2016\n",
      "val MSE -0.008935149099699764\n",
      "train end 2017\n",
      "val MSE -0.008731609678324804\n",
      "train end 2018\n",
      "val MSE -0.00969586270822072\n"
     ]
    }
   ],
   "source": [
    "bestparams = []\n",
    "predictions = []\n",
    "naive_predictions = []\n",
    "train_end_dates = []\n",
    "\n",
    "naive_mean = DummyRegressor(strategy=\"mean\")\n",
    "\n",
    "for i in np.arange(2009,2019,1):\n",
    "    train_realtime = df.loc[pd.to_datetime(df.index).year <= i]\n",
    "    test_realtime = df.loc[(pd.to_datetime(df.index).year > i) & (pd.to_datetime(df.index).year < i+2)]\n",
    "    \n",
    "    X_train, y_train = train_realtime.drop([\"EXCESS_RETURN_T+1\"], axis=1), train_realtime[\"EXCESS_RETURN_T+1\"]\n",
    "    X_test, y_test = test_realtime.drop([\"EXCESS_RETURN_T+1\"], axis=1), test_realtime[\"EXCESS_RETURN_T+1\"]\n",
    "    \n",
    "    pipeline = Pipeline([\n",
    "   # ('feature_selection', SelectKBest(score_func=f_regression)),\n",
    "    (\"pca\", PCA()),\n",
    "    ('regressor', LinearRegression(positive=True, fit_intercept=True))\n",
    "    ])\n",
    "\n",
    "    param_grid = {\n",
    " #   'feature_selection__k':[i for i in np.arange(1,58)],   \n",
    "    \"pca__n_components\": [i for i in range(1,25)] \n",
    "    }\n",
    "\n",
    "    grid_search = GridSearchCV(\n",
    "        estimator = pipeline,\n",
    "        param_grid = param_grid,\n",
    "        scoring = \"neg_mean_squared_error\",\n",
    "        refit = \"neg_mean_squared_error\",\n",
    "        cv = holdout_cv(X_train, n_test = 4),\n",
    "        n_jobs = -1,\n",
    "    )\n",
    "\n",
    "    grid_search.fit(X_train, y_train)\n",
    "    naive_mean.fit(X_train, y_train)\n",
    "\n",
    "    predictions.extend(grid_search.predict(X_test).tolist())\n",
    "    naive_predictions.extend(naive_mean.predict(X_test).tolist())\n",
    "    bestparams.append(grid_search.best_params_)\n",
    "    train_end_dates.append(pd.to_datetime(train_realtime.index[-1]).strftime('%Y-%m-%d'))\n",
    "    \n",
    "    print(\"train end\",i)\n",
    "    print(\"val MSE\",grid_search.best_score_)"
   ]
  },
  {
   "cell_type": "code",
   "execution_count": 15,
   "id": "ab2a19f5-b724-464b-8e33-f76f594f4482",
   "metadata": {},
   "outputs": [
    {
     "name": "stdout",
     "output_type": "stream",
     "text": [
      "zeroOOSR2 0.021788870128600313\n",
      "meanOOSR2:  0.00300008410539343\n"
     ]
    }
   ],
   "source": [
    "print(\"zeroOOSR2\", modOOSR2(test[\"EXCESS_RETURN_T+1\"].values, np.array(predictions)))\n",
    "print(\"meanOOSR2: \", OOSR2(\n",
    "    test[\"EXCESS_RETURN_T+1\"].values, \n",
    "    np.array(predictions), \n",
    "    np.array(naive_predictions)\n",
    "))"
   ]
  },
  {
   "cell_type": "code",
   "execution_count": 13,
   "id": "2795b69c-88df-4bfd-9043-b989fe95a6fc",
   "metadata": {},
   "outputs": [
    {
     "data": {
      "text/plain": [
       "[]"
      ]
     },
     "execution_count": 13,
     "metadata": {},
     "output_type": "execute_result"
    },
    {
     "data": {
      "image/png": "[encoded data removed]",
      "text/plain": [
       "<Figure size 648x216 with 1 Axes>"
      ]
     },
     "metadata": {
      "needs_background": "light"
     },
     "output_type": "display_data"
    }
   ],
   "source": [
    "nlist = []\n",
    "\n",
    "for paramdict in bestparams:\n",
    "    nlist.append( paramdict['pca__n_components'])\n",
    "    \n",
    "fig, ax = plt.subplots(figsize=(9,3))\n",
    "ax.plot(train_end_dates, nlist)\n",
    "ax.set_xlabel('date')\n",
    "ax.set_ylabel('param')\n",
    "\n",
    "plt.plot()"
   ]
  },
  {
   "cell_type": "code",
   "execution_count": null,
   "id": "612cb30b-e1ca-4616-a597-b12ecc2b65a8",
   "metadata": {},
   "outputs": [],
   "source": []
  },
  {
   "cell_type": "code",
   "execution_count": null,
   "id": "56a5bb3c-3db4-4eb9-b589-b02691712a1a",
   "metadata": {},
   "outputs": [],
   "source": []
  }
 ],
 "metadata": {
  "kernelspec": {
   "display_name": "Python 3 (ipykernel)",
   "language": "python",
   "name": "python3"
  },
  "language_info": {
   "codemirror_mode": {
    "name": "ipython",
    "version": 3
   },
   "file_extension": ".py",
   "mimetype": "text/x-python",
   "name": "python",
   "nbconvert_exporter": "python",
   "pygments_lexer": "ipython3",
   "version": "3.10.6"
  }
 },
 "nbformat": 4,
 "nbformat_minor": 5
}
