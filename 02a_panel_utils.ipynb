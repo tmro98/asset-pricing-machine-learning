{
 "cells": [
  {
   "cell_type": "code",
   "execution_count": null,
   "metadata": {},
   "outputs": [],
   "source": [
    "import numpy as np\n",
    "import pandas as pd\n",
    "import matplotlib.pyplot as plt\n",
    "\n",
    "from warnings import simplefilter\n",
    "simplefilter(action=\"ignore\", category=pd.errors.PerformanceWarning)\n",
    "\n",
    "import glob\n",
    "from pathlib import Path\n",
    "\n",
    "import ta\n",
    "\n",
    "import yfinance as yf\n",
    "import nasdaqdatalink\n",
    "import pandas_datareader.famafrench as ff\n",
    "import pandas_datareader.data as web\n"
   ]
  },
  {
   "cell_type": "code",
   "execution_count": null,
   "metadata": {},
   "outputs": [],
   "source": [
    "path_big = \"data/stockdata_bigcap/*.csv\"\n",
    "path_small = \"data/stockdata_smallcap/*.csv\"\n",
    "\n",
    "stockdata_feature_small_dict = {}\n",
    "stockdata_feature_big_dict = {}\n",
    "\n",
    "for filename in glob.glob(path_small):\n",
    "    symbol = Path(filename).stem\n",
    "    single_df = pd.read_csv(\"data/stockdata_feature_full/\" + symbol +\".csv\", index_col=\"Date\")\n",
    "    single_df.index = pd.to_datetime(single_df.index)\n",
    "    stockdata_feature_small_dict[symbol] = single_df\n",
    "\n",
    "for filename in glob.glob(path_big):\n",
    "    symbol = Path(filename).stem\n",
    "    single_df = pd.read_csv(\"data/stockdata_feature_full/\" + symbol +\".csv\", index_col=\"Date\")\n",
    "    single_df.index = pd.to_datetime(single_df.index)\n",
    "    stockdata_feature_big_dict[symbol] = single_df"
   ]
  },
  {
   "cell_type": "code",
   "execution_count": null,
   "metadata": {},
   "outputs": [],
   "source": [
    "panel_bigcap = pd.concat([frame for frame in stockdata_feature_big_dict.values()])\n",
    "panel_smallcap = pd.concat([frame for frame in stockdata_feature_small_dict.values()])\n"
   ]
  },
  {
   "cell_type": "code",
   "execution_count": null,
   "metadata": {},
   "outputs": [],
   "source": [
    "micro_cols = [\n",
    "    \"PPO\",\"PVO\",\"MOM10d\",\"MOM60d\",\"RSI\",\"SRSI\",\"SO\",\"TSI\",\"UO\",\"WR\",\"EMV\",\"FI\",\"MFI\",\"NVI\",\"BB\",\"BBW\",\n",
    "    \"DC\",\"KC\",\"UI\",\"AI\",\"CCI\",\"KST\",\"MACD\",\"MI\",\"STC\",\"TRIX\",\"VI\",\"BETA60d\",\"BETA20d\",\"BETA20d^2\",\n",
    "    \"CHBETA\",\"VOLA20d\",\"VOLA60d\",\"CHVOLA\",\"MAXRET\",\"MINRET\",\"CHMOM\",\"RETURN\"\n",
    "]\n",
    "\n",
    "macro_cols = [\n",
    "    \"MRKTMOM10d\",\"MRKTMOM40d\",\"MRKTVOLA\",\"MRKT\",\"DIVYIELD\",\"EARNYIELD\",\"PERATIO\",\"T10Y2Y\",\"TB6TB3\",\n",
    "    \"TB3\",\"TB6\",\"PRIMETB3\",\"FFTB3\",\"SENT1d\",\"SENTCUM\",\"SENTMA\",\"CPI\",\"UNRATE\",\"RF\"\n",
    "]"
   ]
  },
  {
   "cell_type": "code",
   "execution_count": null,
   "metadata": {},
   "outputs": [],
   "source": [
    "for frame in (panel_bigcap, panel_smallcap):\n",
    "    for col_macro in macro_cols:\n",
    "        for col_micro in micro_cols:\n",
    "            frame[col_micro +\"x\"+ col_macro] = frame[col_macro]*frame[col_micro]\n",
    "    frame.drop(macro_cols, axis=1, inplace=True)"
   ]
  },
  {
   "cell_type": "code",
   "execution_count": null,
   "metadata": {},
   "outputs": [],
   "source": [
    "for frame in (panel_bigcap, panel_smallcap):\n",
    "    for date in frame.index.unique():\n",
    "        for feature in frame.drop(\"EXCESS_RETURN_T+1\").columns:\n",
    "            crosssec_min = frame.loc[date, feature].values.min()\n",
    "            crosssec_max = frame.loc[date, feature].values.max()\n",
    "            frame.loc[date, feature] = frame.loc[date, feature].apply(\n",
    "                lambda x: 2 * (x - crosssec_min) / (crosssec_max - crosssec_min) - 1\n",
    "            )"
   ]
  },
  {
   "cell_type": "code",
   "execution_count": null,
   "metadata": {},
   "outputs": [],
   "source": [
    "panel_smallcap.round(5)\n",
    "panel_smallcap.round(5)\n",
    "panel_full = pd.concat(panel_bigcap, panel_smallcap)"
   ]
  }
 ],
 "metadata": {
  "language_info": {
   "name": "python"
  },
  "orig_nbformat": 4
 },
 "nbformat": 4,
 "nbformat_minor": 2
}
