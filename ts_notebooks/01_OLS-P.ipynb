{
 "cells": [
  {
   "cell_type": "code",
   "execution_count": 1,
   "metadata": {},
   "outputs": [],
   "source": [
    "import numpy as np\n",
    "import pandas as pd\n",
    "import matplotlib.pyplot as plt\n",
    "\n",
    "from sklearn.linear_model import LinearRegression\n",
    "from sklearn.pipeline import Pipeline\n",
    "from sklearn.preprocessing import MinMaxScaler\n",
    "from sklearn.dummy import DummyRegressor\n",
    "\n",
    "from ts_utils import OOSR2"
   ]
  },
  {
   "cell_type": "code",
   "execution_count": 2,
   "metadata": {},
   "outputs": [
    {
     "data": {
      "text/plain": [
       "((357, 52), (158, 52))"
      ]
     },
     "execution_count": 2,
     "metadata": {},
     "output_type": "execute_result"
    }
   ],
   "source": [
    "df = pd.read_csv(\"../_data/time_series.csv\", index_col=\"Date\")\n",
    "df.index = pd.to_datetime(df.index)\n",
    "df = df.round(4)\n",
    "\n",
    "train = df.loc[df.index <= \"2009.12.31\"]\n",
    "test = df.loc[df.index > \"2009.12.31\"]\n",
    "\n",
    "train.shape, test.shape"
   ]
  },
  {
   "cell_type": "code",
   "execution_count": 3,
   "metadata": {},
   "outputs": [],
   "source": [
    "predictions = []\n",
    "naive_predictions = []\n",
    "train_end_dates = []\n",
    "\n",
    "naive_mean = DummyRegressor(strategy=\"mean\")\n",
    "\n",
    "for i in np.arange(357,515,6):\n",
    "    train_realtime = df.iloc[:i]\n",
    "    test_realtime = df.iloc[i:i+6]\n",
    "    \n",
    "    X_train, y_train = train_realtime.drop([\"EXCESS_RETURN_T+1\"], axis=1).values, train_realtime[\"EXCESS_RETURN_T+1\"].values\n",
    "    X_test, y_test = test_realtime.drop([\"EXCESS_RETURN_T+1\"], axis=1).values, test_realtime[\"EXCESS_RETURN_T+1\"].values\n",
    "    \n",
    "    pipeline = Pipeline([\n",
    "    (\"scaler\", MinMaxScaler()),\n",
    "    (\"regressor\", LinearRegression(positive=True))\n",
    "    ])\n",
    "\n",
    "    pipeline.fit(X_train, y_train)\n",
    "    naive_mean.fit(X_train, y_train)\n",
    "\n",
    "    predictions.extend(pipeline.predict(X_test).tolist())\n",
    "    naive_predictions.extend(naive_mean.predict(X_test).tolist())\n",
    "    train_end_dates.append(pd.to_datetime(train_realtime.index[-1]).strftime('%Y-%m-%d'))"
   ]
  },
  {
   "cell_type": "code",
   "execution_count": 4,
   "metadata": {},
   "outputs": [
    {
     "data": {
      "text/plain": [
       "-0.08899979823757431"
      ]
     },
     "execution_count": 4,
     "metadata": {},
     "output_type": "execute_result"
    }
   ],
   "source": [
    "OOSR2(test[\"EXCESS_RETURN_T+1\"].values, np.array(predictions), np.array(naive_predictions))"
   ]
  },
  {
   "cell_type": "code",
   "execution_count": 5,
   "metadata": {},
   "outputs": [],
   "source": [
    "rfr = pd.read_csv(\"../_data/rfr_02_2010_to_03_2023_158vals.csv\", index_col=\"Date\")\n",
    "econeval = pd.DataFrame()\n",
    "econeval[\"r\"] = test[\"EXCESS_RETURN_T+1\"]\n",
    "econeval[\"r_predict\"] = predictions\n",
    "econeval[\"mean_predict\"] = naive_predictions\n",
    "econeval[\"rfr\"] = rfr[\"RF\"].values\n",
    "econeval.index = rfr.index\n",
    "econeval[\"vola_est\"] = econeval[\"r\"].rolling(window=12, closed=\"left\").std()\n",
    "econeval[\"w_model\"] = 1/3*econeval[\"r_predict\"]/econeval[\"vola_est\"]**2\n",
    "econeval[\"w_mean\"] = 1/3*econeval[\"mean_predict\"]/econeval[\"vola_est\"]**2\n",
    "econeval[\"w_model_cap\"] = econeval[\"w_model\"].apply(lambda x: 1 if x > 1 else (0 if x < 0 else x))\n",
    "econeval[\"w_mean_cap\"] = econeval[\"w_mean\"].apply(lambda x: 1 if x > 1 else (0 if x < 0 else x))\n",
    "econeval[\"rp_model\"] = econeval[\"rfr\"]+econeval[\"w_model_cap\"]*econeval[\"r\"]\n",
    "econeval[\"rp_mean\"] = econeval[\"rfr\"]+econeval[\"w_mean_cap\"]*econeval[\"r\"]"
   ]
  },
  {
   "cell_type": "code",
   "execution_count": 6,
   "metadata": {},
   "outputs": [
    {
     "name": "stdout",
     "output_type": "stream",
     "text": [
      "annualized gain:  -0.02826427308631834\n",
      "monthly avg portfolio return:  0.003324153774722678\n",
      "monthly volatility:  0.025952323849341787\n",
      "monthly sharpe:  0.12808694103926985\n",
      "sp500 mean return: 0.008317123287671233\n",
      "sp500 vola: 0.0419887429242304\n"
     ]
    }
   ],
   "source": [
    "econeval.dropna(axis=0,inplace=True)\n",
    "u_model = econeval[\"rp_model\"].mean() - 0.5*3*econeval[\"rp_mean\"].std()**2\n",
    "u_mean = econeval[\"rp_mean\"].mean() - 0.5*3*econeval[\"rp_mean\"].std()**2\n",
    "annualized_gain = (u_model - u_mean)*12\n",
    "monthly_sharpe = econeval[\"rp_model\"].mean() / econeval[\"rp_model\"].std()\n",
    "sp500meanreturn = econeval[\"r\"].mean()\n",
    "sp500vol = econeval[\"r\"].std()\n",
    "\n",
    "print(\"annualized gain: \", annualized_gain)\n",
    "print(\"monthly avg portfolio return: \", econeval[\"rp_model\"].mean())\n",
    "print(\"monthly volatility: \", econeval[\"rp_model\"].std())\n",
    "print(\"monthly sharpe: \", monthly_sharpe)\n",
    "print(\"sp500 mean return:\",sp500meanreturn)\n",
    "print(\"sp500 vola:\",sp500vol)"
   ]
  }
 ],
 "metadata": {
  "kernelspec": {
   "display_name": "Python 3",
   "language": "python",
   "name": "python3"
  },
  "language_info": {
   "codemirror_mode": {
    "name": "ipython",
    "version": 3
   },
   "file_extension": ".py",
   "mimetype": "text/x-python",
   "name": "python",
   "nbconvert_exporter": "python",
   "pygments_lexer": "ipython3",
   "version": "3.9.2"
  }
 },
 "nbformat": 4,
 "nbformat_minor": 4
}
