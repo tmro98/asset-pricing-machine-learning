{
 "cells": [
  {
   "cell_type": "code",
   "execution_count": 1,
   "metadata": {},
   "outputs": [],
   "source": [
    "import numpy as np\n",
    "import pandas as pd\n",
    "import matplotlib.pyplot as plt\n",
    "\n",
    "from sklearn.model_selection import TimeSeriesSplit\n",
    "from sklearn.model_selection import GridSearchCV\n",
    "from sklearn.pipeline import Pipeline\n",
    "from sklearn.linear_model import LinearRegression\n",
    "from sklearn.decomposition import PCA\n",
    "from sklearn.preprocessing import MinMaxScaler\n",
    "from sklearn.dummy import DummyRegressor\n",
    "\n",
    "import scipy.stats as stats\n",
    "\n",
    "from ts_utils import OOSR2"
   ]
  },
  {
   "cell_type": "code",
   "execution_count": 2,
   "metadata": {},
   "outputs": [
    {
     "data": {
      "text/plain": [
       "((357, 52), (158, 52))"
      ]
     },
     "execution_count": 2,
     "metadata": {},
     "output_type": "execute_result"
    }
   ],
   "source": [
    "df = pd.read_csv(\"../_data/time_series.csv\", index_col=\"Date\")\n",
    "df.index = pd.to_datetime(df.index)\n",
    "df = df.round(4)\n",
    "\n",
    "train = df.loc[df.index <= \"2009.12.31\"]\n",
    "test = df.loc[df.index > \"2009.12.31\"]\n",
    "\n",
    "train.shape, test.shape"
   ]
  },
  {
   "cell_type": "code",
   "execution_count": 7,
   "metadata": {},
   "outputs": [
    {
     "name": "stdout",
     "output_type": "stream",
     "text": [
      "[0.79498461]\n",
      "[0.80312812 0.2253927 ]\n",
      "[0.80337683]\n",
      "[0.80080942]\n",
      "[0.8000856]\n",
      "[0.79492003]\n",
      "[0.79334624 0.22748903]\n",
      "[0.79079338]\n",
      "[0.79456935]\n",
      "[0.79808332]\n",
      "[0.80495982]\n",
      "[0.8042789]\n",
      "[0.80082225]\n",
      "[0.79647057]\n",
      "[0.79579969]\n",
      "[0.79420021]\n",
      "[0.79228415]\n",
      "[0.78808874]\n",
      "[0.78459932]\n",
      "[0.79076901]\n",
      "[0.7895652]\n",
      "[0.78780149]\n",
      "[0.7914928  0.21833777]\n",
      "[0.78927616 0.21881641]\n",
      "[0.79520367 0.21716212]\n",
      "[0.79676257]\n",
      "[0.80481952]\n"
     ]
    }
   ],
   "source": [
    "bestparams = []\n",
    "predictions = []\n",
    "naive_predictions = []\n",
    "train_end_dates = []\n",
    "\n",
    "naive_mean = DummyRegressor(strategy=\"mean\")\n",
    "\n",
    "for i in np.arange(357,515,6): \n",
    "    train_realtime = df.iloc[:i]\n",
    "    test_realtime = df.iloc[i:i+6]\n",
    "    \n",
    "    X_train, y_train = train_realtime.drop([\"EXCESS_RETURN_T+1\"], axis=1).values, train_realtime[\"EXCESS_RETURN_T+1\"].values\n",
    "    X_test, y_test = test_realtime.drop([\"EXCESS_RETURN_T+1\"], axis=1).values, test_realtime[\"EXCESS_RETURN_T+1\"].values\n",
    "    \n",
    "    pipeline = Pipeline([\n",
    "        ('scaler', MinMaxScaler()),\n",
    "        (\"pca\", PCA()),\n",
    "        ('regressor', LinearRegression(positive=True))\n",
    "    ])\n",
    "\n",
    "    param_grid = {\n",
    "        \"pca__n_components\": [i for i in np.arange(1,3)] \n",
    "    }\n",
    "\n",
    "    tscv = TimeSeriesSplit(n_splits=2)\n",
    "\n",
    "    grid_search = GridSearchCV(\n",
    "        estimator=pipeline, \n",
    "        param_grid = param_grid,\n",
    "        scoring=\"neg_mean_squared_error\",\n",
    "        refit= \"neg_mean_squared_error\", \n",
    "        cv=tscv,\n",
    "        n_jobs=-1\n",
    "    )\n",
    "\n",
    "    grid_search.fit(X_train, y_train)\n",
    "    naive_mean.fit(X_train, y_train)\n",
    "\n",
    "    predictions.extend(grid_search.predict(X_test).tolist())\n",
    "    naive_predictions.extend(naive_mean.predict(X_test).tolist())\n",
    "    train_end_dates.append(pd.to_datetime(train_realtime.index[-1]).strftime('%Y-%m-%d'))\n",
    "    bestparams.append(grid_search.best_params_)\n",
    "    \n",
    "    best = grid_search.best_estimator_\n",
    "    print(best.named_steps[\"pca\"].explained_variance_)"
   ]
  },
  {
   "cell_type": "code",
   "execution_count": 8,
   "metadata": {},
   "outputs": [
    {
     "data": {
      "text/plain": [
       "0.028893060057178954"
      ]
     },
     "execution_count": 8,
     "metadata": {},
     "output_type": "execute_result"
    }
   ],
   "source": [
    "OOSR2(test[\"EXCESS_RETURN_T+1\"].values, np.array(predictions), np.array(naive_predictions))"
   ]
  },
  {
   "cell_type": "code",
   "execution_count": 9,
   "metadata": {},
   "outputs": [
    {
     "data": {
      "text/plain": [
       "[]"
      ]
     },
     "execution_count": 9,
     "metadata": {},
     "output_type": "execute_result"
    },
    {
     "data": {
      "image/png": "[encoded data removed]",
      "text/plain": [
       "<Figure size 432x216 with 1 Axes>"
      ]
     },
     "metadata": {
      "needs_background": "light"
     },
     "output_type": "display_data"
    }
   ],
   "source": [
    "nlist = []\n",
    "\n",
    "for paramdict in bestparams:\n",
    "    nlist.append(paramdict[\"pca__n_components\"])\n",
    "    \n",
    "fig, ax = plt.subplots(figsize=(6,3), constrained_layout=True)\n",
    "ax.plot(train_end_dates, nlist)\n",
    "ax.set_xlabel('date')\n",
    "ax.set_ylabel('param')\n",
    "\n",
    "plt.plot()"
   ]
  },
  {
   "cell_type": "code",
   "execution_count": 10,
   "metadata": {},
   "outputs": [],
   "source": [
    "rfr = pd.read_csv(\"../_data/rfr_02_2010_to_03_2023_158vals.csv\", index_col=\"Date\")\n",
    "econeval = pd.DataFrame()\n",
    "econeval[\"r\"] = test[\"EXCESS_RETURN_T+1\"]\n",
    "econeval[\"r_predict\"] = predictions\n",
    "econeval[\"mean_predict\"] = naive_predictions\n",
    "econeval[\"rfr\"] = rfr[\"RF\"].values\n",
    "econeval.index = rfr.index\n",
    "econeval[\"vola_est\"] = econeval[\"r\"].rolling(window=12, closed=\"left\").std()\n",
    "econeval[\"w_model\"] = 1/3*econeval[\"r_predict\"]/econeval[\"vola_est\"]**2\n",
    "econeval[\"w_mean\"] = 1/3*econeval[\"mean_predict\"]/econeval[\"vola_est\"]**2\n",
    "econeval[\"w_model_cap\"] = econeval[\"w_model\"].apply(lambda x: 1 if x > 1 else (0 if x < 0 else x))\n",
    "econeval[\"w_mean_cap\"] = econeval[\"w_mean\"].apply(lambda x: 1 if x > 1 else (0 if x < 0 else x))\n",
    "econeval[\"rp_model\"] = econeval[\"rfr\"]+econeval[\"w_model_cap\"]*econeval[\"r\"]\n",
    "econeval[\"rp_mean\"] = econeval[\"rfr\"]+econeval[\"w_mean_cap\"]*econeval[\"r\"]"
   ]
  },
  {
   "cell_type": "code",
   "execution_count": 11,
   "metadata": {},
   "outputs": [
    {
     "name": "stdout",
     "output_type": "stream",
     "text": [
      "annualized gain:  0.018471122088048762\n",
      "monthly avg portfolio return:  0.00721877003925327\n",
      "monthly volatility:  0.03300267346175605\n",
      "monthly sharpe:  0.21873288682562275\n",
      "sp500 mean return: 0.008317123287671233\n",
      "sp500 vola: 0.0419887429242304\n"
     ]
    }
   ],
   "source": [
    "econeval.dropna(axis=0,inplace=True)\n",
    "u_model = econeval[\"rp_model\"].mean() - 0.5*3*econeval[\"rp_mean\"].std()**2\n",
    "u_mean = econeval[\"rp_mean\"].mean() - 0.5*3*econeval[\"rp_mean\"].std()**2\n",
    "annualized_gain = (u_model - u_mean)*12\n",
    "monthly_sharpe = econeval[\"rp_model\"].mean() / econeval[\"rp_model\"].std()\n",
    "sp500meanreturn = econeval[\"r\"].mean()\n",
    "sp500vol = econeval[\"r\"].std()\n",
    "\n",
    "print(\"annualized gain: \", annualized_gain)\n",
    "print(\"monthly avg portfolio return: \", econeval[\"rp_model\"].mean())\n",
    "print(\"monthly volatility: \", econeval[\"rp_model\"].std())\n",
    "print(\"monthly sharpe: \", monthly_sharpe)\n",
    "print(\"sp500 mean return:\",sp500meanreturn)\n",
    "print(\"sp500 vola:\",sp500vol)"
   ]
  },
  {
   "cell_type": "code",
   "execution_count": 6,
   "metadata": {},
   "outputs": [
    {
     "data": {
      "text/plain": [
       "array([0.80481952])"
      ]
     },
     "execution_count": 6,
     "metadata": {},
     "output_type": "execute_result"
    }
   ],
   "source": [
    "best = grid_search.best_estimator_\n",
    "best.named_steps[\"pca\"].explained_variance_"
   ]
  },
  {
   "cell_type": "code",
   "execution_count": null,
   "metadata": {},
   "outputs": [],
   "source": [
    "# Equal to n_components largest eigenvalues of the covariance matrix of X."
   ]
  }
 ],
 "metadata": {
  "kernelspec": {
   "display_name": "Python 3",
   "language": "python",
   "name": "python3"
  },
  "language_info": {
   "codemirror_mode": {
    "name": "ipython",
    "version": 3
   },
   "file_extension": ".py",
   "mimetype": "text/x-python",
   "name": "python",
   "nbconvert_exporter": "python",
   "pygments_lexer": "ipython3",
   "version": "3.9.2"
  }
 },
 "nbformat": 4,
 "nbformat_minor": 4
}
