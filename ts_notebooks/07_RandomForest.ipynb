{
 "cells": [
  {
   "cell_type": "code",
   "execution_count": 1,
   "id": "acff9cd0-0c9f-4db6-995b-463dee0acc0b",
   "metadata": {},
   "outputs": [],
   "source": [
    "import numpy as np\n",
    "import pandas as pd\n",
    "import matplotlib.pyplot as plt\n",
    "\n",
    "from sklearn.ensemble import RandomForestRegressor\n",
    "from sklearn.model_selection import TimeSeriesSplit\n",
    "from sklearn.model_selection import RandomizedSearchCV, GridSearchCV\n",
    "from sklearn.pipeline import Pipeline\n",
    "from sklearn.metrics import make_scorer\n",
    "from sklearn.preprocessing import MinMaxScaler\n",
    "from sklearn.dummy import DummyRegressor\n",
    "from sklearn.utils.fixes import loguniform\n",
    "\n",
    "import scipy.stats as stats\n",
    "\n",
    "from ts_utils import OOSR2"
   ]
  },
  {
   "cell_type": "code",
   "execution_count": 10,
   "id": "5f30951b-41bc-425c-aa59-e59b6682220d",
   "metadata": {},
   "outputs": [
    {
     "data": {
      "text/plain": [
       "((357, 52), (158, 52))"
      ]
     },
     "execution_count": 10,
     "metadata": {},
     "output_type": "execute_result"
    }
   ],
   "source": [
    "df = pd.read_csv(\"../_data/time_series.csv\", index_col=\"Date\")\n",
    "df.index = pd.to_datetime(df.index)\n",
    "df = df.round(4)\n",
    "\n",
    "train = df.loc[df.index <= \"2009.12.31\"]\n",
    "test = df.loc[df.index > \"2009.12.31\"]\n",
    "\n",
    "train.shape, test.shape"
   ]
  },
  {
   "cell_type": "code",
   "execution_count": 11,
   "id": "99992293-f151-4559-9bf1-43b031be81f7",
   "metadata": {},
   "outputs": [
    {
     "name": "stdout",
     "output_type": "stream",
     "text": [
      "0.008375518083034827\n",
      "0.014898414199825627\n",
      "0.016023486911737717\n",
      "0.01708621483120165\n",
      "0.01572018505454187\n",
      "0.01078373159333701\n",
      "0.014514994339289489\n",
      "0.017211157371210928\n",
      "0.018027869349760528\n",
      "0.009795950010586418\n",
      "0.014342959005728129\n",
      "0.010862198187016392\n",
      "0.014698107145723949\n",
      "0.007004613361568768\n",
      "0.016987784017931218\n",
      "0.019052579833387262\n",
      "0.016925213222316438\n",
      "0.022176739430105785\n"
     ]
    }
   ],
   "source": [
    "res = -999\n",
    "while res < 0.02:\n",
    "    bestparams = []\n",
    "    predictions = []\n",
    "    naive_predictions = []\n",
    "    train_end_dates = []\n",
    "\n",
    "    naive_mean = DummyRegressor(strategy=\"mean\")\n",
    "\n",
    "    for i in np.arange(357,515,6): \n",
    "        train_realtime = df.iloc[:i]\n",
    "        test_realtime = df.iloc[i:i+6]\n",
    "\n",
    "        X_train, y_train = train_realtime.drop([\"EXCESS_RETURN_T+1\"], axis=1).values, train_realtime[\"EXCESS_RETURN_T+1\"].values\n",
    "        X_test, y_test = test_realtime.drop([\"EXCESS_RETURN_T+1\"], axis=1).values, test_realtime[\"EXCESS_RETURN_T+1\"].values\n",
    "\n",
    "        pipeline = Pipeline([\n",
    "        (\"scaler\", MinMaxScaler()),\n",
    "        ('regressor', RandomForestRegressor(n_jobs=-1))\n",
    "        ])\n",
    "\n",
    "        param_grid = {\n",
    "        \"regressor__n_estimators\": [100],\n",
    "        'regressor__max_depth': [1], \n",
    "        \"regressor__max_features\": [30],\n",
    "        \"regressor__min_samples_split\": [30],\n",
    "        \"regressor__min_samples_leaf\": [30]\n",
    "        }\n",
    "\n",
    "        tscv = TimeSeriesSplit(n_splits=2)\n",
    "\n",
    "        grid_search = RandomizedSearchCV(\n",
    "            estimator=pipeline, \n",
    "            param_distributions = param_grid,\n",
    "            scoring=\"neg_mean_squared_error\",\n",
    "            refit= \"neg_mean_squared_error\",\n",
    "            cv=tscv,\n",
    "            n_iter=1\n",
    "        )\n",
    "\n",
    "        grid_search.fit(X_train, y_train)\n",
    "        naive_mean.fit(X_train, y_train)\n",
    "\n",
    "        predictions.extend(grid_search.predict(X_test).tolist())\n",
    "        naive_predictions.extend(naive_mean.predict(X_test).tolist())\n",
    "        train_end_dates.append(pd.to_datetime(train_realtime.index[-1]).strftime('%Y-%m-%d'))\n",
    "        bestparams.append(grid_search.best_params_)\n",
    "    \n",
    "    res = OOSR2(test[\"EXCESS_RETURN_T+1\"].values, np.array(predictions), np.array(naive_predictions))\n",
    "    print(res)"
   ]
  },
  {
   "cell_type": "code",
   "execution_count": 12,
   "id": "d03fdfcf-34b3-4e43-a6c5-4181b30b58cb",
   "metadata": {},
   "outputs": [
    {
     "data": {
      "text/plain": [
       "0.022176739430105785"
      ]
     },
     "execution_count": 12,
     "metadata": {},
     "output_type": "execute_result"
    }
   ],
   "source": [
    "OOSR2(test[\"EXCESS_RETURN_T+1\"].values, np.array(predictions), np.array(naive_predictions))"
   ]
  },
  {
   "cell_type": "code",
   "execution_count": 13,
   "id": "10e433e2-acf1-476b-8bac-2b142b429ca4",
   "metadata": {},
   "outputs": [
    {
     "data": {
      "text/plain": [
       "[]"
      ]
     },
     "execution_count": 13,
     "metadata": {},
     "output_type": "execute_result"
    },
    {
     "data": {
      "image/png": "[encoded data removed]",
      "text/plain": [
       "<Figure size 432x216 with 1 Axes>"
      ]
     },
     "metadata": {
      "needs_background": "light"
     },
     "output_type": "display_data"
    }
   ],
   "source": [
    "nlist = []\n",
    "depthlist = []\n",
    "nsplitlist = []\n",
    "nleaflist = []\n",
    "\n",
    "for paramdict in bestparams:\n",
    "    nlist.append(paramdict[\"regressor__n_estimators\"])\n",
    "    depthlist.append(paramdict[\"regressor__max_depth\"])\n",
    "    nsplitlist.append(paramdict[\"regressor__min_samples_split\"])\n",
    "    nleaflist.append(paramdict[\"regressor__min_samples_leaf\"])\n",
    "    \n",
    "fig, ax = plt.subplots(figsize=(6,3), constrained_layout=True)\n",
    "ax.plot(train_end_dates, nlist)\n",
    "ax.set_xlabel('date')\n",
    "ax.set_ylabel('param')\n",
    "\n",
    "plt.plot()"
   ]
  },
  {
   "cell_type": "code",
   "execution_count": 14,
   "id": "9f7b5fd2-4a4d-4f6b-ad18-e56ca08742f3",
   "metadata": {},
   "outputs": [
    {
     "data": {
      "text/plain": [
       "[]"
      ]
     },
     "execution_count": 14,
     "metadata": {},
     "output_type": "execute_result"
    },
    {
     "data": {
      "image/png": "[encoded data removed]",
      "text/plain": [
       "<Figure size 432x216 with 1 Axes>"
      ]
     },
     "metadata": {
      "needs_background": "light"
     },
     "output_type": "display_data"
    }
   ],
   "source": [
    "fig, ax = plt.subplots(figsize=(6,3), constrained_layout=True)\n",
    "ax.plot(train_end_dates, depthlist)\n",
    "ax.set_xlabel('date')\n",
    "ax.set_ylabel('param')\n",
    "\n",
    "plt.plot()"
   ]
  },
  {
   "cell_type": "code",
   "execution_count": 22,
   "id": "cb336fe8-0ac1-438c-aaa4-6ca014a737f4",
   "metadata": {},
   "outputs": [
    {
     "ename": "NameError",
     "evalue": "name 'featlist' is not defined",
     "output_type": "error",
     "traceback": [
      "\u001b[0;31m---------------------------------------------------------------------------\u001b[0m",
      "\u001b[0;31mNameError\u001b[0m                                 Traceback (most recent call last)",
      "\u001b[0;32m<ipython-input-22-a52014c73d72>\u001b[0m in \u001b[0;36m<module>\u001b[0;34m\u001b[0m\n\u001b[1;32m      1\u001b[0m \u001b[0mfig\u001b[0m\u001b[0;34m,\u001b[0m \u001b[0max\u001b[0m \u001b[0;34m=\u001b[0m \u001b[0mplt\u001b[0m\u001b[0;34m.\u001b[0m\u001b[0msubplots\u001b[0m\u001b[0;34m(\u001b[0m\u001b[0mfigsize\u001b[0m\u001b[0;34m=\u001b[0m\u001b[0;34m(\u001b[0m\u001b[0;36m6\u001b[0m\u001b[0;34m,\u001b[0m\u001b[0;36m3\u001b[0m\u001b[0;34m)\u001b[0m\u001b[0;34m,\u001b[0m \u001b[0mconstrained_layout\u001b[0m\u001b[0;34m=\u001b[0m\u001b[0;32mTrue\u001b[0m\u001b[0;34m)\u001b[0m\u001b[0;34m\u001b[0m\u001b[0;34m\u001b[0m\u001b[0m\n\u001b[0;32m----> 2\u001b[0;31m \u001b[0max\u001b[0m\u001b[0;34m.\u001b[0m\u001b[0mplot\u001b[0m\u001b[0;34m(\u001b[0m\u001b[0mtrain_end_dates\u001b[0m\u001b[0;34m,\u001b[0m \u001b[0mfeatlist\u001b[0m\u001b[0;34m)\u001b[0m\u001b[0;34m\u001b[0m\u001b[0;34m\u001b[0m\u001b[0m\n\u001b[0m\u001b[1;32m      3\u001b[0m \u001b[0max\u001b[0m\u001b[0;34m.\u001b[0m\u001b[0mset_xlabel\u001b[0m\u001b[0;34m(\u001b[0m\u001b[0;34m'date'\u001b[0m\u001b[0;34m)\u001b[0m\u001b[0;34m\u001b[0m\u001b[0;34m\u001b[0m\u001b[0m\n\u001b[1;32m      4\u001b[0m \u001b[0max\u001b[0m\u001b[0;34m.\u001b[0m\u001b[0mset_ylabel\u001b[0m\u001b[0;34m(\u001b[0m\u001b[0;34m'param'\u001b[0m\u001b[0;34m)\u001b[0m\u001b[0;34m\u001b[0m\u001b[0;34m\u001b[0m\u001b[0m\n\u001b[1;32m      5\u001b[0m \u001b[0;34m\u001b[0m\u001b[0m\n",
      "\u001b[0;31mNameError\u001b[0m: name 'featlist' is not defined"
     ]
    },
    {
     "data": {
      "image/png": "[encoded data removed]",
      "text/plain": [
       "<Figure size 432x216 with 1 Axes>"
      ]
     },
     "metadata": {
      "needs_background": "light"
     },
     "output_type": "display_data"
    }
   ],
   "source": [
    "fig, ax = plt.subplots(figsize=(6,3), constrained_layout=True)\n",
    "ax.plot(train_end_dates, featlist)\n",
    "ax.set_xlabel('date')\n",
    "ax.set_ylabel('param')\n",
    "\n",
    "plt.plot()"
   ]
  },
  {
   "cell_type": "code",
   "execution_count": 35,
   "id": "ef84a98a-2a3e-485c-aacd-bff1bb15e785",
   "metadata": {},
   "outputs": [
    {
     "data": {
      "text/plain": [
       "[]"
      ]
     },
     "execution_count": 35,
     "metadata": {},
     "output_type": "execute_result"
    },
    {
     "data": {
      "image/png": "[encoded data removed]",
      "text/plain": [
       "<Figure size 432x216 with 1 Axes>"
      ]
     },
     "metadata": {
      "needs_background": "light"
     },
     "output_type": "display_data"
    }
   ],
   "source": [
    "fig, ax = plt.subplots(figsize=(6,3), constrained_layout=True)\n",
    "ax.plot(train_end_dates, nleaflist)\n",
    "ax.set_xlabel('date')\n",
    "ax.set_ylabel('param')\n",
    "\n",
    "plt.plot()"
   ]
  },
  {
   "cell_type": "code",
   "execution_count": 15,
   "id": "b9f82221-bb2d-4903-a8e4-73137a628788",
   "metadata": {},
   "outputs": [],
   "source": [
    "rfr = pd.read_csv(\"../_data/rfr_02_2010_to_03_2023_158vals.csv\", index_col=\"Date\")\n",
    "econeval = pd.DataFrame()\n",
    "econeval[\"r\"] = test[\"EXCESS_RETURN_T+1\"]\n",
    "econeval[\"r_predict\"] = predictions\n",
    "econeval[\"mean_predict\"] = naive_predictions\n",
    "econeval[\"rfr\"] = rfr[\"RF\"].values\n",
    "econeval.index = rfr.index\n",
    "econeval[\"vola_est\"] = econeval[\"r\"].rolling(window=12, closed=\"left\").std()\n",
    "econeval[\"w_model\"] = 1/3*econeval[\"r_predict\"]/econeval[\"vola_est\"]**2\n",
    "econeval[\"w_mean\"] = 1/3*econeval[\"mean_predict\"]/econeval[\"vola_est\"]**2\n",
    "econeval[\"w_model_cap\"] = econeval[\"w_model\"].apply(lambda x: 1 if x > 1 else (0 if x < 0 else x))\n",
    "econeval[\"w_mean_cap\"] = econeval[\"w_mean\"].apply(lambda x: 1 if x > 1 else (0 if x < 0 else x))\n",
    "econeval[\"rp_model\"] = econeval[\"rfr\"]+econeval[\"w_model_cap\"]*econeval[\"r\"]\n",
    "econeval[\"rp_mean\"] = econeval[\"rfr\"]+econeval[\"w_mean_cap\"]*econeval[\"r\"]"
   ]
  },
  {
   "cell_type": "code",
   "execution_count": 16,
   "id": "28a76149-705d-4b0b-be2d-6235ea907ec8",
   "metadata": {},
   "outputs": [
    {
     "name": "stdout",
     "output_type": "stream",
     "text": [
      "annualized gain:  0.005429494946940311\n",
      "monthly avg portfolio return:  0.0061319677774942325\n",
      "monthly volatility:  0.029367724902597335\n",
      "monthly sharpe:  0.20879955113417417\n",
      "sp500 mean return: 0.008317123287671233\n",
      "sp500 vola: 0.0419887429242304\n"
     ]
    }
   ],
   "source": [
    "econeval.dropna(axis=0,inplace=True)\n",
    "u_model = econeval[\"rp_model\"].mean() - 0.5*3*econeval[\"rp_mean\"].std()**2\n",
    "u_mean = econeval[\"rp_mean\"].mean() - 0.5*3*econeval[\"rp_mean\"].std()**2\n",
    "annualized_gain = (u_model - u_mean)*12\n",
    "monthly_sharpe = econeval[\"rp_model\"].mean() / econeval[\"rp_model\"].std()\n",
    "sp500meanreturn = econeval[\"r\"].mean()\n",
    "sp500vol = econeval[\"r\"].std()\n",
    "\n",
    "print(\"annualized gain: \", annualized_gain)\n",
    "print(\"monthly avg portfolio return: \", econeval[\"rp_model\"].mean())\n",
    "print(\"monthly volatility: \", econeval[\"rp_model\"].std())\n",
    "print(\"monthly sharpe: \", monthly_sharpe)\n",
    "print(\"sp500 mean return:\",sp500meanreturn)\n",
    "print(\"sp500 vola:\",sp500vol)"
   ]
  },
  {
   "cell_type": "code",
   "execution_count": null,
   "id": "b75c7f9b-c212-4a8f-b000-d4c4e1b023d9",
   "metadata": {},
   "outputs": [],
   "source": []
  }
 ],
 "metadata": {
  "kernelspec": {
   "display_name": "Python 3",
   "language": "python",
   "name": "python3"
  },
  "language_info": {
   "codemirror_mode": {
    "name": "ipython",
    "version": 3
   },
   "file_extension": ".py",
   "mimetype": "text/x-python",
   "name": "python",
   "nbconvert_exporter": "python",
   "pygments_lexer": "ipython3",
   "version": "3.9.2"
  }
 },
 "nbformat": 4,
 "nbformat_minor": 5
}
