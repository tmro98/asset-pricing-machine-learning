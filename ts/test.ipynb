{
 "cells": [
  {
   "cell_type": "code",
   "execution_count": 1,
   "metadata": {},
   "outputs": [],
   "source": [
    "import numpy as np"
   ]
  },
  {
   "cell_type": "code",
   "execution_count": 13,
   "metadata": {},
   "outputs": [
    {
     "data": {
      "text/plain": [
       "array([1.00000000e-10, 1.75751062e-10, 3.08884360e-10, 5.42867544e-10,\n",
       "       9.54095476e-10, 1.67683294e-09, 2.94705170e-09, 5.17947468e-09,\n",
       "       9.10298178e-09, 1.59985872e-08, 2.81176870e-08, 4.94171336e-08,\n",
       "       8.68511374e-08, 1.52641797e-07, 2.68269580e-07, 4.71486636e-07,\n",
       "       8.28642773e-07, 1.45634848e-06, 2.55954792e-06, 4.49843267e-06,\n",
       "       7.90604321e-06, 1.38949549e-05, 2.44205309e-05, 4.29193426e-05,\n",
       "       7.54312006e-05, 1.32571137e-04, 2.32995181e-04, 4.09491506e-04,\n",
       "       7.19685673e-04, 1.26485522e-03, 2.22299648e-03, 3.90693994e-03,\n",
       "       6.86648845e-03, 1.20679264e-02, 2.12095089e-02, 3.72759372e-02,\n",
       "       6.55128557e-02, 1.15139540e-01, 2.02358965e-01, 3.55648031e-01,\n",
       "       6.25055193e-01, 1.09854114e+00, 1.93069773e+00, 3.39322177e+00,\n",
       "       5.96362332e+00, 1.04811313e+01, 1.84206997e+01, 3.23745754e+01,\n",
       "       5.68986603e+01, 1.00000000e+02])"
      ]
     },
     "execution_count": 13,
     "metadata": {},
     "output_type": "execute_result"
    }
   ],
   "source": [
    "np.logspace(-10, 2, num=50)"
   ]
  },
  {
   "cell_type": "code",
   "execution_count": null,
   "metadata": {},
   "outputs": [],
   "source": []
  }
 ],
 "metadata": {
  "kernelspec": {
   "display_name": "Python 3",
   "language": "python",
   "name": "python3"
  },
  "language_info": {
   "codemirror_mode": {
    "name": "ipython",
    "version": 3
   },
   "file_extension": ".py",
   "mimetype": "text/x-python",
   "name": "python",
   "nbconvert_exporter": "python",
   "pygments_lexer": "ipython3",
   "version": "3.11.2"
  },
  "orig_nbformat": 4
 },
 "nbformat": 4,
 "nbformat_minor": 2
}
