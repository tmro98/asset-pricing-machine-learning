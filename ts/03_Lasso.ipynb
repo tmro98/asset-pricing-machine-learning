{
 "cells": [
  {
   "cell_type": "code",
   "execution_count": 21,
   "metadata": {},
   "outputs": [],
   "source": [
    "import numpy as np\n",
    "import pandas as pd\n",
    "import matplotlib.pyplot as plt\n",
    "\n",
    "from sklearn.model_selection import TimeSeriesSplit\n",
    "from sklearn.model_selection import GridSearchCV\n",
    "from sklearn.pipeline import Pipeline\n",
    "from sklearn.metrics import make_scorer\n",
    "from sklearn.preprocessing import MinMaxScaler, StandardScaler, MaxAbsScaler\n",
    "from sklearn.dummy import DummyRegressor\n",
    "\n",
    "from ts_utils import OOSR2, modOOSR2"
   ]
  },
  {
   "attachments": {},
   "cell_type": "markdown",
   "metadata": {},
   "source": [
    "Train/Test split"
   ]
  },
  {
   "cell_type": "code",
   "execution_count": 22,
   "metadata": {},
   "outputs": [
    {
     "data": {
      "text/plain": [
       "((350, 49), (350,), (165, 49), (165,))"
      ]
     },
     "execution_count": 22,
     "metadata": {},
     "output_type": "execute_result"
    }
   ],
   "source": [
    "df = pd.read_csv(\"../.data/timeseries.csv\", index_col=\"Date\")\n",
    "df.index = pd.to_datetime(df.index)\n",
    "df = df.round(4)\n",
    "\n",
    "train = df.iloc[:350]\n",
    "test = df.iloc[350:]\n",
    "\n",
    "X_train, y_train = train.drop([\"EXCESS_RETURN_T+1\"], axis=1).values, train[\"EXCESS_RETURN_T+1\"].values\n",
    "X_test, y_test = test.drop([\"EXCESS_RETURN_T+1\"], axis=1).values, test[\"EXCESS_RETURN_T+1\"].values\n",
    "\n",
    "X_train.shape, y_train.shape, X_test.shape, y_test.shape\n"
   ]
  },
  {
   "attachments": {},
   "cell_type": "markdown",
   "metadata": {},
   "source": [
    "Mean model"
   ]
  },
  {
   "cell_type": "code",
   "execution_count": 23,
   "metadata": {},
   "outputs": [
    {
     "data": {
      "text/plain": [
       "0.023305483729676668"
      ]
     },
     "execution_count": 23,
     "metadata": {},
     "output_type": "execute_result"
    }
   ],
   "source": [
    "naive_mean = DummyRegressor(strategy=\"mean\")\n",
    "naive_mean.fit(X_train, y_train)\n",
    "modOOSR2(y_test, naive_mean.predict(X_test))"
   ]
  },
  {
   "attachments": {},
   "cell_type": "markdown",
   "metadata": {},
   "source": [
    "Lasso"
   ]
  },
  {
   "cell_type": "code",
   "execution_count": 24,
   "metadata": {},
   "outputs": [
    {
     "data": {
      "text/html": [
       "<style>#sk-container-id-3 {color: black;background-color: white;}#sk-container-id-3 pre{padding: 0;}#sk-container-id-3 div.sk-toggleable {background-color: white;}#sk-container-id-3 label.sk-toggleable__label {cursor: pointer;display: block;width: 100%;margin-bottom: 0;padding: 0.3em;box-sizing: border-box;text-align: center;}#sk-container-id-3 label.sk-toggleable__label-arrow:before {content: \"▸\";float: left;margin-right: 0.25em;color: #696969;}#sk-container-id-3 label.sk-toggleable__label-arrow:hover:before {color: black;}#sk-container-id-3 div.sk-estimator:hover label.sk-toggleable__label-arrow:before {color: black;}#sk-container-id-3 div.sk-toggleable__content {max-height: 0;max-width: 0;overflow: hidden;text-align: left;background-color: #f0f8ff;}#sk-container-id-3 div.sk-toggleable__content pre {margin: 0.2em;color: black;border-radius: 0.25em;background-color: #f0f8ff;}#sk-container-id-3 input.sk-toggleable__control:checked~div.sk-toggleable__content {max-height: 200px;max-width: 100%;overflow: auto;}#sk-container-id-3 input.sk-toggleable__control:checked~label.sk-toggleable__label-arrow:before {content: \"▾\";}#sk-container-id-3 div.sk-estimator input.sk-toggleable__control:checked~label.sk-toggleable__label {background-color: #d4ebff;}#sk-container-id-3 div.sk-label input.sk-toggleable__control:checked~label.sk-toggleable__label {background-color: #d4ebff;}#sk-container-id-3 input.sk-hidden--visually {border: 0;clip: rect(1px 1px 1px 1px);clip: rect(1px, 1px, 1px, 1px);height: 1px;margin: -1px;overflow: hidden;padding: 0;position: absolute;width: 1px;}#sk-container-id-3 div.sk-estimator {font-family: monospace;background-color: #f0f8ff;border: 1px dotted black;border-radius: 0.25em;box-sizing: border-box;margin-bottom: 0.5em;}#sk-container-id-3 div.sk-estimator:hover {background-color: #d4ebff;}#sk-container-id-3 div.sk-parallel-item::after {content: \"\";width: 100%;border-bottom: 1px solid gray;flex-grow: 1;}#sk-container-id-3 div.sk-label:hover label.sk-toggleable__label {background-color: #d4ebff;}#sk-container-id-3 div.sk-serial::before {content: \"\";position: absolute;border-left: 1px solid gray;box-sizing: border-box;top: 0;bottom: 0;left: 50%;z-index: 0;}#sk-container-id-3 div.sk-serial {display: flex;flex-direction: column;align-items: center;background-color: white;padding-right: 0.2em;padding-left: 0.2em;position: relative;}#sk-container-id-3 div.sk-item {position: relative;z-index: 1;}#sk-container-id-3 div.sk-parallel {display: flex;align-items: stretch;justify-content: center;background-color: white;position: relative;}#sk-container-id-3 div.sk-item::before, #sk-container-id-3 div.sk-parallel-item::before {content: \"\";position: absolute;border-left: 1px solid gray;box-sizing: border-box;top: 0;bottom: 0;left: 50%;z-index: -1;}#sk-container-id-3 div.sk-parallel-item {display: flex;flex-direction: column;z-index: 1;position: relative;background-color: white;}#sk-container-id-3 div.sk-parallel-item:first-child::after {align-self: flex-end;width: 50%;}#sk-container-id-3 div.sk-parallel-item:last-child::after {align-self: flex-start;width: 50%;}#sk-container-id-3 div.sk-parallel-item:only-child::after {width: 0;}#sk-container-id-3 div.sk-dashed-wrapped {border: 1px dashed gray;margin: 0 0.4em 0.5em 0.4em;box-sizing: border-box;padding-bottom: 0.4em;background-color: white;}#sk-container-id-3 div.sk-label label {font-family: monospace;font-weight: bold;display: inline-block;line-height: 1.2em;}#sk-container-id-3 div.sk-label-container {text-align: center;}#sk-container-id-3 div.sk-container {/* jupyter's `normalize.less` sets `[hidden] { display: none; }` but bootstrap.min.css set `[hidden] { display: none !important; }` so we also need the `!important` here to be able to override the default hidden behavior on the sphinx rendered scikit-learn.org. See: https://github.com/scikit-learn/scikit-learn/issues/21755 */display: inline-block !important;position: relative;}#sk-container-id-3 div.sk-text-repr-fallback {display: none;}</style><div id=\"sk-container-id-3\" class=\"sk-top-container\"><div class=\"sk-text-repr-fallback\"><pre>GridSearchCV(cv=TimeSeriesSplit(gap=0, max_train_size=None, n_splits=3, test_size=None),\n",
       "             estimator=Pipeline(steps=[(&#x27;scaler&#x27;, &#x27;passthrough&#x27;),\n",
       "                                       (&#x27;regressor&#x27;, Lasso())]),\n",
       "             n_jobs=-1,\n",
       "             param_grid={&#x27;regressor__alpha&#x27;: [0.001, 0.0010139254075588154,\n",
       "                                              0.0010280447320933097,\n",
       "                                              0.0010423606739764012,\n",
       "                                              0.0010568759711848039,\n",
       "                                              0.001071593399822671,\n",
       "                                              0.0010865157746525384,\n",
       "                                              0.001101645...\n",
       "                                              0.0013186214013947485,\n",
       "                                              0.0013369837418249467,\n",
       "                                              0.001355601785329369,\n",
       "                                              0.0013744790926775367,\n",
       "                                              0.0013936192742241421,\n",
       "                                              0.0014130259905995337,\n",
       "                                              0.001432702953409831,\n",
       "                                              0.0014526539259467812,\n",
       "                                              0.0014728827239075019,\n",
       "                                              0.0014933932161242517, ...],\n",
       "                         &#x27;scaler&#x27;: [&#x27;passthrough&#x27;, MinMaxScaler(),\n",
       "                                    StandardScaler(), MaxAbsScaler()]},\n",
       "             refit=&#x27;modOOSR2&#x27;, scoring={&#x27;modOOSR2&#x27;: make_scorer(modOOSR2)})</pre><b>In a Jupyter environment, please rerun this cell to show the HTML representation or trust the notebook. <br />On GitHub, the HTML representation is unable to render, please try loading this page with nbviewer.org.</b></div><div class=\"sk-container\" hidden><div class=\"sk-item sk-dashed-wrapped\"><div class=\"sk-label-container\"><div class=\"sk-label sk-toggleable\"><input class=\"sk-toggleable__control sk-hidden--visually\" id=\"sk-estimator-id-9\" type=\"checkbox\" ><label for=\"sk-estimator-id-9\" class=\"sk-toggleable__label sk-toggleable__label-arrow\">GridSearchCV</label><div class=\"sk-toggleable__content\"><pre>GridSearchCV(cv=TimeSeriesSplit(gap=0, max_train_size=None, n_splits=3, test_size=None),\n",
       "             estimator=Pipeline(steps=[(&#x27;scaler&#x27;, &#x27;passthrough&#x27;),\n",
       "                                       (&#x27;regressor&#x27;, Lasso())]),\n",
       "             n_jobs=-1,\n",
       "             param_grid={&#x27;regressor__alpha&#x27;: [0.001, 0.0010139254075588154,\n",
       "                                              0.0010280447320933097,\n",
       "                                              0.0010423606739764012,\n",
       "                                              0.0010568759711848039,\n",
       "                                              0.001071593399822671,\n",
       "                                              0.0010865157746525384,\n",
       "                                              0.001101645...\n",
       "                                              0.0013186214013947485,\n",
       "                                              0.0013369837418249467,\n",
       "                                              0.001355601785329369,\n",
       "                                              0.0013744790926775367,\n",
       "                                              0.0013936192742241421,\n",
       "                                              0.0014130259905995337,\n",
       "                                              0.001432702953409831,\n",
       "                                              0.0014526539259467812,\n",
       "                                              0.0014728827239075019,\n",
       "                                              0.0014933932161242517, ...],\n",
       "                         &#x27;scaler&#x27;: [&#x27;passthrough&#x27;, MinMaxScaler(),\n",
       "                                    StandardScaler(), MaxAbsScaler()]},\n",
       "             refit=&#x27;modOOSR2&#x27;, scoring={&#x27;modOOSR2&#x27;: make_scorer(modOOSR2)})</pre></div></div></div><div class=\"sk-parallel\"><div class=\"sk-parallel-item\"><div class=\"sk-item\"><div class=\"sk-label-container\"><div class=\"sk-label sk-toggleable\"><input class=\"sk-toggleable__control sk-hidden--visually\" id=\"sk-estimator-id-10\" type=\"checkbox\" ><label for=\"sk-estimator-id-10\" class=\"sk-toggleable__label sk-toggleable__label-arrow\">estimator: Pipeline</label><div class=\"sk-toggleable__content\"><pre>Pipeline(steps=[(&#x27;scaler&#x27;, &#x27;passthrough&#x27;), (&#x27;regressor&#x27;, Lasso())])</pre></div></div></div><div class=\"sk-serial\"><div class=\"sk-item\"><div class=\"sk-serial\"><div class=\"sk-item\"><div class=\"sk-estimator sk-toggleable\"><input class=\"sk-toggleable__control sk-hidden--visually\" id=\"sk-estimator-id-11\" type=\"checkbox\" ><label for=\"sk-estimator-id-11\" class=\"sk-toggleable__label sk-toggleable__label-arrow\">passthrough</label><div class=\"sk-toggleable__content\"><pre>passthrough</pre></div></div></div><div class=\"sk-item\"><div class=\"sk-estimator sk-toggleable\"><input class=\"sk-toggleable__control sk-hidden--visually\" id=\"sk-estimator-id-12\" type=\"checkbox\" ><label for=\"sk-estimator-id-12\" class=\"sk-toggleable__label sk-toggleable__label-arrow\">Lasso</label><div class=\"sk-toggleable__content\"><pre>Lasso()</pre></div></div></div></div></div></div></div></div></div></div></div></div>"
      ],
      "text/plain": [
       "GridSearchCV(cv=TimeSeriesSplit(gap=0, max_train_size=None, n_splits=3, test_size=None),\n",
       "             estimator=Pipeline(steps=[('scaler', 'passthrough'),\n",
       "                                       ('regressor', Lasso())]),\n",
       "             n_jobs=-1,\n",
       "             param_grid={'regressor__alpha': [0.001, 0.0010139254075588154,\n",
       "                                              0.0010280447320933097,\n",
       "                                              0.0010423606739764012,\n",
       "                                              0.0010568759711848039,\n",
       "                                              0.001071593399822671,\n",
       "                                              0.0010865157746525384,\n",
       "                                              0.001101645...\n",
       "                                              0.0013186214013947485,\n",
       "                                              0.0013369837418249467,\n",
       "                                              0.001355601785329369,\n",
       "                                              0.0013744790926775367,\n",
       "                                              0.0013936192742241421,\n",
       "                                              0.0014130259905995337,\n",
       "                                              0.001432702953409831,\n",
       "                                              0.0014526539259467812,\n",
       "                                              0.0014728827239075019,\n",
       "                                              0.0014933932161242517, ...],\n",
       "                         'scaler': ['passthrough', MinMaxScaler(),\n",
       "                                    StandardScaler(), MaxAbsScaler()]},\n",
       "             refit='modOOSR2', scoring={'modOOSR2': make_scorer(modOOSR2)})"
      ]
     },
     "execution_count": 24,
     "metadata": {},
     "output_type": "execute_result"
    }
   ],
   "source": [
    "from sklearn.linear_model import Lasso\n",
    "\n",
    "pipeline = Pipeline([\n",
    "    ('scaler', \"passthrough\"),\n",
    "    ('regressor', Lasso())\n",
    "])\n",
    "\n",
    "param_grid = {\n",
    "    'scaler': [\"passthrough\", MinMaxScaler(), StandardScaler(), MaxAbsScaler()],\n",
    "    'regressor__alpha': [i for i in np.logspace(-3, 3, num=1000)],  \n",
    "}\n",
    "\n",
    "tscv = TimeSeriesSplit(n_splits=3)\n",
    "\n",
    "grid_search = GridSearchCV(\n",
    "    estimator=pipeline, \n",
    "    param_grid=param_grid,\n",
    "    scoring={\"modOOSR2\": make_scorer(modOOSR2)},\n",
    "    refit=\"modOOSR2\", \n",
    "    cv=tscv, \n",
    "    n_jobs=-1\n",
    "    )\n",
    "\n",
    "grid_search.fit(X_train, y_train)"
   ]
  },
  {
   "cell_type": "code",
   "execution_count": 25,
   "metadata": {},
   "outputs": [],
   "source": [
    "results = pd.DataFrame(grid_search.cv_results_)\n",
    "#results"
   ]
  },
  {
   "cell_type": "code",
   "execution_count": 26,
   "metadata": {},
   "outputs": [
    {
     "data": {
      "text/plain": [
       "{'regressor__alpha': 0.0012305240043592616, 'scaler': MaxAbsScaler()}"
      ]
     },
     "execution_count": 26,
     "metadata": {},
     "output_type": "execute_result"
    }
   ],
   "source": [
    "grid_search.best_params_"
   ]
  },
  {
   "cell_type": "code",
   "execution_count": 27,
   "metadata": {},
   "outputs": [
    {
     "data": {
      "text/plain": [
       "0.04448471217834471"
      ]
     },
     "execution_count": 27,
     "metadata": {},
     "output_type": "execute_result"
    }
   ],
   "source": [
    "modOOSR2(y_test, grid_search.predict(X_test))"
   ]
  },
  {
   "cell_type": "code",
   "execution_count": 28,
   "metadata": {},
   "outputs": [
    {
     "data": {
      "text/plain": [
       "0.02168459850634208"
      ]
     },
     "execution_count": 28,
     "metadata": {},
     "output_type": "execute_result"
    }
   ],
   "source": [
    "OOSR2(y_test, grid_search.predict(X_test), naive_mean.predict(X_test))"
   ]
  },
  {
   "cell_type": "code",
   "execution_count": 29,
   "metadata": {},
   "outputs": [
    {
     "data": {
      "text/plain": [
       "(array([ 0.        , -0.        , -0.        ,  0.        , -0.        ,\n",
       "        -0.01168516, -0.        ,  0.        , -0.        , -0.        ,\n",
       "         0.        ,  0.        ,  0.        , -0.        ,  0.        ,\n",
       "        -0.        , -0.        ,  0.        , -0.        ,  0.        ,\n",
       "        -0.        ,  0.        ,  0.        , -0.        , -0.        ,\n",
       "         0.        ,  0.        , -0.        , -0.        , -0.        ,\n",
       "        -0.        ,  0.        , -0.        ,  0.        ,  0.        ,\n",
       "         0.        , -0.        ,  0.        ,  0.        , -0.        ,\n",
       "        -0.        , -0.        ,  0.        ,  0.        ,  0.        ,\n",
       "         0.        ,  0.        ,  0.        , -0.        ]),\n",
       " 0.00913215701907517)"
      ]
     },
     "execution_count": 29,
     "metadata": {},
     "output_type": "execute_result"
    }
   ],
   "source": [
    "best = grid_search.best_estimator_\n",
    "best.named_steps[\"regressor\"].coef_, best.named_steps[\"regressor\"].intercept_\n"
   ]
  },
  {
   "cell_type": "code",
   "execution_count": null,
   "metadata": {},
   "outputs": [],
   "source": []
  }
 ],
 "metadata": {
  "kernelspec": {
   "display_name": "Python 3",
   "language": "python",
   "name": "python3"
  },
  "language_info": {
   "codemirror_mode": {
    "name": "ipython",
    "version": 3
   },
   "file_extension": ".py",
   "mimetype": "text/x-python",
   "name": "python",
   "nbconvert_exporter": "python",
   "pygments_lexer": "ipython3",
   "version": "3.11.2"
  },
  "orig_nbformat": 4
 },
 "nbformat": 4,
 "nbformat_minor": 2
}
