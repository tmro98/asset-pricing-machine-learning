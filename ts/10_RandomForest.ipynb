{
 "cells": [
  {
   "cell_type": "code",
   "execution_count": 1,
   "id": "acff9cd0-0c9f-4db6-995b-463dee0acc0b",
   "metadata": {},
   "outputs": [],
   "source": [
    "import numpy as np\n",
    "import pandas as pd\n",
    "import matplotlib.pyplot as plt\n",
    "\n",
    "from sklearn.ensemble import RandomForestRegressor\n",
    "from sklearn.model_selection import TimeSeriesSplit\n",
    "from sklearn.model_selection import GridSearchCV, RandomizedSearchCV\n",
    "from sklearn.pipeline import Pipeline\n",
    "from sklearn.metrics import make_scorer\n",
    "from sklearn.preprocessing import MinMaxScaler, StandardScaler, MaxAbsScaler\n",
    "from sklearn.dummy import DummyRegressor\n",
    "from sklearn.utils.fixes import loguniform\n",
    "\n",
    "import scipy.stats as stats\n",
    "\n",
    "from ts_utils import OOSR2, modOOSR2"
   ]
  },
  {
   "cell_type": "code",
   "execution_count": 2,
   "id": "5f30951b-41bc-425c-aa59-e59b6682220d",
   "metadata": {},
   "outputs": [
    {
     "data": {
      "text/plain": [
       "((350, 49), (350,), (165, 49), (165,))"
      ]
     },
     "execution_count": 2,
     "metadata": {},
     "output_type": "execute_result"
    }
   ],
   "source": [
    "df = pd.read_csv(\"../_data/timeseries.csv\", index_col=\"Date\")\n",
    "df.index = pd.to_datetime(df.index)\n",
    "df = df.round(4)\n",
    "\n",
    "train = df.iloc[:350]\n",
    "test = df.iloc[350:]\n",
    "\n",
    "X_train, y_train = train.drop([\"EXCESS_RETURN_T+1\"], axis=1).values, train[\"EXCESS_RETURN_T+1\"].values\n",
    "X_test, y_test = test.drop([\"EXCESS_RETURN_T+1\"], axis=1).values, test[\"EXCESS_RETURN_T+1\"].values\n",
    "\n",
    "X_train.shape, y_train.shape, X_test.shape, y_test.shape"
   ]
  },
  {
   "cell_type": "code",
   "execution_count": 3,
   "id": "24443acc-fe88-4b38-8929-c354eaf85c65",
   "metadata": {},
   "outputs": [
    {
     "data": {
      "text/plain": [
       "0.023305483729676668"
      ]
     },
     "execution_count": 3,
     "metadata": {},
     "output_type": "execute_result"
    }
   ],
   "source": [
    "naive_mean = DummyRegressor(strategy=\"mean\")\n",
    "naive_mean.fit(X_train, y_train)\n",
    "modOOSR2(y_test, naive_mean.predict(X_test))"
   ]
  },
  {
   "cell_type": "code",
   "execution_count": 4,
   "id": "3843987a-1b6d-418f-8015-fe5fd841ec3b",
   "metadata": {},
   "outputs": [
    {
     "name": "stdout",
     "output_type": "stream",
     "text": [
      "Fitting 3 folds for each of 100 candidates, totalling 300 fits\n"
     ]
    },
    {
     "data": {
      "text/plain": [
       "RandomizedSearchCV(cv=TimeSeriesSplit(gap=0, max_train_size=None, n_splits=3, test_size=None),\n",
       "                   estimator=Pipeline(steps=[('scaler', 'passthrough'),\n",
       "                                             ('regressor',\n",
       "                                              RandomForestRegressor(n_jobs=-1))]),\n",
       "                   n_iter=100, n_jobs=-1,\n",
       "                   param_distributions={'regressor__max_depth': [1, 2, 3, 4, 5,\n",
       "                                                                 6, 7, 8, 9],\n",
       "                                        'regressor__max_features': [1, 2, 3, 4,\n",
       "                                                                    5, 6, 7, 8,\n",
       "                                                                    9, 10, 11,\n",
       "                                                                    12, 13, 14,\n",
       "                                                                    15, 16, 17,\n",
       "                                                                    18, 19...\n",
       "                                                                    27, 28, 29,\n",
       "                                                                    30, ...],\n",
       "                                        'regressor__min_samples_leaf': [5, 6, 7,\n",
       "                                                                        8, 9,\n",
       "                                                                        10, 11,\n",
       "                                                                        12, 13,\n",
       "                                                                        14, 15,\n",
       "                                                                        16, 17,\n",
       "                                                                        18,\n",
       "                                                                        19],\n",
       "                                        'regressor__min_samples_split': [5, 6,\n",
       "                                                                         7, 8,\n",
       "                                                                         9],\n",
       "                                        'regressor__n_estimators': [10, 11, 12,\n",
       "                                                                    13, 14, 15,\n",
       "                                                                    16, 17, 18,\n",
       "                                                                    19, 20, 21,\n",
       "                                                                    22, 23, 24,\n",
       "                                                                    25, 26, 27,\n",
       "                                                                    28, 29, 30,\n",
       "                                                                    31, 32, 33,\n",
       "                                                                    34, 35, 36,\n",
       "                                                                    37, 38, 39, ...],\n",
       "                                        'scaler': ['passthrough']},\n",
       "                   refit='modOOSR2',\n",
       "                   scoring={'modOOSR2': make_scorer(modOOSR2)}, verbose=2)"
      ]
     },
     "execution_count": 4,
     "metadata": {},
     "output_type": "execute_result"
    }
   ],
   "source": [
    "pipeline = Pipeline([\n",
    "    ('scaler', \"passthrough\"),\n",
    "    ('regressor', RandomForestRegressor(n_jobs=-1))\n",
    "])\n",
    "\n",
    "param_grid = {\n",
    "    'scaler': [\"passthrough\"],\n",
    "    \"regressor__n_estimators\": [i for i in np.arange(10,100)],\n",
    "    \"regressor__max_depth\": [i for i in np.arange(1,10)],\n",
    "    \"regressor__max_features\": [i for i in np.arange(1,50)],\n",
    "    \"regressor__min_samples_split\": [i for i in np.arange(5,10)],\n",
    "    \"regressor__min_samples_leaf\": [i for i in np.arange(5,20)]\n",
    "}\n",
    "\n",
    "tscv = TimeSeriesSplit(n_splits=3)\n",
    "\n",
    "grid_search = RandomizedSearchCV(\n",
    "    estimator=pipeline, \n",
    "    param_distributions= param_grid,\n",
    "    scoring={\"modOOSR2\": make_scorer(modOOSR2)},\n",
    "    refit=\"modOOSR2\", \n",
    "    cv=tscv,\n",
    "    n_iter=100, \n",
    "    n_jobs=-1,\n",
    "    verbose=2\n",
    "    )\n",
    "\n",
    "grid_search.fit(X_train, y_train)"
   ]
  },
  {
   "cell_type": "code",
   "execution_count": 5,
   "id": "c0bcb33e-6e74-4c3a-9562-968e0bce60ed",
   "metadata": {},
   "outputs": [
    {
     "data": {
      "text/html": [
       "<div>\n",
       "<style scoped>\n",
       "    .dataframe tbody tr th:only-of-type {\n",
       "        vertical-align: middle;\n",
       "    }\n",
       "\n",
       "    .dataframe tbody tr th {\n",
       "        vertical-align: top;\n",
       "    }\n",
       "\n",
       "    .dataframe thead th {\n",
       "        text-align: right;\n",
       "    }\n",
       "</style>\n",
       "<table border=\"1\" class=\"dataframe\">\n",
       "  <thead>\n",
       "    <tr style=\"text-align: right;\">\n",
       "      <th></th>\n",
       "      <th>mean_fit_time</th>\n",
       "      <th>std_fit_time</th>\n",
       "      <th>mean_score_time</th>\n",
       "      <th>std_score_time</th>\n",
       "      <th>param_scaler</th>\n",
       "      <th>param_regressor__n_estimators</th>\n",
       "      <th>param_regressor__min_samples_split</th>\n",
       "      <th>param_regressor__min_samples_leaf</th>\n",
       "      <th>param_regressor__max_features</th>\n",
       "      <th>param_regressor__max_depth</th>\n",
       "      <th>params</th>\n",
       "      <th>split0_test_modOOSR2</th>\n",
       "      <th>split1_test_modOOSR2</th>\n",
       "      <th>split2_test_modOOSR2</th>\n",
       "      <th>mean_test_modOOSR2</th>\n",
       "      <th>std_test_modOOSR2</th>\n",
       "      <th>rank_test_modOOSR2</th>\n",
       "    </tr>\n",
       "  </thead>\n",
       "  <tbody>\n",
       "    <tr>\n",
       "      <th>33</th>\n",
       "      <td>0.300844</td>\n",
       "      <td>0.003229</td>\n",
       "      <td>0.035113</td>\n",
       "      <td>0.019673</td>\n",
       "      <td>passthrough</td>\n",
       "      <td>58</td>\n",
       "      <td>6</td>\n",
       "      <td>11</td>\n",
       "      <td>6</td>\n",
       "      <td>1</td>\n",
       "      <td>{'scaler': 'passthrough', 'regressor__n_estima...</td>\n",
       "      <td>0.010874</td>\n",
       "      <td>0.012042</td>\n",
       "      <td>-0.059760</td>\n",
       "      <td>-0.012282</td>\n",
       "      <td>0.033576</td>\n",
       "      <td>4</td>\n",
       "    </tr>\n",
       "    <tr>\n",
       "      <th>35</th>\n",
       "      <td>0.490892</td>\n",
       "      <td>0.012940</td>\n",
       "      <td>0.074494</td>\n",
       "      <td>0.004324</td>\n",
       "      <td>passthrough</td>\n",
       "      <td>92</td>\n",
       "      <td>9</td>\n",
       "      <td>12</td>\n",
       "      <td>10</td>\n",
       "      <td>1</td>\n",
       "      <td>{'scaler': 'passthrough', 'regressor__n_estima...</td>\n",
       "      <td>0.020814</td>\n",
       "      <td>0.020326</td>\n",
       "      <td>-0.056461</td>\n",
       "      <td>-0.005107</td>\n",
       "      <td>0.036314</td>\n",
       "      <td>1</td>\n",
       "    </tr>\n",
       "    <tr>\n",
       "      <th>57</th>\n",
       "      <td>0.420440</td>\n",
       "      <td>0.024980</td>\n",
       "      <td>0.041655</td>\n",
       "      <td>0.014891</td>\n",
       "      <td>passthrough</td>\n",
       "      <td>95</td>\n",
       "      <td>7</td>\n",
       "      <td>18</td>\n",
       "      <td>1</td>\n",
       "      <td>1</td>\n",
       "      <td>{'scaler': 'passthrough', 'regressor__n_estima...</td>\n",
       "      <td>0.008422</td>\n",
       "      <td>0.021405</td>\n",
       "      <td>-0.046837</td>\n",
       "      <td>-0.005670</td>\n",
       "      <td>0.029588</td>\n",
       "      <td>2</td>\n",
       "    </tr>\n",
       "    <tr>\n",
       "      <th>65</th>\n",
       "      <td>0.174937</td>\n",
       "      <td>0.027402</td>\n",
       "      <td>0.031957</td>\n",
       "      <td>0.024947</td>\n",
       "      <td>passthrough</td>\n",
       "      <td>25</td>\n",
       "      <td>8</td>\n",
       "      <td>10</td>\n",
       "      <td>27</td>\n",
       "      <td>1</td>\n",
       "      <td>{'scaler': 'passthrough', 'regressor__n_estima...</td>\n",
       "      <td>0.009929</td>\n",
       "      <td>0.011744</td>\n",
       "      <td>-0.072784</td>\n",
       "      <td>-0.017037</td>\n",
       "      <td>0.039426</td>\n",
       "      <td>5</td>\n",
       "    </tr>\n",
       "    <tr>\n",
       "      <th>98</th>\n",
       "      <td>0.125545</td>\n",
       "      <td>0.024307</td>\n",
       "      <td>0.011177</td>\n",
       "      <td>0.000270</td>\n",
       "      <td>passthrough</td>\n",
       "      <td>16</td>\n",
       "      <td>9</td>\n",
       "      <td>14</td>\n",
       "      <td>6</td>\n",
       "      <td>1</td>\n",
       "      <td>{'scaler': 'passthrough', 'regressor__n_estima...</td>\n",
       "      <td>0.004979</td>\n",
       "      <td>-0.003634</td>\n",
       "      <td>-0.037158</td>\n",
       "      <td>-0.011938</td>\n",
       "      <td>0.018177</td>\n",
       "      <td>3</td>\n",
       "    </tr>\n",
       "  </tbody>\n",
       "</table>\n",
       "</div>"
      ],
      "text/plain": [
       "    mean_fit_time  std_fit_time  mean_score_time  std_score_time param_scaler  \\\n",
       "33       0.300844      0.003229         0.035113        0.019673  passthrough   \n",
       "35       0.490892      0.012940         0.074494        0.004324  passthrough   \n",
       "57       0.420440      0.024980         0.041655        0.014891  passthrough   \n",
       "65       0.174937      0.027402         0.031957        0.024947  passthrough   \n",
       "98       0.125545      0.024307         0.011177        0.000270  passthrough   \n",
       "\n",
       "   param_regressor__n_estimators param_regressor__min_samples_split  \\\n",
       "33                            58                                  6   \n",
       "35                            92                                  9   \n",
       "57                            95                                  7   \n",
       "65                            25                                  8   \n",
       "98                            16                                  9   \n",
       "\n",
       "   param_regressor__min_samples_leaf param_regressor__max_features  \\\n",
       "33                                11                             6   \n",
       "35                                12                            10   \n",
       "57                                18                             1   \n",
       "65                                10                            27   \n",
       "98                                14                             6   \n",
       "\n",
       "   param_regressor__max_depth  \\\n",
       "33                          1   \n",
       "35                          1   \n",
       "57                          1   \n",
       "65                          1   \n",
       "98                          1   \n",
       "\n",
       "                                               params  split0_test_modOOSR2  \\\n",
       "33  {'scaler': 'passthrough', 'regressor__n_estima...              0.010874   \n",
       "35  {'scaler': 'passthrough', 'regressor__n_estima...              0.020814   \n",
       "57  {'scaler': 'passthrough', 'regressor__n_estima...              0.008422   \n",
       "65  {'scaler': 'passthrough', 'regressor__n_estima...              0.009929   \n",
       "98  {'scaler': 'passthrough', 'regressor__n_estima...              0.004979   \n",
       "\n",
       "    split1_test_modOOSR2  split2_test_modOOSR2  mean_test_modOOSR2  \\\n",
       "33              0.012042             -0.059760           -0.012282   \n",
       "35              0.020326             -0.056461           -0.005107   \n",
       "57              0.021405             -0.046837           -0.005670   \n",
       "65              0.011744             -0.072784           -0.017037   \n",
       "98             -0.003634             -0.037158           -0.011938   \n",
       "\n",
       "    std_test_modOOSR2  rank_test_modOOSR2  \n",
       "33           0.033576                   4  \n",
       "35           0.036314                   1  \n",
       "57           0.029588                   2  \n",
       "65           0.039426                   5  \n",
       "98           0.018177                   3  "
      ]
     },
     "execution_count": 5,
     "metadata": {},
     "output_type": "execute_result"
    }
   ],
   "source": [
    "results = pd.DataFrame(grid_search.cv_results_)\n",
    "results[results[\"rank_test_modOOSR2\"]<=5]"
   ]
  },
  {
   "cell_type": "code",
   "execution_count": 6,
   "id": "d79b5add-db9e-4d6f-ad63-af3442bbfd14",
   "metadata": {},
   "outputs": [
    {
     "data": {
      "text/plain": [
       "{'scaler': 'passthrough',\n",
       " 'regressor__n_estimators': 92,\n",
       " 'regressor__min_samples_split': 9,\n",
       " 'regressor__min_samples_leaf': 12,\n",
       " 'regressor__max_features': 10,\n",
       " 'regressor__max_depth': 1}"
      ]
     },
     "execution_count": 6,
     "metadata": {},
     "output_type": "execute_result"
    }
   ],
   "source": [
    "grid_search.best_params_"
   ]
  },
  {
   "cell_type": "code",
   "execution_count": 7,
   "id": "cb1d6491-dca9-4f52-b406-d886ab2b14ac",
   "metadata": {},
   "outputs": [
    {
     "data": {
      "text/plain": [
       "0.037303033337860225"
      ]
     },
     "execution_count": 7,
     "metadata": {},
     "output_type": "execute_result"
    }
   ],
   "source": [
    "modOOSR2(y_test, grid_search.predict(X_test))"
   ]
  },
  {
   "cell_type": "code",
   "execution_count": 23,
   "id": "d375748b-895d-4cf7-978b-8a66085cfb66",
   "metadata": {},
   "outputs": [
    {
     "data": {
      "text/plain": [
       "array([0.01666667, 0.02666667, 0.02666667, 0.00666667, 0.02333333,\n",
       "       0.05666667, 0.01666667, 0.00666667, 0.00333333, 0.06      ,\n",
       "       0.00333333, 0.02      , 0.00333333, 0.02666667, 0.        ,\n",
       "       0.05      , 0.01      , 0.        , 0.02      , 0.01666667,\n",
       "       0.02      , 0.01666667, 0.00666667, 0.05      , 0.        ,\n",
       "       0.03333333, 0.01666667, 0.06333333, 0.03      , 0.03      ,\n",
       "       0.04666667, 0.07333333, 0.01333333, 0.03      , 0.01      ,\n",
       "       0.01333333, 0.01      , 0.01333333, 0.01333333, 0.00666667,\n",
       "       0.01666667, 0.        , 0.01666667, 0.00666667, 0.01666667,\n",
       "       0.00333333, 0.02      , 0.01666667, 0.01333333])"
      ]
     },
     "execution_count": 23,
     "metadata": {},
     "output_type": "execute_result"
    }
   ],
   "source": [
    "best = grid_search.best_estimator_\n",
    "best.named_steps[\"regressor\"].feature_importances_"
   ]
  },
  {
   "cell_type": "code",
   "execution_count": null,
   "id": "db225530-2768-4b2f-b5a8-89c22645d39f",
   "metadata": {},
   "outputs": [],
   "source": []
  }
 ],
 "metadata": {
  "kernelspec": {
   "display_name": "Python 3",
   "language": "python",
   "name": "python3"
  },
  "language_info": {
   "codemirror_mode": {
    "name": "ipython",
    "version": 3
   },
   "file_extension": ".py",
   "mimetype": "text/x-python",
   "name": "python",
   "nbconvert_exporter": "python",
   "pygments_lexer": "ipython3",
   "version": "3.9.2"
  }
 },
 "nbformat": 4,
 "nbformat_minor": 5
}
