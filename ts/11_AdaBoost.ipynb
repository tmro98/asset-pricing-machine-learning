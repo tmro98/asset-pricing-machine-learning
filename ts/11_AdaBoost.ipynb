{
 "cells": [
  {
   "cell_type": "code",
   "execution_count": 48,
   "id": "acff9cd0-0c9f-4db6-995b-463dee0acc0b",
   "metadata": {},
   "outputs": [],
   "source": [
    "import numpy as np\n",
    "import pandas as pd\n",
    "import matplotlib.pyplot as plt\n",
    "\n",
    "\n",
    "from sklearn.ensemble import RandomForestRegressor\n",
    "from sklearn.ensemble import AdaBoostRegressor\n",
    "from sklearn.tree import DecisionTreeRegressor\n",
    "from sklearn.model_selection import TimeSeriesSplit\n",
    "from sklearn.model_selection import GridSearchCV, RandomizedSearchCV\n",
    "from sklearn.pipeline import Pipeline\n",
    "from sklearn.metrics import make_scorer\n",
    "from sklearn.preprocessing import MinMaxScaler, StandardScaler, MaxAbsScaler\n",
    "from sklearn.dummy import DummyRegressor\n",
    "from sklearn.utils.fixes import loguniform\n",
    "\n",
    "import scipy.stats as stats\n",
    "\n",
    "from ts_utils import OOSR2, modOOSR2"
   ]
  },
  {
   "cell_type": "code",
   "execution_count": 49,
   "id": "5f30951b-41bc-425c-aa59-e59b6682220d",
   "metadata": {},
   "outputs": [
    {
     "data": {
      "text/plain": [
       "((350, 49), (350,), (165, 49), (165,))"
      ]
     },
     "execution_count": 49,
     "metadata": {},
     "output_type": "execute_result"
    }
   ],
   "source": [
    "df = pd.read_csv(\"../_data/timeseries.csv\", index_col=\"Date\")\n",
    "df.index = pd.to_datetime(df.index)\n",
    "df = df.round(4)\n",
    "\n",
    "train = df.iloc[:350]\n",
    "test = df.iloc[350:]\n",
    "\n",
    "X_train, y_train = train.drop([\"EXCESS_RETURN_T+1\"], axis=1).values, train[\"EXCESS_RETURN_T+1\"].values\n",
    "X_test, y_test = test.drop([\"EXCESS_RETURN_T+1\"], axis=1).values, test[\"EXCESS_RETURN_T+1\"].values\n",
    "\n",
    "X_train.shape, y_train.shape, X_test.shape, y_test.shape"
   ]
  },
  {
   "cell_type": "code",
   "execution_count": 50,
   "id": "24443acc-fe88-4b38-8929-c354eaf85c65",
   "metadata": {},
   "outputs": [
    {
     "data": {
      "text/plain": [
       "0.023305483729676668"
      ]
     },
     "execution_count": 50,
     "metadata": {},
     "output_type": "execute_result"
    }
   ],
   "source": [
    "naive_mean = DummyRegressor(strategy=\"mean\")\n",
    "naive_mean.fit(X_train, y_train)\n",
    "modOOSR2(y_test, naive_mean.predict(X_test))"
   ]
  },
  {
   "cell_type": "code",
   "execution_count": 81,
   "id": "3843987a-1b6d-418f-8015-fe5fd841ec3b",
   "metadata": {},
   "outputs": [
    {
     "name": "stdout",
     "output_type": "stream",
     "text": [
      "Fitting 3 folds for each of 10000 candidates, totalling 30000 fits\n"
     ]
    },
    {
     "data": {
      "text/plain": [
       "RandomizedSearchCV(cv=TimeSeriesSplit(gap=0, max_train_size=None, n_splits=3, test_size=None),\n",
       "                   estimator=Pipeline(steps=[('scaler', 'passthrough'),\n",
       "                                             ('regressor',\n",
       "                                              AdaBoostRegressor(base_estimator=DecisionTreeRegressor()))]),\n",
       "                   n_iter=10000, n_jobs=-1,\n",
       "                   param_distributions={'regressor__base_estimator__max_depth': [1,\n",
       "                                                                                 2,\n",
       "                                                                                 3,\n",
       "                                                                                 4],\n",
       "                                        'regressor__base_estimator__max_features'...\n",
       "                                                                     0.11621621621621622,\n",
       "                                                                     0.11711711711711711,\n",
       "                                                                     0.11801801801801802,\n",
       "                                                                     0.11891891891891893,\n",
       "                                                                     0.11981981981981982,\n",
       "                                                                     0.12072072072072072,\n",
       "                                                                     0.12162162162162163,\n",
       "                                                                     0.12252252252252252,\n",
       "                                                                     0.12342342342342343,\n",
       "                                                                     0.12432432432432433,\n",
       "                                                                     0.12522522522522522,\n",
       "                                                                     0.12612612612612614, ...],\n",
       "                                        'regressor__n_estimators': [2, 3, 4, 5,\n",
       "                                                                    6, 7, 8,\n",
       "                                                                    9]},\n",
       "                   refit='modOOSR2',\n",
       "                   scoring={'modOOSR2': make_scorer(modOOSR2)}, verbose=2)"
      ]
     },
     "execution_count": 81,
     "metadata": {},
     "output_type": "execute_result"
    }
   ],
   "source": [
    "estimator = AdaBoostRegressor(base_estimator=DecisionTreeRegressor())\n",
    "\n",
    "pipeline = Pipeline([\n",
    "    ('scaler', \"passthrough\"),\n",
    "    ('regressor', estimator)\n",
    "])\n",
    "\n",
    "param_grid = {\n",
    "    \"regressor__n_estimators\": [i for i in np.arange(2,10)],\n",
    "    \"regressor__learning_rate\": [i for i in np.linspace(0.1,1,1000)],\n",
    "    'regressor__base_estimator__max_depth': [i for i in np.arange(1,5)], \n",
    "    #'regressor__base_estimator__n_estimators': [i for i in np.arange(2,100)],\n",
    "    \"regressor__base_estimator__max_features\": [i for i in np.arange(1,30)],\n",
    "    \"regressor__base_estimator__min_samples_split\": [i for i in np.arange(2,20)],\n",
    "    \"regressor__base_estimator__min_samples_leaf\": [i for i in np.arange(1,20)]\n",
    "}\n",
    "\n",
    "tscv = TimeSeriesSplit(n_splits=3)\n",
    "\n",
    "grid_search = RandomizedSearchCV(\n",
    "    estimator=pipeline, \n",
    "    param_distributions= param_grid,\n",
    "    scoring={\"modOOSR2\": make_scorer(modOOSR2)},\n",
    "    refit=\"modOOSR2\", \n",
    "    cv=tscv,\n",
    "    n_iter=10000, \n",
    "    n_jobs=-1,\n",
    "    verbose=2\n",
    "    )\n",
    "\n",
    "grid_search.fit(X_train, y_train)\n",
    "\n",
    "#pipeline.get_params()"
   ]
  },
  {
   "cell_type": "code",
   "execution_count": 82,
   "id": "c0bcb33e-6e74-4c3a-9562-968e0bce60ed",
   "metadata": {},
   "outputs": [
    {
     "data": {
      "text/html": [
       "<div>\n",
       "<style scoped>\n",
       "    .dataframe tbody tr th:only-of-type {\n",
       "        vertical-align: middle;\n",
       "    }\n",
       "\n",
       "    .dataframe tbody tr th {\n",
       "        vertical-align: top;\n",
       "    }\n",
       "\n",
       "    .dataframe thead th {\n",
       "        text-align: right;\n",
       "    }\n",
       "</style>\n",
       "<table border=\"1\" class=\"dataframe\">\n",
       "  <thead>\n",
       "    <tr style=\"text-align: right;\">\n",
       "      <th></th>\n",
       "      <th>mean_fit_time</th>\n",
       "      <th>std_fit_time</th>\n",
       "      <th>mean_score_time</th>\n",
       "      <th>std_score_time</th>\n",
       "      <th>param_regressor__n_estimators</th>\n",
       "      <th>param_regressor__learning_rate</th>\n",
       "      <th>param_regressor__base_estimator__min_samples_split</th>\n",
       "      <th>param_regressor__base_estimator__min_samples_leaf</th>\n",
       "      <th>param_regressor__base_estimator__max_features</th>\n",
       "      <th>param_regressor__base_estimator__max_depth</th>\n",
       "      <th>params</th>\n",
       "      <th>split0_test_modOOSR2</th>\n",
       "      <th>split1_test_modOOSR2</th>\n",
       "      <th>split2_test_modOOSR2</th>\n",
       "      <th>mean_test_modOOSR2</th>\n",
       "      <th>std_test_modOOSR2</th>\n",
       "      <th>rank_test_modOOSR2</th>\n",
       "    </tr>\n",
       "  </thead>\n",
       "  <tbody>\n",
       "    <tr>\n",
       "      <th>2736</th>\n",
       "      <td>0.006012</td>\n",
       "      <td>0.000263</td>\n",
       "      <td>0.000559</td>\n",
       "      <td>2.557076e-05</td>\n",
       "      <td>6</td>\n",
       "      <td>0.767568</td>\n",
       "      <td>15</td>\n",
       "      <td>15</td>\n",
       "      <td>11</td>\n",
       "      <td>1</td>\n",
       "      <td>{'regressor__n_estimators': 6, 'regressor__lea...</td>\n",
       "      <td>0.121424</td>\n",
       "      <td>0.000705</td>\n",
       "      <td>0.008537</td>\n",
       "      <td>0.043555</td>\n",
       "      <td>0.055154</td>\n",
       "      <td>3</td>\n",
       "    </tr>\n",
       "    <tr>\n",
       "      <th>4819</th>\n",
       "      <td>0.009241</td>\n",
       "      <td>0.000772</td>\n",
       "      <td>0.000637</td>\n",
       "      <td>3.371748e-07</td>\n",
       "      <td>9</td>\n",
       "      <td>0.212613</td>\n",
       "      <td>10</td>\n",
       "      <td>9</td>\n",
       "      <td>19</td>\n",
       "      <td>1</td>\n",
       "      <td>{'regressor__n_estimators': 9, 'regressor__lea...</td>\n",
       "      <td>0.080796</td>\n",
       "      <td>0.046039</td>\n",
       "      <td>-0.005129</td>\n",
       "      <td>0.040569</td>\n",
       "      <td>0.035291</td>\n",
       "      <td>5</td>\n",
       "    </tr>\n",
       "    <tr>\n",
       "      <th>6562</th>\n",
       "      <td>0.007126</td>\n",
       "      <td>0.002411</td>\n",
       "      <td>0.000677</td>\n",
       "      <td>2.000062e-04</td>\n",
       "      <td>4</td>\n",
       "      <td>0.585586</td>\n",
       "      <td>10</td>\n",
       "      <td>19</td>\n",
       "      <td>15</td>\n",
       "      <td>1</td>\n",
       "      <td>{'regressor__n_estimators': 4, 'regressor__lea...</td>\n",
       "      <td>0.080486</td>\n",
       "      <td>0.036149</td>\n",
       "      <td>0.025795</td>\n",
       "      <td>0.047477</td>\n",
       "      <td>0.023721</td>\n",
       "      <td>1</td>\n",
       "    </tr>\n",
       "    <tr>\n",
       "      <th>6651</th>\n",
       "      <td>0.008286</td>\n",
       "      <td>0.000771</td>\n",
       "      <td>0.000606</td>\n",
       "      <td>2.186038e-05</td>\n",
       "      <td>8</td>\n",
       "      <td>0.159459</td>\n",
       "      <td>19</td>\n",
       "      <td>14</td>\n",
       "      <td>20</td>\n",
       "      <td>1</td>\n",
       "      <td>{'regressor__n_estimators': 8, 'regressor__lea...</td>\n",
       "      <td>0.107575</td>\n",
       "      <td>0.000666</td>\n",
       "      <td>0.017046</td>\n",
       "      <td>0.041763</td>\n",
       "      <td>0.047015</td>\n",
       "      <td>4</td>\n",
       "    </tr>\n",
       "    <tr>\n",
       "      <th>7372</th>\n",
       "      <td>0.008675</td>\n",
       "      <td>0.000531</td>\n",
       "      <td>0.000666</td>\n",
       "      <td>2.409168e-05</td>\n",
       "      <td>9</td>\n",
       "      <td>0.372973</td>\n",
       "      <td>15</td>\n",
       "      <td>5</td>\n",
       "      <td>10</td>\n",
       "      <td>1</td>\n",
       "      <td>{'regressor__n_estimators': 9, 'regressor__lea...</td>\n",
       "      <td>0.038735</td>\n",
       "      <td>0.072782</td>\n",
       "      <td>0.022162</td>\n",
       "      <td>0.044560</td>\n",
       "      <td>0.021072</td>\n",
       "      <td>2</td>\n",
       "    </tr>\n",
       "  </tbody>\n",
       "</table>\n",
       "</div>"
      ],
      "text/plain": [
       "      mean_fit_time  std_fit_time  mean_score_time  std_score_time  \\\n",
       "2736       0.006012      0.000263         0.000559    2.557076e-05   \n",
       "4819       0.009241      0.000772         0.000637    3.371748e-07   \n",
       "6562       0.007126      0.002411         0.000677    2.000062e-04   \n",
       "6651       0.008286      0.000771         0.000606    2.186038e-05   \n",
       "7372       0.008675      0.000531         0.000666    2.409168e-05   \n",
       "\n",
       "     param_regressor__n_estimators param_regressor__learning_rate  \\\n",
       "2736                             6                       0.767568   \n",
       "4819                             9                       0.212613   \n",
       "6562                             4                       0.585586   \n",
       "6651                             8                       0.159459   \n",
       "7372                             9                       0.372973   \n",
       "\n",
       "     param_regressor__base_estimator__min_samples_split  \\\n",
       "2736                                                 15   \n",
       "4819                                                 10   \n",
       "6562                                                 10   \n",
       "6651                                                 19   \n",
       "7372                                                 15   \n",
       "\n",
       "     param_regressor__base_estimator__min_samples_leaf  \\\n",
       "2736                                                15   \n",
       "4819                                                 9   \n",
       "6562                                                19   \n",
       "6651                                                14   \n",
       "7372                                                 5   \n",
       "\n",
       "     param_regressor__base_estimator__max_features  \\\n",
       "2736                                            11   \n",
       "4819                                            19   \n",
       "6562                                            15   \n",
       "6651                                            20   \n",
       "7372                                            10   \n",
       "\n",
       "     param_regressor__base_estimator__max_depth  \\\n",
       "2736                                          1   \n",
       "4819                                          1   \n",
       "6562                                          1   \n",
       "6651                                          1   \n",
       "7372                                          1   \n",
       "\n",
       "                                                 params  split0_test_modOOSR2  \\\n",
       "2736  {'regressor__n_estimators': 6, 'regressor__lea...              0.121424   \n",
       "4819  {'regressor__n_estimators': 9, 'regressor__lea...              0.080796   \n",
       "6562  {'regressor__n_estimators': 4, 'regressor__lea...              0.080486   \n",
       "6651  {'regressor__n_estimators': 8, 'regressor__lea...              0.107575   \n",
       "7372  {'regressor__n_estimators': 9, 'regressor__lea...              0.038735   \n",
       "\n",
       "      split1_test_modOOSR2  split2_test_modOOSR2  mean_test_modOOSR2  \\\n",
       "2736              0.000705              0.008537            0.043555   \n",
       "4819              0.046039             -0.005129            0.040569   \n",
       "6562              0.036149              0.025795            0.047477   \n",
       "6651              0.000666              0.017046            0.041763   \n",
       "7372              0.072782              0.022162            0.044560   \n",
       "\n",
       "      std_test_modOOSR2  rank_test_modOOSR2  \n",
       "2736           0.055154                   3  \n",
       "4819           0.035291                   5  \n",
       "6562           0.023721                   1  \n",
       "6651           0.047015                   4  \n",
       "7372           0.021072                   2  "
      ]
     },
     "execution_count": 82,
     "metadata": {},
     "output_type": "execute_result"
    }
   ],
   "source": [
    "results = pd.DataFrame(grid_search.cv_results_)\n",
    "results[results[\"rank_test_modOOSR2\"] <= 5]"
   ]
  },
  {
   "cell_type": "code",
   "execution_count": 83,
   "id": "d79b5add-db9e-4d6f-ad63-af3442bbfd14",
   "metadata": {},
   "outputs": [
    {
     "data": {
      "text/plain": [
       "{'regressor__n_estimators': 4,\n",
       " 'regressor__learning_rate': 0.5855855855855856,\n",
       " 'regressor__base_estimator__min_samples_split': 10,\n",
       " 'regressor__base_estimator__min_samples_leaf': 19,\n",
       " 'regressor__base_estimator__max_features': 15,\n",
       " 'regressor__base_estimator__max_depth': 1}"
      ]
     },
     "execution_count": 83,
     "metadata": {},
     "output_type": "execute_result"
    }
   ],
   "source": [
    "grid_search.best_params_"
   ]
  },
  {
   "cell_type": "code",
   "execution_count": 84,
   "id": "cb1d6491-dca9-4f52-b406-d886ab2b14ac",
   "metadata": {},
   "outputs": [
    {
     "data": {
      "text/plain": [
       "0.0328114129910857"
      ]
     },
     "execution_count": 84,
     "metadata": {},
     "output_type": "execute_result"
    }
   ],
   "source": [
    "modOOSR2(y_test, grid_search.predict(X_test))"
   ]
  },
  {
   "cell_type": "code",
   "execution_count": 85,
   "id": "d375748b-895d-4cf7-978b-8a66085cfb66",
   "metadata": {},
   "outputs": [
    {
     "data": {
      "text/plain": [
       "array([0.        , 0.        , 0.        , 0.        , 0.        ,\n",
       "       0.        , 0.        , 0.        , 0.        , 0.31243582,\n",
       "       0.        , 0.        , 0.        , 0.        , 0.        ,\n",
       "       0.        , 0.        , 0.        , 0.        , 0.        ,\n",
       "       0.        , 0.        , 0.        , 0.        , 0.        ,\n",
       "       0.        , 0.        , 0.        , 0.        , 0.        ,\n",
       "       0.48057485, 0.        , 0.        , 0.        , 0.        ,\n",
       "       0.        , 0.        , 0.        , 0.        , 0.        ,\n",
       "       0.20698933, 0.        , 0.        , 0.        , 0.        ,\n",
       "       0.        , 0.        , 0.        , 0.        ])"
      ]
     },
     "execution_count": 85,
     "metadata": {},
     "output_type": "execute_result"
    }
   ],
   "source": [
    "best = grid_search.best_estimator_\n",
    "best.named_steps[\"regressor\"].feature_importances_"
   ]
  },
  {
   "cell_type": "code",
   "execution_count": null,
   "id": "db225530-2768-4b2f-b5a8-89c22645d39f",
   "metadata": {},
   "outputs": [],
   "source": []
  }
 ],
 "metadata": {
  "kernelspec": {
   "display_name": "Python 3",
   "language": "python",
   "name": "python3"
  },
  "language_info": {
   "codemirror_mode": {
    "name": "ipython",
    "version": 3
   },
   "file_extension": ".py",
   "mimetype": "text/x-python",
   "name": "python",
   "nbconvert_exporter": "python",
   "pygments_lexer": "ipython3",
   "version": "3.9.2"
  }
 },
 "nbformat": 4,
 "nbformat_minor": 5
}
