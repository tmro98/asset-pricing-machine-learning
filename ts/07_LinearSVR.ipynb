{
 "cells": [
  {
   "cell_type": "code",
   "execution_count": 1,
   "id": "acff9cd0-0c9f-4db6-995b-463dee0acc0b",
   "metadata": {},
   "outputs": [],
   "source": [
    "import numpy as np\n",
    "import pandas as pd\n",
    "import matplotlib.pyplot as plt\n",
    "\n",
    "from sklearn.model_selection import TimeSeriesSplit\n",
    "from sklearn.model_selection import GridSearchCV, RandomizedSearchCV\n",
    "from sklearn.pipeline import Pipeline\n",
    "from sklearn.metrics import make_scorer\n",
    "from sklearn.preprocessing import MinMaxScaler, StandardScaler, MaxAbsScaler\n",
    "from sklearn.dummy import DummyRegressor\n",
    "from sklearn.utils.fixes import loguniform\n",
    "\n",
    "import scipy.stats as stats\n",
    "\n",
    "from ts_utils import OOSR2, modOOSR2"
   ]
  },
  {
   "cell_type": "code",
   "execution_count": 2,
   "id": "5f30951b-41bc-425c-aa59-e59b6682220d",
   "metadata": {},
   "outputs": [
    {
     "data": {
      "text/plain": [
       "((350, 49), (350,), (165, 49), (165,))"
      ]
     },
     "execution_count": 2,
     "metadata": {},
     "output_type": "execute_result"
    }
   ],
   "source": [
    "df = pd.read_csv(\"../.data/timeseries.csv\", index_col=\"Date\")\n",
    "df.index = pd.to_datetime(df.index)\n",
    "df = df.round(4)\n",
    "\n",
    "train = df.iloc[:350]\n",
    "test = df.iloc[350:]\n",
    "\n",
    "X_train, y_train = train.drop([\"EXCESS_RETURN_T+1\"], axis=1).values, train[\"EXCESS_RETURN_T+1\"].values\n",
    "X_test, y_test = test.drop([\"EXCESS_RETURN_T+1\"], axis=1).values, test[\"EXCESS_RETURN_T+1\"].values\n",
    "\n",
    "X_train.shape, y_train.shape, X_test.shape, y_test.shape"
   ]
  },
  {
   "cell_type": "code",
   "execution_count": 3,
   "id": "24443acc-fe88-4b38-8929-c354eaf85c65",
   "metadata": {},
   "outputs": [
    {
     "data": {
      "text/plain": [
       "0.023305483729676668"
      ]
     },
     "execution_count": 3,
     "metadata": {},
     "output_type": "execute_result"
    }
   ],
   "source": [
    "naive_mean = DummyRegressor(strategy=\"mean\")\n",
    "naive_mean.fit(X_train, y_train)\n",
    "modOOSR2(y_test, naive_mean.predict(X_test))"
   ]
  },
  {
   "cell_type": "code",
   "execution_count": 17,
   "id": "3843987a-1b6d-418f-8015-fe5fd841ec3b",
   "metadata": {},
   "outputs": [
    {
     "data": {
      "text/html": [
       "<style>#sk-container-id-5 {color: black;background-color: white;}#sk-container-id-5 pre{padding: 0;}#sk-container-id-5 div.sk-toggleable {background-color: white;}#sk-container-id-5 label.sk-toggleable__label {cursor: pointer;display: block;width: 100%;margin-bottom: 0;padding: 0.3em;box-sizing: border-box;text-align: center;}#sk-container-id-5 label.sk-toggleable__label-arrow:before {content: \"▸\";float: left;margin-right: 0.25em;color: #696969;}#sk-container-id-5 label.sk-toggleable__label-arrow:hover:before {color: black;}#sk-container-id-5 div.sk-estimator:hover label.sk-toggleable__label-arrow:before {color: black;}#sk-container-id-5 div.sk-toggleable__content {max-height: 0;max-width: 0;overflow: hidden;text-align: left;background-color: #f0f8ff;}#sk-container-id-5 div.sk-toggleable__content pre {margin: 0.2em;color: black;border-radius: 0.25em;background-color: #f0f8ff;}#sk-container-id-5 input.sk-toggleable__control:checked~div.sk-toggleable__content {max-height: 200px;max-width: 100%;overflow: auto;}#sk-container-id-5 input.sk-toggleable__control:checked~label.sk-toggleable__label-arrow:before {content: \"▾\";}#sk-container-id-5 div.sk-estimator input.sk-toggleable__control:checked~label.sk-toggleable__label {background-color: #d4ebff;}#sk-container-id-5 div.sk-label input.sk-toggleable__control:checked~label.sk-toggleable__label {background-color: #d4ebff;}#sk-container-id-5 input.sk-hidden--visually {border: 0;clip: rect(1px 1px 1px 1px);clip: rect(1px, 1px, 1px, 1px);height: 1px;margin: -1px;overflow: hidden;padding: 0;position: absolute;width: 1px;}#sk-container-id-5 div.sk-estimator {font-family: monospace;background-color: #f0f8ff;border: 1px dotted black;border-radius: 0.25em;box-sizing: border-box;margin-bottom: 0.5em;}#sk-container-id-5 div.sk-estimator:hover {background-color: #d4ebff;}#sk-container-id-5 div.sk-parallel-item::after {content: \"\";width: 100%;border-bottom: 1px solid gray;flex-grow: 1;}#sk-container-id-5 div.sk-label:hover label.sk-toggleable__label {background-color: #d4ebff;}#sk-container-id-5 div.sk-serial::before {content: \"\";position: absolute;border-left: 1px solid gray;box-sizing: border-box;top: 0;bottom: 0;left: 50%;z-index: 0;}#sk-container-id-5 div.sk-serial {display: flex;flex-direction: column;align-items: center;background-color: white;padding-right: 0.2em;padding-left: 0.2em;position: relative;}#sk-container-id-5 div.sk-item {position: relative;z-index: 1;}#sk-container-id-5 div.sk-parallel {display: flex;align-items: stretch;justify-content: center;background-color: white;position: relative;}#sk-container-id-5 div.sk-item::before, #sk-container-id-5 div.sk-parallel-item::before {content: \"\";position: absolute;border-left: 1px solid gray;box-sizing: border-box;top: 0;bottom: 0;left: 50%;z-index: -1;}#sk-container-id-5 div.sk-parallel-item {display: flex;flex-direction: column;z-index: 1;position: relative;background-color: white;}#sk-container-id-5 div.sk-parallel-item:first-child::after {align-self: flex-end;width: 50%;}#sk-container-id-5 div.sk-parallel-item:last-child::after {align-self: flex-start;width: 50%;}#sk-container-id-5 div.sk-parallel-item:only-child::after {width: 0;}#sk-container-id-5 div.sk-dashed-wrapped {border: 1px dashed gray;margin: 0 0.4em 0.5em 0.4em;box-sizing: border-box;padding-bottom: 0.4em;background-color: white;}#sk-container-id-5 div.sk-label label {font-family: monospace;font-weight: bold;display: inline-block;line-height: 1.2em;}#sk-container-id-5 div.sk-label-container {text-align: center;}#sk-container-id-5 div.sk-container {/* jupyter's `normalize.less` sets `[hidden] { display: none; }` but bootstrap.min.css set `[hidden] { display: none !important; }` so we also need the `!important` here to be able to override the default hidden behavior on the sphinx rendered scikit-learn.org. See: https://github.com/scikit-learn/scikit-learn/issues/21755 */display: inline-block !important;position: relative;}#sk-container-id-5 div.sk-text-repr-fallback {display: none;}</style><div id=\"sk-container-id-5\" class=\"sk-top-container\"><div class=\"sk-text-repr-fallback\"><pre>GridSearchCV(cv=TimeSeriesSplit(gap=0, max_train_size=None, n_splits=3, test_size=None),\n",
       "             estimator=Pipeline(steps=[(&#x27;scaler&#x27;, &#x27;passthrough&#x27;),\n",
       "                                       (&#x27;regressor&#x27;,\n",
       "                                        LinearSVR(max_iter=50000))]),\n",
       "             n_jobs=-1,\n",
       "             param_grid={&#x27;regressor__C&#x27;: [1e-08, 1.0424040070215558e-08,\n",
       "                                          1.086606113854598e-08,\n",
       "                                          1.1326825671361538e-08,\n",
       "                                          1.180712846666189e-08,\n",
       "                                          1.2307798025066658e-08,\n",
       "                                          1.2829697978941...\n",
       "                                          2.2946763672319363e-08,\n",
       "                                          2.3919798400202372e-08,\n",
       "                                          2.4934093699518804e-08,\n",
       "                                          2.599139918382933e-08,\n",
       "                                          2.709353865732049e-08,\n",
       "                                          2.8242413260784357e-08,\n",
       "                                          2.9440004751000338e-08,\n",
       "                                          3.0688378919176455e-08,\n",
       "                                          3.198968915434538e-08,\n",
       "                                          3.3346180157863626e-08, ...],\n",
       "                         &#x27;scaler&#x27;: [&#x27;passthrough&#x27;, MinMaxScaler(),\n",
       "                                    StandardScaler(), MaxAbsScaler()]},\n",
       "             refit=&#x27;modOOSR2&#x27;, scoring={&#x27;modOOSR2&#x27;: make_scorer(modOOSR2)})</pre><b>In a Jupyter environment, please rerun this cell to show the HTML representation or trust the notebook. <br />On GitHub, the HTML representation is unable to render, please try loading this page with nbviewer.org.</b></div><div class=\"sk-container\" hidden><div class=\"sk-item sk-dashed-wrapped\"><div class=\"sk-label-container\"><div class=\"sk-label sk-toggleable\"><input class=\"sk-toggleable__control sk-hidden--visually\" id=\"sk-estimator-id-17\" type=\"checkbox\" ><label for=\"sk-estimator-id-17\" class=\"sk-toggleable__label sk-toggleable__label-arrow\">GridSearchCV</label><div class=\"sk-toggleable__content\"><pre>GridSearchCV(cv=TimeSeriesSplit(gap=0, max_train_size=None, n_splits=3, test_size=None),\n",
       "             estimator=Pipeline(steps=[(&#x27;scaler&#x27;, &#x27;passthrough&#x27;),\n",
       "                                       (&#x27;regressor&#x27;,\n",
       "                                        LinearSVR(max_iter=50000))]),\n",
       "             n_jobs=-1,\n",
       "             param_grid={&#x27;regressor__C&#x27;: [1e-08, 1.0424040070215558e-08,\n",
       "                                          1.086606113854598e-08,\n",
       "                                          1.1326825671361538e-08,\n",
       "                                          1.180712846666189e-08,\n",
       "                                          1.2307798025066658e-08,\n",
       "                                          1.2829697978941...\n",
       "                                          2.2946763672319363e-08,\n",
       "                                          2.3919798400202372e-08,\n",
       "                                          2.4934093699518804e-08,\n",
       "                                          2.599139918382933e-08,\n",
       "                                          2.709353865732049e-08,\n",
       "                                          2.8242413260784357e-08,\n",
       "                                          2.9440004751000338e-08,\n",
       "                                          3.0688378919176455e-08,\n",
       "                                          3.198968915434538e-08,\n",
       "                                          3.3346180157863626e-08, ...],\n",
       "                         &#x27;scaler&#x27;: [&#x27;passthrough&#x27;, MinMaxScaler(),\n",
       "                                    StandardScaler(), MaxAbsScaler()]},\n",
       "             refit=&#x27;modOOSR2&#x27;, scoring={&#x27;modOOSR2&#x27;: make_scorer(modOOSR2)})</pre></div></div></div><div class=\"sk-parallel\"><div class=\"sk-parallel-item\"><div class=\"sk-item\"><div class=\"sk-label-container\"><div class=\"sk-label sk-toggleable\"><input class=\"sk-toggleable__control sk-hidden--visually\" id=\"sk-estimator-id-18\" type=\"checkbox\" ><label for=\"sk-estimator-id-18\" class=\"sk-toggleable__label sk-toggleable__label-arrow\">estimator: Pipeline</label><div class=\"sk-toggleable__content\"><pre>Pipeline(steps=[(&#x27;scaler&#x27;, &#x27;passthrough&#x27;),\n",
       "                (&#x27;regressor&#x27;, LinearSVR(max_iter=50000))])</pre></div></div></div><div class=\"sk-serial\"><div class=\"sk-item\"><div class=\"sk-serial\"><div class=\"sk-item\"><div class=\"sk-estimator sk-toggleable\"><input class=\"sk-toggleable__control sk-hidden--visually\" id=\"sk-estimator-id-19\" type=\"checkbox\" ><label for=\"sk-estimator-id-19\" class=\"sk-toggleable__label sk-toggleable__label-arrow\">passthrough</label><div class=\"sk-toggleable__content\"><pre>passthrough</pre></div></div></div><div class=\"sk-item\"><div class=\"sk-estimator sk-toggleable\"><input class=\"sk-toggleable__control sk-hidden--visually\" id=\"sk-estimator-id-20\" type=\"checkbox\" ><label for=\"sk-estimator-id-20\" class=\"sk-toggleable__label sk-toggleable__label-arrow\">LinearSVR</label><div class=\"sk-toggleable__content\"><pre>LinearSVR(max_iter=50000)</pre></div></div></div></div></div></div></div></div></div></div></div></div>"
      ],
      "text/plain": [
       "GridSearchCV(cv=TimeSeriesSplit(gap=0, max_train_size=None, n_splits=3, test_size=None),\n",
       "             estimator=Pipeline(steps=[('scaler', 'passthrough'),\n",
       "                                       ('regressor',\n",
       "                                        LinearSVR(max_iter=50000))]),\n",
       "             n_jobs=-1,\n",
       "             param_grid={'regressor__C': [1e-08, 1.0424040070215558e-08,\n",
       "                                          1.086606113854598e-08,\n",
       "                                          1.1326825671361538e-08,\n",
       "                                          1.180712846666189e-08,\n",
       "                                          1.2307798025066658e-08,\n",
       "                                          1.2829697978941...\n",
       "                                          2.2946763672319363e-08,\n",
       "                                          2.3919798400202372e-08,\n",
       "                                          2.4934093699518804e-08,\n",
       "                                          2.599139918382933e-08,\n",
       "                                          2.709353865732049e-08,\n",
       "                                          2.8242413260784357e-08,\n",
       "                                          2.9440004751000338e-08,\n",
       "                                          3.0688378919176455e-08,\n",
       "                                          3.198968915434538e-08,\n",
       "                                          3.3346180157863626e-08, ...],\n",
       "                         'scaler': ['passthrough', MinMaxScaler(),\n",
       "                                    StandardScaler(), MaxAbsScaler()]},\n",
       "             refit='modOOSR2', scoring={'modOOSR2': make_scorer(modOOSR2)})"
      ]
     },
     "execution_count": 17,
     "metadata": {},
     "output_type": "execute_result"
    }
   ],
   "source": [
    "from sklearn.svm import LinearSVR\n",
    "\n",
    "pipeline = Pipeline([\n",
    "    ('scaler', \"passthrough\"),\n",
    "    ('regressor', LinearSVR(max_iter=50000))\n",
    "])\n",
    "\n",
    "param_grid = {\n",
    "    'scaler': [\"passthrough\", MinMaxScaler(), StandardScaler(), MaxAbsScaler()],\n",
    "    \"regressor__C\": [i for i in np.logspace(-8, 1, num=500)],\n",
    "}\n",
    "\n",
    "tscv = TimeSeriesSplit(n_splits=3)\n",
    "\n",
    "grid_search = GridSearchCV(\n",
    "    estimator=pipeline, \n",
    "    param_grid = param_grid,\n",
    "    scoring={\"modOOSR2\": make_scorer(modOOSR2)},\n",
    "    refit=\"modOOSR2\", \n",
    "    cv=tscv,\n",
    "    n_jobs=-1,\n",
    "    )\n",
    "\n",
    "grid_search.fit(X_train, y_train)"
   ]
  },
  {
   "cell_type": "code",
   "execution_count": 18,
   "id": "c0bcb33e-6e74-4c3a-9562-968e0bce60ed",
   "metadata": {},
   "outputs": [],
   "source": [
    "results = pd.DataFrame(grid_search.cv_results_)\n",
    "#results"
   ]
  },
  {
   "cell_type": "code",
   "execution_count": 19,
   "id": "d79b5add-db9e-4d6f-ad63-af3442bbfd14",
   "metadata": {},
   "outputs": [
    {
     "data": {
      "text/plain": [
       "{'regressor__C': 5.855110155867244e-07, 'scaler': StandardScaler()}"
      ]
     },
     "execution_count": 19,
     "metadata": {},
     "output_type": "execute_result"
    }
   ],
   "source": [
    "grid_search.best_params_"
   ]
  },
  {
   "cell_type": "code",
   "execution_count": 20,
   "id": "cb1d6491-dca9-4f52-b406-d886ab2b14ac",
   "metadata": {},
   "outputs": [
    {
     "data": {
      "text/plain": [
       "0.00015735558279428297"
      ]
     },
     "execution_count": 20,
     "metadata": {},
     "output_type": "execute_result"
    }
   ],
   "source": [
    "modOOSR2(y_test, grid_search.predict(X_test))"
   ]
  },
  {
   "cell_type": "code",
   "execution_count": 21,
   "id": "00cbd744-e036-4a6d-8479-e8ae1842a1ae",
   "metadata": {},
   "outputs": [
    {
     "data": {
      "text/plain": [
       "(array([ 3.26749011e-06, -6.34872102e-06, -3.83501151e-06, -2.42384270e-06,\n",
       "        -1.23084893e-05, -1.34682070e-05, -6.55185922e-06, -3.32734195e-06,\n",
       "         9.12283055e-08, -1.20014560e-05,  3.03524824e-06,  6.43429374e-06,\n",
       "         1.17315638e-06, -2.48952581e-05,  3.24170540e-06, -1.52889885e-05,\n",
       "        -1.06255100e-05,  1.71177185e-06, -2.25581882e-06, -5.67648903e-06,\n",
       "        -1.58027403e-05,  1.67131830e-06,  6.21472067e-06,  1.78432076e-06,\n",
       "        -5.43206389e-06,  3.00015273e-06, -1.88074563e-06, -2.38836624e-06,\n",
       "         2.80675190e-06, -9.22932230e-06, -7.10128290e-06,  1.32845204e-06,\n",
       "         1.08482484e-06,  8.26930999e-06, -6.74204293e-08,  1.00698040e-06,\n",
       "        -7.95571575e-07,  8.16743481e-06,  1.29211083e-05, -7.61264055e-06,\n",
       "        -8.66402071e-06, -1.72674674e-05, -1.53856148e-05,  3.77295513e-06,\n",
       "         3.43239232e-06,  1.18604812e-06, -5.59757827e-06,  3.10642168e-06,\n",
       "        -1.60457692e-05]),\n",
       " array([3.16175948e-05]))"
      ]
     },
     "execution_count": 21,
     "metadata": {},
     "output_type": "execute_result"
    }
   ],
   "source": [
    "best = grid_search.best_estimator_\n",
    "best.named_steps[\"regressor\"].coef_, best.named_steps[\"regressor\"].intercept_"
   ]
  },
  {
   "cell_type": "code",
   "execution_count": null,
   "id": "d375748b-895d-4cf7-978b-8a66085cfb66",
   "metadata": {},
   "outputs": [],
   "source": []
  },
  {
   "cell_type": "code",
   "execution_count": null,
   "id": "db225530-2768-4b2f-b5a8-89c22645d39f",
   "metadata": {},
   "outputs": [],
   "source": []
  }
 ],
 "metadata": {
  "kernelspec": {
   "display_name": "Python 3 (ipykernel)",
   "language": "python",
   "name": "python3"
  },
  "language_info": {
   "codemirror_mode": {
    "name": "ipython",
    "version": 3
   },
   "file_extension": ".py",
   "mimetype": "text/x-python",
   "name": "python",
   "nbconvert_exporter": "python",
   "pygments_lexer": "ipython3",
   "version": "3.11.2"
  }
 },
 "nbformat": 4,
 "nbformat_minor": 5
}
