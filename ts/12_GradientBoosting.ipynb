{
 "cells": [
  {
   "cell_type": "code",
   "execution_count": 5,
   "id": "acff9cd0-0c9f-4db6-995b-463dee0acc0b",
   "metadata": {},
   "outputs": [],
   "source": [
    "import numpy as np\n",
    "import pandas as pd\n",
    "import matplotlib.pyplot as plt\n",
    "\n",
    "\n",
    "from sklearn.ensemble import GradientBoostingRegressor\n",
    "from sklearn.model_selection import TimeSeriesSplit\n",
    "from sklearn.model_selection import GridSearchCV, RandomizedSearchCV\n",
    "from sklearn.pipeline import Pipeline\n",
    "from sklearn.metrics import make_scorer\n",
    "from sklearn.preprocessing import MinMaxScaler, StandardScaler, MaxAbsScaler\n",
    "from sklearn.dummy import DummyRegressor\n",
    "from sklearn.utils.fixes import loguniform\n",
    "\n",
    "import scipy.stats as stats\n",
    "\n",
    "from ts_utils import OOSR2, modOOSR2"
   ]
  },
  {
   "cell_type": "code",
   "execution_count": 3,
   "id": "5f30951b-41bc-425c-aa59-e59b6682220d",
   "metadata": {},
   "outputs": [
    {
     "data": {
      "text/plain": [
       "((350, 49), (350,), (165, 49), (165,))"
      ]
     },
     "execution_count": 3,
     "metadata": {},
     "output_type": "execute_result"
    }
   ],
   "source": [
    "df = pd.read_csv(\"../_data/timeseries.csv\", index_col=\"Date\")\n",
    "df.index = pd.to_datetime(df.index)\n",
    "df = df.round(4)\n",
    "\n",
    "train = df.iloc[:350]\n",
    "test = df.iloc[350:]\n",
    "\n",
    "X_train, y_train = train.drop([\"EXCESS_RETURN_T+1\"], axis=1).values, train[\"EXCESS_RETURN_T+1\"].values\n",
    "X_test, y_test = test.drop([\"EXCESS_RETURN_T+1\"], axis=1).values, test[\"EXCESS_RETURN_T+1\"].values\n",
    "\n",
    "X_train.shape, y_train.shape, X_test.shape, y_test.shape"
   ]
  },
  {
   "cell_type": "code",
   "execution_count": 4,
   "id": "24443acc-fe88-4b38-8929-c354eaf85c65",
   "metadata": {},
   "outputs": [
    {
     "data": {
      "text/plain": [
       "0.023305483729676668"
      ]
     },
     "execution_count": 4,
     "metadata": {},
     "output_type": "execute_result"
    }
   ],
   "source": [
    "naive_mean = DummyRegressor(strategy=\"mean\")\n",
    "naive_mean.fit(X_train, y_train)\n",
    "modOOSR2(y_test, naive_mean.predict(X_test))"
   ]
  },
  {
   "cell_type": "code",
   "execution_count": 29,
   "id": "3843987a-1b6d-418f-8015-fe5fd841ec3b",
   "metadata": {},
   "outputs": [
    {
     "name": "stdout",
     "output_type": "stream",
     "text": [
      "Fitting 3 folds for each of 5000 candidates, totalling 15000 fits\n"
     ]
    },
    {
     "data": {
      "text/plain": [
       "RandomizedSearchCV(cv=TimeSeriesSplit(gap=0, max_train_size=None, n_splits=3, test_size=None),\n",
       "                   estimator=Pipeline(steps=[('scaler', 'passthrough'),\n",
       "                                             ('regressor',\n",
       "                                              GradientBoostingRegressor())]),\n",
       "                   n_iter=5000, n_jobs=-1,\n",
       "                   param_distributions={'regressor__learning_rate': <scipy.stats._distn_infrastructure.rv_frozen object at 0x7feecc5a9c70>,\n",
       "                                        'regressor__max_depth': [1,...\n",
       "                                                                 0.3112112112112112,\n",
       "                                                                 0.3119119119119119,\n",
       "                                                                 0.3126126126126126,\n",
       "                                                                 0.3133133133133133,\n",
       "                                                                 0.314014014014014,\n",
       "                                                                 0.3147147147147147,\n",
       "                                                                 0.3154154154154154,\n",
       "                                                                 0.3161161161161161,\n",
       "                                                                 0.3168168168168168,\n",
       "                                                                 0.3175175175175175,\n",
       "                                                                 0.3182182182182182,\n",
       "                                                                 0.3189189189189189,\n",
       "                                                                 0.3196196196196196,\n",
       "                                                                 0.3203203203203203, ...],\n",
       "                                        'scaler': ['passthrough']},\n",
       "                   refit='modOOSR2',\n",
       "                   scoring={'modOOSR2': make_scorer(modOOSR2)}, verbose=2)"
      ]
     },
     "execution_count": 29,
     "metadata": {},
     "output_type": "execute_result"
    }
   ],
   "source": [
    "pipeline = Pipeline([\n",
    "    ('scaler', \"passthrough\"),\n",
    "    ('regressor', GradientBoostingRegressor())\n",
    "])\n",
    "\n",
    "param_grid = {\n",
    "    'scaler': [\"passthrough\"],\n",
    "    \"regressor__n_estimators\": [i for i in np.arange(2,50)],\n",
    "    \"regressor__learning_rate\": loguniform(0.05,0.25),\n",
    "    \"regressor__subsample\": [i for i in np.linspace(0.3,1,1000)],\n",
    "    \"regressor__max_depth\": [i for i in np.arange(1,4)],\n",
    "    \"regressor__max_features\": [i for i in np.arange(5,20)]\n",
    "    \n",
    "}\n",
    "\n",
    "tscv = TimeSeriesSplit(n_splits=3)\n",
    "\n",
    "grid_search = RandomizedSearchCV(\n",
    "    estimator=pipeline, \n",
    "    param_distributions= param_grid,\n",
    "    scoring={\"modOOSR2\": make_scorer(modOOSR2)},\n",
    "    refit=\"modOOSR2\", \n",
    "    cv=tscv,\n",
    "    n_iter=5000, \n",
    "    n_jobs=-1,\n",
    "    verbose=2\n",
    "    )\n",
    "\n",
    "grid_search.fit(X_train, y_train)"
   ]
  },
  {
   "cell_type": "code",
   "execution_count": 30,
   "id": "c0bcb33e-6e74-4c3a-9562-968e0bce60ed",
   "metadata": {},
   "outputs": [
    {
     "data": {
      "text/html": [
       "<div>\n",
       "<style scoped>\n",
       "    .dataframe tbody tr th:only-of-type {\n",
       "        vertical-align: middle;\n",
       "    }\n",
       "\n",
       "    .dataframe tbody tr th {\n",
       "        vertical-align: top;\n",
       "    }\n",
       "\n",
       "    .dataframe thead th {\n",
       "        text-align: right;\n",
       "    }\n",
       "</style>\n",
       "<table border=\"1\" class=\"dataframe\">\n",
       "  <thead>\n",
       "    <tr style=\"text-align: right;\">\n",
       "      <th></th>\n",
       "      <th>mean_fit_time</th>\n",
       "      <th>std_fit_time</th>\n",
       "      <th>mean_score_time</th>\n",
       "      <th>std_score_time</th>\n",
       "      <th>param_regressor__learning_rate</th>\n",
       "      <th>param_regressor__max_depth</th>\n",
       "      <th>param_regressor__max_features</th>\n",
       "      <th>param_regressor__n_estimators</th>\n",
       "      <th>param_regressor__subsample</th>\n",
       "      <th>param_scaler</th>\n",
       "      <th>params</th>\n",
       "      <th>split0_test_modOOSR2</th>\n",
       "      <th>split1_test_modOOSR2</th>\n",
       "      <th>split2_test_modOOSR2</th>\n",
       "      <th>mean_test_modOOSR2</th>\n",
       "      <th>std_test_modOOSR2</th>\n",
       "      <th>rank_test_modOOSR2</th>\n",
       "    </tr>\n",
       "  </thead>\n",
       "  <tbody>\n",
       "    <tr>\n",
       "      <th>302</th>\n",
       "      <td>0.001998</td>\n",
       "      <td>0.000263</td>\n",
       "      <td>0.000168</td>\n",
       "      <td>0.000002</td>\n",
       "      <td>0.195977</td>\n",
       "      <td>1</td>\n",
       "      <td>18</td>\n",
       "      <td>4</td>\n",
       "      <td>0.901902</td>\n",
       "      <td>passthrough</td>\n",
       "      <td>{'regressor__learning_rate': 0.195976760691564...</td>\n",
       "      <td>0.028454</td>\n",
       "      <td>0.037348</td>\n",
       "      <td>-0.017754</td>\n",
       "      <td>0.016016</td>\n",
       "      <td>0.024153</td>\n",
       "      <td>2</td>\n",
       "    </tr>\n",
       "    <tr>\n",
       "      <th>379</th>\n",
       "      <td>0.001878</td>\n",
       "      <td>0.000162</td>\n",
       "      <td>0.000164</td>\n",
       "      <td>0.000002</td>\n",
       "      <td>0.156551</td>\n",
       "      <td>1</td>\n",
       "      <td>9</td>\n",
       "      <td>5</td>\n",
       "      <td>0.721121</td>\n",
       "      <td>passthrough</td>\n",
       "      <td>{'regressor__learning_rate': 0.156550857817251...</td>\n",
       "      <td>0.022766</td>\n",
       "      <td>0.029516</td>\n",
       "      <td>-0.011836</td>\n",
       "      <td>0.013482</td>\n",
       "      <td>0.018113</td>\n",
       "      <td>4</td>\n",
       "    </tr>\n",
       "    <tr>\n",
       "      <th>481</th>\n",
       "      <td>0.001677</td>\n",
       "      <td>0.000334</td>\n",
       "      <td>0.000169</td>\n",
       "      <td>0.000001</td>\n",
       "      <td>0.129976</td>\n",
       "      <td>3</td>\n",
       "      <td>16</td>\n",
       "      <td>2</td>\n",
       "      <td>0.849349</td>\n",
       "      <td>passthrough</td>\n",
       "      <td>{'regressor__learning_rate': 0.129975694885041...</td>\n",
       "      <td>-0.005322</td>\n",
       "      <td>0.041302</td>\n",
       "      <td>0.004043</td>\n",
       "      <td>0.013341</td>\n",
       "      <td>0.020138</td>\n",
       "      <td>5</td>\n",
       "    </tr>\n",
       "    <tr>\n",
       "      <th>728</th>\n",
       "      <td>0.002442</td>\n",
       "      <td>0.000155</td>\n",
       "      <td>0.000167</td>\n",
       "      <td>0.000003</td>\n",
       "      <td>0.084429</td>\n",
       "      <td>1</td>\n",
       "      <td>9</td>\n",
       "      <td>8</td>\n",
       "      <td>0.345546</td>\n",
       "      <td>passthrough</td>\n",
       "      <td>{'regressor__learning_rate': 0.084428992531871...</td>\n",
       "      <td>0.039658</td>\n",
       "      <td>0.015909</td>\n",
       "      <td>0.038858</td>\n",
       "      <td>0.031475</td>\n",
       "      <td>0.011011</td>\n",
       "      <td>1</td>\n",
       "    </tr>\n",
       "    <tr>\n",
       "      <th>3930</th>\n",
       "      <td>0.005006</td>\n",
       "      <td>0.000723</td>\n",
       "      <td>0.000170</td>\n",
       "      <td>0.000006</td>\n",
       "      <td>0.054526</td>\n",
       "      <td>1</td>\n",
       "      <td>11</td>\n",
       "      <td>17</td>\n",
       "      <td>0.566266</td>\n",
       "      <td>passthrough</td>\n",
       "      <td>{'regressor__learning_rate': 0.054525940045638...</td>\n",
       "      <td>0.008123</td>\n",
       "      <td>0.039813</td>\n",
       "      <td>-0.003850</td>\n",
       "      <td>0.014696</td>\n",
       "      <td>0.018421</td>\n",
       "      <td>3</td>\n",
       "    </tr>\n",
       "  </tbody>\n",
       "</table>\n",
       "</div>"
      ],
      "text/plain": [
       "      mean_fit_time  std_fit_time  mean_score_time  std_score_time  \\\n",
       "302        0.001998      0.000263         0.000168        0.000002   \n",
       "379        0.001878      0.000162         0.000164        0.000002   \n",
       "481        0.001677      0.000334         0.000169        0.000001   \n",
       "728        0.002442      0.000155         0.000167        0.000003   \n",
       "3930       0.005006      0.000723         0.000170        0.000006   \n",
       "\n",
       "     param_regressor__learning_rate param_regressor__max_depth  \\\n",
       "302                        0.195977                          1   \n",
       "379                        0.156551                          1   \n",
       "481                        0.129976                          3   \n",
       "728                        0.084429                          1   \n",
       "3930                       0.054526                          1   \n",
       "\n",
       "     param_regressor__max_features param_regressor__n_estimators  \\\n",
       "302                             18                             4   \n",
       "379                              9                             5   \n",
       "481                             16                             2   \n",
       "728                              9                             8   \n",
       "3930                            11                            17   \n",
       "\n",
       "     param_regressor__subsample param_scaler  \\\n",
       "302                    0.901902  passthrough   \n",
       "379                    0.721121  passthrough   \n",
       "481                    0.849349  passthrough   \n",
       "728                    0.345546  passthrough   \n",
       "3930                   0.566266  passthrough   \n",
       "\n",
       "                                                 params  split0_test_modOOSR2  \\\n",
       "302   {'regressor__learning_rate': 0.195976760691564...              0.028454   \n",
       "379   {'regressor__learning_rate': 0.156550857817251...              0.022766   \n",
       "481   {'regressor__learning_rate': 0.129975694885041...             -0.005322   \n",
       "728   {'regressor__learning_rate': 0.084428992531871...              0.039658   \n",
       "3930  {'regressor__learning_rate': 0.054525940045638...              0.008123   \n",
       "\n",
       "      split1_test_modOOSR2  split2_test_modOOSR2  mean_test_modOOSR2  \\\n",
       "302               0.037348             -0.017754            0.016016   \n",
       "379               0.029516             -0.011836            0.013482   \n",
       "481               0.041302              0.004043            0.013341   \n",
       "728               0.015909              0.038858            0.031475   \n",
       "3930              0.039813             -0.003850            0.014696   \n",
       "\n",
       "      std_test_modOOSR2  rank_test_modOOSR2  \n",
       "302            0.024153                   2  \n",
       "379            0.018113                   4  \n",
       "481            0.020138                   5  \n",
       "728            0.011011                   1  \n",
       "3930           0.018421                   3  "
      ]
     },
     "execution_count": 30,
     "metadata": {},
     "output_type": "execute_result"
    }
   ],
   "source": [
    "results = pd.DataFrame(grid_search.cv_results_)\n",
    "results[results[\"rank_test_modOOSR2\"]<=5]"
   ]
  },
  {
   "cell_type": "code",
   "execution_count": 31,
   "id": "d79b5add-db9e-4d6f-ad63-af3442bbfd14",
   "metadata": {},
   "outputs": [
    {
     "data": {
      "text/plain": [
       "{'regressor__learning_rate': 0.08442899253187137,\n",
       " 'regressor__max_depth': 1,\n",
       " 'regressor__max_features': 9,\n",
       " 'regressor__n_estimators': 8,\n",
       " 'regressor__subsample': 0.3455455455455455,\n",
       " 'scaler': 'passthrough'}"
      ]
     },
     "execution_count": 31,
     "metadata": {},
     "output_type": "execute_result"
    }
   ],
   "source": [
    "grid_search.best_params_"
   ]
  },
  {
   "cell_type": "code",
   "execution_count": 32,
   "id": "cb1d6491-dca9-4f52-b406-d886ab2b14ac",
   "metadata": {},
   "outputs": [
    {
     "data": {
      "text/plain": [
       "0.0112539723476337"
      ]
     },
     "execution_count": 32,
     "metadata": {},
     "output_type": "execute_result"
    }
   ],
   "source": [
    "modOOSR2(y_test, grid_search.predict(X_test))"
   ]
  },
  {
   "cell_type": "code",
   "execution_count": 33,
   "id": "d375748b-895d-4cf7-978b-8a66085cfb66",
   "metadata": {},
   "outputs": [
    {
     "data": {
      "text/plain": [
       "array([0.        , 0.10665767, 0.        , 0.        , 0.        ,\n",
       "       0.16540748, 0.        , 0.        , 0.        , 0.        ,\n",
       "       0.        , 0.        , 0.        , 0.        , 0.        ,\n",
       "       0.        , 0.        , 0.        , 0.        , 0.        ,\n",
       "       0.        , 0.        , 0.        , 0.        , 0.        ,\n",
       "       0.        , 0.        , 0.29649258, 0.        , 0.        ,\n",
       "       0.        , 0.13238816, 0.        , 0.        , 0.13470677,\n",
       "       0.        , 0.        , 0.0551972 , 0.        , 0.        ,\n",
       "       0.10915014, 0.        , 0.        , 0.        , 0.        ,\n",
       "       0.        , 0.        , 0.        , 0.        ])"
      ]
     },
     "execution_count": 33,
     "metadata": {},
     "output_type": "execute_result"
    }
   ],
   "source": [
    "best = grid_search.best_estimator_\n",
    "best.named_steps[\"regressor\"].feature_importances_"
   ]
  },
  {
   "cell_type": "code",
   "execution_count": null,
   "id": "db225530-2768-4b2f-b5a8-89c22645d39f",
   "metadata": {},
   "outputs": [],
   "source": []
  }
 ],
 "metadata": {
  "kernelspec": {
   "display_name": "Python 3",
   "language": "python",
   "name": "python3"
  },
  "language_info": {
   "codemirror_mode": {
    "name": "ipython",
    "version": 3
   },
   "file_extension": ".py",
   "mimetype": "text/x-python",
   "name": "python",
   "nbconvert_exporter": "python",
   "pygments_lexer": "ipython3",
   "version": "3.9.2"
  }
 },
 "nbformat": 4,
 "nbformat_minor": 5
}
