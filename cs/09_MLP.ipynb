{
 "cells": [
  {
   "cell_type": "code",
   "execution_count": 1,
   "id": "554dd17f-a5c0-4631-9055-c08f32661192",
   "metadata": {},
   "outputs": [],
   "source": [
    "import numpy as np\n",
    "import pandas as pd\n",
    "import matplotlib.pyplot as plt\n",
    "import datetime\n",
    "\n",
    "from warnings import simplefilter\n",
    "simplefilter(action=\"ignore\", category=pd.errors.PerformanceWarning)\n",
    "\n",
    "from panel_utils import *\n",
    "\n",
    "import scipy.stats as stats\n",
    "\n",
    "from sklearn.neural_network import MLPRegressor\n",
    "from sklearn.model_selection import RandomizedSearchCV, GridSearchCV\n",
    "from sklearn.pipeline import Pipeline\n",
    "from sklearn.metrics import make_scorer\n",
    "from sklearn.dummy import DummyRegressor\n",
    "from sklearn.utils.fixes import loguniform"
   ]
  },
  {
   "cell_type": "code",
   "execution_count": 2,
   "id": "408c6172-38b6-4bd7-8656-424d01b41bf1",
   "metadata": {},
   "outputs": [],
   "source": [
    "df = pd.read_csv(\"../_data/panel_bigcap.csv\", index_col=\"Date\")"
   ]
  },
  {
   "cell_type": "code",
   "execution_count": 2,
   "id": "9bcd7e21-0296-4b52-9833-9becce4b85d3",
   "metadata": {},
   "outputs": [],
   "source": [
    "#scale_interact_sort(df=df, micro_cols=micro_cols, macro_cols=macro_cols)\n",
    "%store -r df"
   ]
  },
  {
   "cell_type": "code",
   "execution_count": 3,
   "id": "caa2ba75-9f83-4b73-a489-f2c9ecf212e2",
   "metadata": {},
   "outputs": [
    {
     "data": {
      "text/plain": [
       "((294327, 55), (294327,), (169245, 55), (169245,))"
      ]
     },
     "execution_count": 3,
     "metadata": {},
     "output_type": "execute_result"
    }
   ],
   "source": [
    "train = df.loc[:\"2013-12-31\"]\n",
    "test = df.loc[\"2014-01-31\":]\n",
    "\n",
    "X_train, y_train = train.drop([\"EXCESS_RETURN_T+1\"], axis=1), train[\"EXCESS_RETURN_T+1\"]\n",
    "X_test, y_test = test.drop([\"EXCESS_RETURN_T+1\"], axis=1), test[\"EXCESS_RETURN_T+1\"]\n",
    "\n",
    "X_train.shape, y_train.shape, X_test.shape, y_test.shape"
   ]
  },
  {
   "cell_type": "code",
   "execution_count": 4,
   "id": "adb9790b-4e5d-4db2-a006-6f160185206e",
   "metadata": {},
   "outputs": [
    {
     "data": {
      "text/plain": [
       "0.0003301052587154629"
      ]
     },
     "execution_count": 4,
     "metadata": {},
     "output_type": "execute_result"
    }
   ],
   "source": [
    "naive_mean = DummyRegressor(strategy=\"mean\")\n",
    "naive_mean.fit(X_train.values, y_train.values)\n",
    "modOOSR2(y_test.values, naive_mean.predict(X_test.values))"
   ]
  },
  {
   "cell_type": "code",
   "execution_count": 5,
   "id": "b5cea9e6-a7cd-4f9b-b2d9-efaecbd20b14",
   "metadata": {},
   "outputs": [
    {
     "name": "stdout",
     "output_type": "stream",
     "text": [
      "Fitting 1 folds for each of 20 candidates, totalling 20 fits\n"
     ]
    },
    {
     "data": {
      "text/plain": [
       "RandomizedSearchCV(cv=<generator object holdout_cv at 0x7f9c72d8bf20>,\n",
       "                   error_score='raise',\n",
       "                   estimator=Pipeline(steps=[('scaler', 'passthrough'),\n",
       "                                             ('regressor',\n",
       "                                              MLPRegressor(hidden_layer_sizes='passthrough',\n",
       "                                                           random_state=20))]),\n",
       "                   n_iter=20, n_jobs=-1,\n",
       "                   param_distributions={'regressor__alpha': <scipy.stats._distn_infrastructure.rv_frozen object at 0x7f9c66255dc0>,\n",
       "                                        'regressor__hidden_layer_sizes': [(100,\n",
       "                                                                           100),\n",
       "                                                                          (50,\n",
       "                                                                           50,\n",
       "                                                                           50)],\n",
       "                                        'scaler': ['passthrough']},\n",
       "                   pre_dispatch=8, refit='modOOSR2',\n",
       "                   scoring={'modOOSR2': make_scorer(modOOSR2)}, verbose=2)"
      ]
     },
     "execution_count": 5,
     "metadata": {},
     "output_type": "execute_result"
    }
   ],
   "source": [
    "pipeline = Pipeline([\n",
    "    ('scaler', \"passthrough\"),\n",
    "    ('regressor', MLPRegressor(\n",
    "                    hidden_layer_sizes=\"passthrough\",\n",
    "                    activation='relu',\n",
    "                    random_state=20))\n",
    "])\n",
    "\n",
    "param_grid = {\n",
    "    'scaler': [\"passthrough\"],\n",
    "    'regressor__hidden_layer_sizes': [(100,100), (50,50,50)],\n",
    "    'regressor__alpha': loguniform(0.001,1)\n",
    "}\n",
    "\n",
    "\n",
    "grid_search = RandomizedSearchCV(\n",
    "    estimator=pipeline, \n",
    "    param_distributions= param_grid,\n",
    "    scoring={\"modOOSR2\": make_scorer(modOOSR2)},\n",
    "    refit=\"modOOSR2\", \n",
    "    cv=holdout_cv(X_train, n_test = 3),\n",
    "    n_iter=20, \n",
    "    n_jobs=-1,\n",
    "    pre_dispatch =8,\n",
    "    error_score= \"raise\",\n",
    "    verbose=2\n",
    "    )\n",
    "\n",
    "grid_search.fit(X_train.values, y_train.values)"
   ]
  },
  {
   "cell_type": "code",
   "execution_count": 6,
   "id": "1da6d7b3-609d-4e8d-9c0b-ac6756f6f526",
   "metadata": {},
   "outputs": [
    {
     "data": {
      "text/html": [
       "<div>\n",
       "<style scoped>\n",
       "    .dataframe tbody tr th:only-of-type {\n",
       "        vertical-align: middle;\n",
       "    }\n",
       "\n",
       "    .dataframe tbody tr th {\n",
       "        vertical-align: top;\n",
       "    }\n",
       "\n",
       "    .dataframe thead th {\n",
       "        text-align: right;\n",
       "    }\n",
       "</style>\n",
       "<table border=\"1\" class=\"dataframe\">\n",
       "  <thead>\n",
       "    <tr style=\"text-align: right;\">\n",
       "      <th></th>\n",
       "      <th>mean_fit_time</th>\n",
       "      <th>std_fit_time</th>\n",
       "      <th>mean_score_time</th>\n",
       "      <th>std_score_time</th>\n",
       "      <th>param_regressor__alpha</th>\n",
       "      <th>param_regressor__hidden_layer_sizes</th>\n",
       "      <th>param_scaler</th>\n",
       "      <th>params</th>\n",
       "      <th>split0_test_modOOSR2</th>\n",
       "      <th>mean_test_modOOSR2</th>\n",
       "      <th>std_test_modOOSR2</th>\n",
       "      <th>rank_test_modOOSR2</th>\n",
       "    </tr>\n",
       "  </thead>\n",
       "  <tbody>\n",
       "    <tr>\n",
       "      <th>0</th>\n",
       "      <td>31.871954</td>\n",
       "      <td>0.0</td>\n",
       "      <td>0.630455</td>\n",
       "      <td>0.0</td>\n",
       "      <td>0.161954</td>\n",
       "      <td>(50, 50, 50)</td>\n",
       "      <td>passthrough</td>\n",
       "      <td>{'regressor__alpha': 0.1619542283650893, 'regr...</td>\n",
       "      <td>0.024770</td>\n",
       "      <td>0.024770</td>\n",
       "      <td>0.0</td>\n",
       "      <td>3</td>\n",
       "    </tr>\n",
       "    <tr>\n",
       "      <th>3</th>\n",
       "      <td>58.350364</td>\n",
       "      <td>0.0</td>\n",
       "      <td>0.738951</td>\n",
       "      <td>0.0</td>\n",
       "      <td>0.019487</td>\n",
       "      <td>(50, 50, 50)</td>\n",
       "      <td>passthrough</td>\n",
       "      <td>{'regressor__alpha': 0.019486521256755224, 're...</td>\n",
       "      <td>0.034306</td>\n",
       "      <td>0.034306</td>\n",
       "      <td>0.0</td>\n",
       "      <td>2</td>\n",
       "    </tr>\n",
       "    <tr>\n",
       "      <th>7</th>\n",
       "      <td>42.465545</td>\n",
       "      <td>0.0</td>\n",
       "      <td>0.733107</td>\n",
       "      <td>0.0</td>\n",
       "      <td>0.082439</td>\n",
       "      <td>(50, 50, 50)</td>\n",
       "      <td>passthrough</td>\n",
       "      <td>{'regressor__alpha': 0.08243898359738895, 'reg...</td>\n",
       "      <td>0.024727</td>\n",
       "      <td>0.024727</td>\n",
       "      <td>0.0</td>\n",
       "      <td>5</td>\n",
       "    </tr>\n",
       "    <tr>\n",
       "      <th>13</th>\n",
       "      <td>73.764418</td>\n",
       "      <td>0.0</td>\n",
       "      <td>1.350279</td>\n",
       "      <td>0.0</td>\n",
       "      <td>0.034999</td>\n",
       "      <td>(100, 100)</td>\n",
       "      <td>passthrough</td>\n",
       "      <td>{'regressor__alpha': 0.03499869512425072, 'reg...</td>\n",
       "      <td>0.048912</td>\n",
       "      <td>0.048912</td>\n",
       "      <td>0.0</td>\n",
       "      <td>1</td>\n",
       "    </tr>\n",
       "    <tr>\n",
       "      <th>18</th>\n",
       "      <td>31.863880</td>\n",
       "      <td>0.0</td>\n",
       "      <td>0.620688</td>\n",
       "      <td>0.0</td>\n",
       "      <td>0.130643</td>\n",
       "      <td>(50, 50, 50)</td>\n",
       "      <td>passthrough</td>\n",
       "      <td>{'regressor__alpha': 0.13064343270242756, 'reg...</td>\n",
       "      <td>0.024753</td>\n",
       "      <td>0.024753</td>\n",
       "      <td>0.0</td>\n",
       "      <td>4</td>\n",
       "    </tr>\n",
       "  </tbody>\n",
       "</table>\n",
       "</div>"
      ],
      "text/plain": [
       "    mean_fit_time  std_fit_time  mean_score_time  std_score_time  \\\n",
       "0       31.871954           0.0         0.630455             0.0   \n",
       "3       58.350364           0.0         0.738951             0.0   \n",
       "7       42.465545           0.0         0.733107             0.0   \n",
       "13      73.764418           0.0         1.350279             0.0   \n",
       "18      31.863880           0.0         0.620688             0.0   \n",
       "\n",
       "   param_regressor__alpha param_regressor__hidden_layer_sizes param_scaler  \\\n",
       "0                0.161954                        (50, 50, 50)  passthrough   \n",
       "3                0.019487                        (50, 50, 50)  passthrough   \n",
       "7                0.082439                        (50, 50, 50)  passthrough   \n",
       "13               0.034999                          (100, 100)  passthrough   \n",
       "18               0.130643                        (50, 50, 50)  passthrough   \n",
       "\n",
       "                                               params  split0_test_modOOSR2  \\\n",
       "0   {'regressor__alpha': 0.1619542283650893, 'regr...              0.024770   \n",
       "3   {'regressor__alpha': 0.019486521256755224, 're...              0.034306   \n",
       "7   {'regressor__alpha': 0.08243898359738895, 'reg...              0.024727   \n",
       "13  {'regressor__alpha': 0.03499869512425072, 'reg...              0.048912   \n",
       "18  {'regressor__alpha': 0.13064343270242756, 'reg...              0.024753   \n",
       "\n",
       "    mean_test_modOOSR2  std_test_modOOSR2  rank_test_modOOSR2  \n",
       "0             0.024770                0.0                   3  \n",
       "3             0.034306                0.0                   2  \n",
       "7             0.024727                0.0                   5  \n",
       "13            0.048912                0.0                   1  \n",
       "18            0.024753                0.0                   4  "
      ]
     },
     "execution_count": 6,
     "metadata": {},
     "output_type": "execute_result"
    }
   ],
   "source": [
    "results = pd.DataFrame(grid_search.cv_results_)\n",
    "results[results[\"rank_test_modOOSR2\"] <= 5]"
   ]
  },
  {
   "cell_type": "code",
   "execution_count": 7,
   "id": "80815f07-68a8-45ec-bf88-236915a116d2",
   "metadata": {},
   "outputs": [
    {
     "data": {
      "text/plain": [
       "Pipeline(steps=[('scaler', 'passthrough'),\n",
       "                ('regressor',\n",
       "                 MLPRegressor(alpha=0.03499869512425072,\n",
       "                              hidden_layer_sizes=(100, 100),\n",
       "                              random_state=20))])"
      ]
     },
     "execution_count": 7,
     "metadata": {},
     "output_type": "execute_result"
    }
   ],
   "source": [
    "grid_search.best_estimator_"
   ]
  },
  {
   "cell_type": "code",
   "execution_count": 8,
   "id": "5808a19c-2a52-411a-bbd6-71276179c0c6",
   "metadata": {},
   "outputs": [
    {
     "data": {
      "text/plain": [
       "-0.001221654622627355"
      ]
     },
     "execution_count": 8,
     "metadata": {},
     "output_type": "execute_result"
    }
   ],
   "source": [
    "modOOSR2(y_test.values, grid_search.predict(X_test.values))"
   ]
  },
  {
   "cell_type": "code",
   "execution_count": 18,
   "id": "5d76a269-b4b9-45d5-9f79-2c8aec31f543",
   "metadata": {},
   "outputs": [
    {
     "data": {
      "text/plain": [
       "-2.5068820671769743e-05"
      ]
     },
     "execution_count": 18,
     "metadata": {},
     "output_type": "execute_result"
    }
   ],
   "source": [
    "OOSR2(y_test.values, grid_search.predict(X_test.values), naive_mean.predict(X_test.values))"
   ]
  }
 ],
 "metadata": {
  "kernelspec": {
   "display_name": "Python 3",
   "language": "python",
   "name": "python3"
  },
  "language_info": {
   "codemirror_mode": {
    "name": "ipython",
    "version": 3
   },
   "file_extension": ".py",
   "mimetype": "text/x-python",
   "name": "python",
   "nbconvert_exporter": "python",
   "pygments_lexer": "ipython3",
   "version": "3.9.2"
  }
 },
 "nbformat": 4,
 "nbformat_minor": 5
}
