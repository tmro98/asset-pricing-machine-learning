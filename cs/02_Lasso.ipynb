{
 "cells": [
  {
   "cell_type": "code",
   "execution_count": 1,
   "id": "554dd17f-a5c0-4631-9055-c08f32661192",
   "metadata": {},
   "outputs": [],
   "source": [
    "import numpy as np\n",
    "import pandas as pd\n",
    "import matplotlib.pyplot as plt\n",
    "import datetime\n",
    "\n",
    "from warnings import simplefilter\n",
    "simplefilter(action=\"ignore\", category=pd.errors.PerformanceWarning)\n",
    "\n",
    "from panel_utils import *\n",
    "\n",
    "from sklearn.linear_model import Lasso\n",
    "from sklearn.model_selection import RandomizedSearchCV\n",
    "from sklearn.pipeline import Pipeline\n",
    "from sklearn.metrics import make_scorer\n",
    "from sklearn.dummy import DummyRegressor\n",
    "from sklearn.preprocessing import MinMaxScaler, StandardScaler, MaxAbsScaler\n",
    "from sklearn.utils.fixes import loguniform"
   ]
  },
  {
   "cell_type": "code",
   "execution_count": null,
   "id": "408c6172-38b6-4bd7-8656-424d01b41bf1",
   "metadata": {},
   "outputs": [],
   "source": [
    "df = pd.read_csv(\"panel_bigcap.csv\", index_col=\"Date\")"
   ]
  },
  {
   "cell_type": "code",
   "execution_count": 2,
   "id": "9bcd7e21-0296-4b52-9833-9becce4b85d3",
   "metadata": {},
   "outputs": [],
   "source": [
    "#scale_interact_sort(df=df, micro_cols=micro_cols, macro_cols=macro_cols)\n",
    "%store -r df"
   ]
  },
  {
   "cell_type": "code",
   "execution_count": 3,
   "id": "caa2ba75-9f83-4b73-a489-f2c9ecf212e2",
   "metadata": {},
   "outputs": [
    {
     "data": {
      "text/plain": [
       "((294327, 55), (294327,), (169245, 55), (169245,))"
      ]
     },
     "execution_count": 3,
     "metadata": {},
     "output_type": "execute_result"
    }
   ],
   "source": [
    "train = df.loc[:\"2013-12-31\"]\n",
    "test = df.loc[\"2014-01-31\":]\n",
    "\n",
    "X_train, y_train = train.drop([\"EXCESS_RETURN_T+1\"], axis=1), train[\"EXCESS_RETURN_T+1\"]\n",
    "X_test, y_test = test.drop([\"EXCESS_RETURN_T+1\"], axis=1), test[\"EXCESS_RETURN_T+1\"]\n",
    "\n",
    "X_train.shape, y_train.shape, X_test.shape, y_test.shape"
   ]
  },
  {
   "cell_type": "code",
   "execution_count": 4,
   "id": "adb9790b-4e5d-4db2-a006-6f160185206e",
   "metadata": {},
   "outputs": [
    {
     "data": {
      "text/plain": [
       "0.0003301052587154629"
      ]
     },
     "execution_count": 4,
     "metadata": {},
     "output_type": "execute_result"
    }
   ],
   "source": [
    "naive_mean = DummyRegressor(strategy=\"mean\")\n",
    "naive_mean.fit(X_train.values, y_train.values)\n",
    "modOOSR2(y_test.values, naive_mean.predict(X_test.values))"
   ]
  },
  {
   "cell_type": "code",
   "execution_count": 5,
   "id": "b5cea9e6-a7cd-4f9b-b2d9-efaecbd20b14",
   "metadata": {},
   "outputs": [
    {
     "data": {
      "text/plain": [
       "RandomizedSearchCV(cv=<generator object holdout_cv at 0x7fec5b2f46d0>,\n",
       "                   error_score='raise',\n",
       "                   estimator=Pipeline(steps=[('scaler', 'passthrough'),\n",
       "                                             ('regressor', Lasso())]),\n",
       "                   n_iter=1000, n_jobs=-1,\n",
       "                   param_distributions={'regressor__alpha': <scipy.stats._distn_infrastructure.rv_frozen object at 0x7fec5aa98400>,\n",
       "                                        'scaler': ['passthrough']},\n",
       "                   pre_dispatch=8, refit='modOOSR2',\n",
       "                   scoring={'modOOSR2': make_scorer(modOOSR2)})"
      ]
     },
     "execution_count": 5,
     "metadata": {},
     "output_type": "execute_result"
    }
   ],
   "source": [
    "pipeline = Pipeline([\n",
    "    ('scaler', \"passthrough\"),\n",
    "    ('regressor', Lasso())\n",
    "])\n",
    "\n",
    "param_dist = {\n",
    "    'scaler': [\"passthrough\"],\n",
    "    'regressor__alpha': loguniform(0.001,10)\n",
    "}\n",
    "\n",
    "grid_search = RandomizedSearchCV(\n",
    "    estimator=pipeline, \n",
    "    param_distributions= param_dist,\n",
    "    scoring={\"modOOSR2\": make_scorer(modOOSR2)},\n",
    "    refit=\"modOOSR2\", \n",
    "    cv=holdout_cv(X_train, n_test = 3),\n",
    "    n_iter=1000, \n",
    "    n_jobs=-1,\n",
    "    pre_dispatch =8,\n",
    "    error_score= \"raise\"\n",
    "    )\n",
    "\n",
    "grid_search.fit(X_train.values, y_train.values)"
   ]
  },
  {
   "cell_type": "code",
   "execution_count": 6,
   "id": "1da6d7b3-609d-4e8d-9c0b-ac6756f6f526",
   "metadata": {},
   "outputs": [
    {
     "data": {
      "text/html": [
       "<div>\n",
       "<style scoped>\n",
       "    .dataframe tbody tr th:only-of-type {\n",
       "        vertical-align: middle;\n",
       "    }\n",
       "\n",
       "    .dataframe tbody tr th {\n",
       "        vertical-align: top;\n",
       "    }\n",
       "\n",
       "    .dataframe thead th {\n",
       "        text-align: right;\n",
       "    }\n",
       "</style>\n",
       "<table border=\"1\" class=\"dataframe\">\n",
       "  <thead>\n",
       "    <tr style=\"text-align: right;\">\n",
       "      <th></th>\n",
       "      <th>mean_fit_time</th>\n",
       "      <th>std_fit_time</th>\n",
       "      <th>mean_score_time</th>\n",
       "      <th>std_score_time</th>\n",
       "      <th>param_regressor__alpha</th>\n",
       "      <th>param_scaler</th>\n",
       "      <th>params</th>\n",
       "      <th>split0_test_modOOSR2</th>\n",
       "      <th>mean_test_modOOSR2</th>\n",
       "      <th>std_test_modOOSR2</th>\n",
       "      <th>rank_test_modOOSR2</th>\n",
       "    </tr>\n",
       "  </thead>\n",
       "  <tbody>\n",
       "    <tr>\n",
       "      <th>97</th>\n",
       "      <td>0.392498</td>\n",
       "      <td>0.0</td>\n",
       "      <td>0.005870</td>\n",
       "      <td>0.0</td>\n",
       "      <td>0.00126</td>\n",
       "      <td>passthrough</td>\n",
       "      <td>{'regressor__alpha': 0.001260283352939505, 'sc...</td>\n",
       "      <td>0.028290</td>\n",
       "      <td>0.028290</td>\n",
       "      <td>0.0</td>\n",
       "      <td>2</td>\n",
       "    </tr>\n",
       "    <tr>\n",
       "      <th>147</th>\n",
       "      <td>0.438482</td>\n",
       "      <td>0.0</td>\n",
       "      <td>0.004391</td>\n",
       "      <td>0.0</td>\n",
       "      <td>0.001228</td>\n",
       "      <td>passthrough</td>\n",
       "      <td>{'regressor__alpha': 0.0012275547771673555, 's...</td>\n",
       "      <td>0.028234</td>\n",
       "      <td>0.028234</td>\n",
       "      <td>0.0</td>\n",
       "      <td>5</td>\n",
       "    </tr>\n",
       "    <tr>\n",
       "      <th>468</th>\n",
       "      <td>0.399959</td>\n",
       "      <td>0.0</td>\n",
       "      <td>0.004238</td>\n",
       "      <td>0.0</td>\n",
       "      <td>0.001273</td>\n",
       "      <td>passthrough</td>\n",
       "      <td>{'regressor__alpha': 0.0012725100667238176, 's...</td>\n",
       "      <td>0.028256</td>\n",
       "      <td>0.028256</td>\n",
       "      <td>0.0</td>\n",
       "      <td>3</td>\n",
       "    </tr>\n",
       "    <tr>\n",
       "      <th>635</th>\n",
       "      <td>0.412332</td>\n",
       "      <td>0.0</td>\n",
       "      <td>0.004291</td>\n",
       "      <td>0.0</td>\n",
       "      <td>0.001257</td>\n",
       "      <td>passthrough</td>\n",
       "      <td>{'regressor__alpha': 0.0012571541519866812, 's...</td>\n",
       "      <td>0.028299</td>\n",
       "      <td>0.028299</td>\n",
       "      <td>0.0</td>\n",
       "      <td>1</td>\n",
       "    </tr>\n",
       "    <tr>\n",
       "      <th>836</th>\n",
       "      <td>0.404941</td>\n",
       "      <td>0.0</td>\n",
       "      <td>0.004388</td>\n",
       "      <td>0.0</td>\n",
       "      <td>0.00128</td>\n",
       "      <td>passthrough</td>\n",
       "      <td>{'regressor__alpha': 0.0012796316230731066, 's...</td>\n",
       "      <td>0.028236</td>\n",
       "      <td>0.028236</td>\n",
       "      <td>0.0</td>\n",
       "      <td>4</td>\n",
       "    </tr>\n",
       "  </tbody>\n",
       "</table>\n",
       "</div>"
      ],
      "text/plain": [
       "     mean_fit_time  std_fit_time  mean_score_time  std_score_time  \\\n",
       "97        0.392498           0.0         0.005870             0.0   \n",
       "147       0.438482           0.0         0.004391             0.0   \n",
       "468       0.399959           0.0         0.004238             0.0   \n",
       "635       0.412332           0.0         0.004291             0.0   \n",
       "836       0.404941           0.0         0.004388             0.0   \n",
       "\n",
       "    param_regressor__alpha param_scaler  \\\n",
       "97                 0.00126  passthrough   \n",
       "147               0.001228  passthrough   \n",
       "468               0.001273  passthrough   \n",
       "635               0.001257  passthrough   \n",
       "836                0.00128  passthrough   \n",
       "\n",
       "                                                params  split0_test_modOOSR2  \\\n",
       "97   {'regressor__alpha': 0.001260283352939505, 'sc...              0.028290   \n",
       "147  {'regressor__alpha': 0.0012275547771673555, 's...              0.028234   \n",
       "468  {'regressor__alpha': 0.0012725100667238176, 's...              0.028256   \n",
       "635  {'regressor__alpha': 0.0012571541519866812, 's...              0.028299   \n",
       "836  {'regressor__alpha': 0.0012796316230731066, 's...              0.028236   \n",
       "\n",
       "     mean_test_modOOSR2  std_test_modOOSR2  rank_test_modOOSR2  \n",
       "97             0.028290                0.0                   2  \n",
       "147            0.028234                0.0                   5  \n",
       "468            0.028256                0.0                   3  \n",
       "635            0.028299                0.0                   1  \n",
       "836            0.028236                0.0                   4  "
      ]
     },
     "execution_count": 6,
     "metadata": {},
     "output_type": "execute_result"
    }
   ],
   "source": [
    "results = pd.DataFrame(grid_search.cv_results_)\n",
    "results[results[\"rank_test_modOOSR2\"] <= 5]"
   ]
  },
  {
   "cell_type": "code",
   "execution_count": 8,
   "id": "80815f07-68a8-45ec-bf88-236915a116d2",
   "metadata": {},
   "outputs": [
    {
     "data": {
      "text/plain": [
       "Pipeline(steps=[('scaler', 'passthrough'),\n",
       "                ('regressor', Lasso(alpha=0.0012571541519866812))])"
      ]
     },
     "execution_count": 8,
     "metadata": {},
     "output_type": "execute_result"
    }
   ],
   "source": [
    "grid_search.best_estimator_"
   ]
  },
  {
   "cell_type": "code",
   "execution_count": 9,
   "id": "5808a19c-2a52-411a-bbd6-71276179c0c6",
   "metadata": {},
   "outputs": [
    {
     "data": {
      "text/plain": [
       "0.00030517914808025903"
      ]
     },
     "execution_count": 9,
     "metadata": {},
     "output_type": "execute_result"
    }
   ],
   "source": [
    "modOOSR2(y_test.values, grid_search.predict(X_test.values))"
   ]
  },
  {
   "cell_type": "code",
   "execution_count": 10,
   "id": "5d76a269-b4b9-45d5-9f79-2c8aec31f543",
   "metadata": {},
   "outputs": [
    {
     "data": {
      "text/plain": [
       "-2.4934341592564024e-05"
      ]
     },
     "execution_count": 10,
     "metadata": {},
     "output_type": "execute_result"
    }
   ],
   "source": [
    "OOSR2(y_test.values, grid_search.predict(X_test.values), naive_mean.predict(X_test.values))"
   ]
  },
  {
   "cell_type": "code",
   "execution_count": 11,
   "id": "12d39f50-7794-41e0-bee1-4096df55f7a0",
   "metadata": {},
   "outputs": [
    {
     "data": {
      "text/plain": [
       "0.01762033852393134"
      ]
     },
     "execution_count": 11,
     "metadata": {},
     "output_type": "execute_result"
    }
   ],
   "source": [
    "best = grid_search.best_estimator_\n",
    "best.named_steps[\"regressor\"].intercept_"
   ]
  },
  {
   "cell_type": "code",
   "execution_count": 12,
   "id": "1bb73e82-ce43-4499-8de4-177dfd06a972",
   "metadata": {},
   "outputs": [
    {
     "data": {
      "text/plain": [
       "array([-0.        ,  0.        , -0.        , -0.        , -0.        ,\n",
       "       -0.00843082, -0.        , -0.        , -0.        , -0.        ,\n",
       "        0.        , -0.        , -0.        , -0.        , -0.        ,\n",
       "       -0.        ,  0.        ,  0.        , -0.        , -0.        ,\n",
       "       -0.        , -0.        , -0.        , -0.        , -0.        ,\n",
       "        0.        ,  0.        ,  0.        ,  0.        ,  0.        ,\n",
       "        0.        ,  0.        ,  0.        , -0.        , -0.        ,\n",
       "       -0.        , -0.        ,  0.        , -0.        ,  0.        ,\n",
       "        0.        , -0.        ,  0.        ,  0.        , -0.        ,\n",
       "       -0.        , -0.        , -0.        ,  0.        ,  0.        ,\n",
       "        0.        , -0.        ,  0.        ,  0.        , -0.        ])"
      ]
     },
     "execution_count": 12,
     "metadata": {},
     "output_type": "execute_result"
    }
   ],
   "source": [
    "best.named_steps[\"regressor\"].coef_"
   ]
  },
  {
   "cell_type": "code",
   "execution_count": null,
   "id": "a2b719fb-0a87-4dae-a90a-ef74be6b2f95",
   "metadata": {},
   "outputs": [],
   "source": []
  }
 ],
 "metadata": {
  "kernelspec": {
   "display_name": "Python 3",
   "language": "python",
   "name": "python3"
  },
  "language_info": {
   "codemirror_mode": {
    "name": "ipython",
    "version": 3
   },
   "file_extension": ".py",
   "mimetype": "text/x-python",
   "name": "python",
   "nbconvert_exporter": "python",
   "pygments_lexer": "ipython3",
   "version": "3.9.2"
  }
 },
 "nbformat": 4,
 "nbformat_minor": 5
}
