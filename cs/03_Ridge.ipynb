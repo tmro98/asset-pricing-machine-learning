{
 "cells": [
  {
   "cell_type": "code",
   "execution_count": 1,
   "id": "554dd17f-a5c0-4631-9055-c08f32661192",
   "metadata": {},
   "outputs": [],
   "source": [
    "import numpy as np\n",
    "import pandas as pd\n",
    "import matplotlib.pyplot as plt\n",
    "import datetime\n",
    "\n",
    "from warnings import simplefilter\n",
    "simplefilter(action=\"ignore\", category=pd.errors.PerformanceWarning)\n",
    "\n",
    "from panel_utils import *\n",
    "\n",
    "from sklearn.linear_model import Ridge\n",
    "from sklearn.model_selection import RandomizedSearchCV\n",
    "from sklearn.pipeline import Pipeline\n",
    "from sklearn.metrics import make_scorer\n",
    "from sklearn.dummy import DummyRegressor\n",
    "from sklearn.preprocessing import MinMaxScaler, StandardScaler, MaxAbsScaler\n",
    "from sklearn.utils.fixes import loguniform"
   ]
  },
  {
   "cell_type": "code",
   "execution_count": null,
   "id": "408c6172-38b6-4bd7-8656-424d01b41bf1",
   "metadata": {},
   "outputs": [],
   "source": [
    "df = pd.read_csv(\"panel_bigcap.csv\", index_col=\"Date\")"
   ]
  },
  {
   "cell_type": "code",
   "execution_count": 2,
   "id": "9bcd7e21-0296-4b52-9833-9becce4b85d3",
   "metadata": {},
   "outputs": [],
   "source": [
    "#scale_interact_sort(df=df, micro_cols=micro_cols, macro_cols=macro_cols)\n",
    "%store -r df"
   ]
  },
  {
   "cell_type": "code",
   "execution_count": 3,
   "id": "caa2ba75-9f83-4b73-a489-f2c9ecf212e2",
   "metadata": {},
   "outputs": [
    {
     "data": {
      "text/plain": [
       "((294327, 55), (294327,), (169245, 55), (169245,))"
      ]
     },
     "execution_count": 3,
     "metadata": {},
     "output_type": "execute_result"
    }
   ],
   "source": [
    "train = df.loc[:\"2013-12-31\"]\n",
    "test = df.loc[\"2014-01-31\":]\n",
    "\n",
    "X_train, y_train = train.drop([\"EXCESS_RETURN_T+1\"], axis=1), train[\"EXCESS_RETURN_T+1\"]\n",
    "X_test, y_test = test.drop([\"EXCESS_RETURN_T+1\"], axis=1), test[\"EXCESS_RETURN_T+1\"]\n",
    "\n",
    "X_train.shape, y_train.shape, X_test.shape, y_test.shape"
   ]
  },
  {
   "cell_type": "code",
   "execution_count": 4,
   "id": "adb9790b-4e5d-4db2-a006-6f160185206e",
   "metadata": {},
   "outputs": [
    {
     "data": {
      "text/plain": [
       "0.0003301052587154629"
      ]
     },
     "execution_count": 4,
     "metadata": {},
     "output_type": "execute_result"
    }
   ],
   "source": [
    "naive_mean = DummyRegressor(strategy=\"mean\")\n",
    "naive_mean.fit(X_train.values, y_train.values)\n",
    "modOOSR2(y_test.values, naive_mean.predict(X_test.values))"
   ]
  },
  {
   "cell_type": "code",
   "execution_count": 5,
   "id": "b5cea9e6-a7cd-4f9b-b2d9-efaecbd20b14",
   "metadata": {},
   "outputs": [
    {
     "data": {
      "text/plain": [
       "RandomizedSearchCV(cv=<generator object holdout_cv at 0x7f8cf9def970>,\n",
       "                   error_score='raise',\n",
       "                   estimator=Pipeline(steps=[('scaler', 'passthrough'),\n",
       "                                             ('regressor', Ridge())]),\n",
       "                   n_iter=1000, n_jobs=-1,\n",
       "                   param_distributions={'regressor__alpha': <scipy.stats._distn_infrastructure.rv_frozen object at 0x7f8cf95a43d0>,\n",
       "                                        'scaler': ['passthrough']},\n",
       "                   pre_dispatch=8, refit='modOOSR2',\n",
       "                   scoring={'modOOSR2': make_scorer(modOOSR2)})"
      ]
     },
     "execution_count": 5,
     "metadata": {},
     "output_type": "execute_result"
    }
   ],
   "source": [
    "pipeline = Pipeline([\n",
    "    ('scaler', \"passthrough\"),\n",
    "    ('regressor', Ridge())\n",
    "])\n",
    "\n",
    "param_dist = {\n",
    "    'scaler': [\"passthrough\"],\n",
    "    'regressor__alpha': loguniform(0.001,100)\n",
    "}\n",
    "\n",
    "grid_search = RandomizedSearchCV(\n",
    "    estimator=pipeline, \n",
    "    param_distributions= param_dist,\n",
    "    scoring={\"modOOSR2\": make_scorer(modOOSR2)},\n",
    "    refit=\"modOOSR2\", \n",
    "    cv=holdout_cv(X_train, n_test = 3),\n",
    "    n_iter=1000, \n",
    "    n_jobs=-1,\n",
    "    pre_dispatch =8,\n",
    "    error_score= \"raise\"\n",
    "    )\n",
    "\n",
    "grid_search.fit(X_train.values, y_train.values)"
   ]
  },
  {
   "cell_type": "code",
   "execution_count": 6,
   "id": "1da6d7b3-609d-4e8d-9c0b-ac6756f6f526",
   "metadata": {},
   "outputs": [
    {
     "data": {
      "text/html": [
       "<div>\n",
       "<style scoped>\n",
       "    .dataframe tbody tr th:only-of-type {\n",
       "        vertical-align: middle;\n",
       "    }\n",
       "\n",
       "    .dataframe tbody tr th {\n",
       "        vertical-align: top;\n",
       "    }\n",
       "\n",
       "    .dataframe thead th {\n",
       "        text-align: right;\n",
       "    }\n",
       "</style>\n",
       "<table border=\"1\" class=\"dataframe\">\n",
       "  <thead>\n",
       "    <tr style=\"text-align: right;\">\n",
       "      <th></th>\n",
       "      <th>mean_fit_time</th>\n",
       "      <th>std_fit_time</th>\n",
       "      <th>mean_score_time</th>\n",
       "      <th>std_score_time</th>\n",
       "      <th>param_regressor__alpha</th>\n",
       "      <th>param_scaler</th>\n",
       "      <th>params</th>\n",
       "      <th>split0_test_modOOSR2</th>\n",
       "      <th>mean_test_modOOSR2</th>\n",
       "      <th>std_test_modOOSR2</th>\n",
       "      <th>rank_test_modOOSR2</th>\n",
       "    </tr>\n",
       "  </thead>\n",
       "  <tbody>\n",
       "    <tr>\n",
       "      <th>255</th>\n",
       "      <td>0.270127</td>\n",
       "      <td>0.0</td>\n",
       "      <td>0.003974</td>\n",
       "      <td>0.0</td>\n",
       "      <td>9.686466</td>\n",
       "      <td>passthrough</td>\n",
       "      <td>{'regressor__alpha': 9.686465837231866, 'scale...</td>\n",
       "      <td>-0.008064</td>\n",
       "      <td>-0.008064</td>\n",
       "      <td>0.0</td>\n",
       "      <td>3</td>\n",
       "    </tr>\n",
       "    <tr>\n",
       "      <th>473</th>\n",
       "      <td>0.237075</td>\n",
       "      <td>0.0</td>\n",
       "      <td>0.004199</td>\n",
       "      <td>0.0</td>\n",
       "      <td>9.760669</td>\n",
       "      <td>passthrough</td>\n",
       "      <td>{'regressor__alpha': 9.760669065305775, 'scale...</td>\n",
       "      <td>-0.008055</td>\n",
       "      <td>-0.008055</td>\n",
       "      <td>0.0</td>\n",
       "      <td>2</td>\n",
       "    </tr>\n",
       "    <tr>\n",
       "      <th>633</th>\n",
       "      <td>0.255431</td>\n",
       "      <td>0.0</td>\n",
       "      <td>0.004009</td>\n",
       "      <td>0.0</td>\n",
       "      <td>9.790733</td>\n",
       "      <td>passthrough</td>\n",
       "      <td>{'regressor__alpha': 9.790732993906083, 'scale...</td>\n",
       "      <td>-0.008051</td>\n",
       "      <td>-0.008051</td>\n",
       "      <td>0.0</td>\n",
       "      <td>1</td>\n",
       "    </tr>\n",
       "    <tr>\n",
       "      <th>686</th>\n",
       "      <td>0.290803</td>\n",
       "      <td>0.0</td>\n",
       "      <td>0.004163</td>\n",
       "      <td>0.0</td>\n",
       "      <td>9.429633</td>\n",
       "      <td>passthrough</td>\n",
       "      <td>{'regressor__alpha': 9.429632919222655, 'scale...</td>\n",
       "      <td>-0.008097</td>\n",
       "      <td>-0.008097</td>\n",
       "      <td>0.0</td>\n",
       "      <td>4</td>\n",
       "    </tr>\n",
       "    <tr>\n",
       "      <th>879</th>\n",
       "      <td>0.255438</td>\n",
       "      <td>0.0</td>\n",
       "      <td>0.004348</td>\n",
       "      <td>0.0</td>\n",
       "      <td>9.349814</td>\n",
       "      <td>passthrough</td>\n",
       "      <td>{'regressor__alpha': 9.349814178333366, 'scale...</td>\n",
       "      <td>-0.008108</td>\n",
       "      <td>-0.008108</td>\n",
       "      <td>0.0</td>\n",
       "      <td>5</td>\n",
       "    </tr>\n",
       "  </tbody>\n",
       "</table>\n",
       "</div>"
      ],
      "text/plain": [
       "     mean_fit_time  std_fit_time  mean_score_time  std_score_time  \\\n",
       "255       0.270127           0.0         0.003974             0.0   \n",
       "473       0.237075           0.0         0.004199             0.0   \n",
       "633       0.255431           0.0         0.004009             0.0   \n",
       "686       0.290803           0.0         0.004163             0.0   \n",
       "879       0.255438           0.0         0.004348             0.0   \n",
       "\n",
       "    param_regressor__alpha param_scaler  \\\n",
       "255               9.686466  passthrough   \n",
       "473               9.760669  passthrough   \n",
       "633               9.790733  passthrough   \n",
       "686               9.429633  passthrough   \n",
       "879               9.349814  passthrough   \n",
       "\n",
       "                                                params  split0_test_modOOSR2  \\\n",
       "255  {'regressor__alpha': 9.686465837231866, 'scale...             -0.008064   \n",
       "473  {'regressor__alpha': 9.760669065305775, 'scale...             -0.008055   \n",
       "633  {'regressor__alpha': 9.790732993906083, 'scale...             -0.008051   \n",
       "686  {'regressor__alpha': 9.429632919222655, 'scale...             -0.008097   \n",
       "879  {'regressor__alpha': 9.349814178333366, 'scale...             -0.008108   \n",
       "\n",
       "     mean_test_modOOSR2  std_test_modOOSR2  rank_test_modOOSR2  \n",
       "255           -0.008064                0.0                   3  \n",
       "473           -0.008055                0.0                   2  \n",
       "633           -0.008051                0.0                   1  \n",
       "686           -0.008097                0.0                   4  \n",
       "879           -0.008108                0.0                   5  "
      ]
     },
     "execution_count": 6,
     "metadata": {},
     "output_type": "execute_result"
    }
   ],
   "source": [
    "results = pd.DataFrame(grid_search.cv_results_)\n",
    "results[results[\"rank_test_modOOSR2\"]<=5]"
   ]
  },
  {
   "cell_type": "code",
   "execution_count": 7,
   "id": "80815f07-68a8-45ec-bf88-236915a116d2",
   "metadata": {},
   "outputs": [
    {
     "data": {
      "text/plain": [
       "Pipeline(steps=[('scaler', 'passthrough'),\n",
       "                ('regressor', Ridge(alpha=9.790732993906083))])"
      ]
     },
     "execution_count": 7,
     "metadata": {},
     "output_type": "execute_result"
    }
   ],
   "source": [
    "grid_search.best_estimator_"
   ]
  },
  {
   "cell_type": "code",
   "execution_count": 8,
   "id": "5808a19c-2a52-411a-bbd6-71276179c0c6",
   "metadata": {},
   "outputs": [
    {
     "data": {
      "text/plain": [
       "-0.0010259885276366898"
      ]
     },
     "execution_count": 8,
     "metadata": {},
     "output_type": "execute_result"
    }
   ],
   "source": [
    "modOOSR2(y_test.values, grid_search.predict(X_test.values))"
   ]
  },
  {
   "cell_type": "code",
   "execution_count": 9,
   "id": "5d76a269-b4b9-45d5-9f79-2c8aec31f543",
   "metadata": {},
   "outputs": [
    {
     "data": {
      "text/plain": [
       "-0.0013565415878640241"
      ]
     },
     "execution_count": 9,
     "metadata": {},
     "output_type": "execute_result"
    }
   ],
   "source": [
    "OOSR2(y_test.values, grid_search.predict(X_test.values), naive_mean.predict(X_test.values))"
   ]
  },
  {
   "cell_type": "code",
   "execution_count": 10,
   "id": "12d39f50-7794-41e0-bee1-4096df55f7a0",
   "metadata": {},
   "outputs": [
    {
     "data": {
      "text/plain": [
       "(array([ 0.04229688,  0.00737443, -0.02569963, -0.06532691, -0.09150883,\n",
       "         0.0092389 ,  0.02946033,  0.07038718,  0.00953123, -0.01744176,\n",
       "         0.01651191, -0.00316441,  0.01170391, -0.01378238,  0.03353376,\n",
       "        -0.02798889,  0.02487381, -0.00564852, -0.00802534, -0.01400848,\n",
       "        -0.00274496, -0.01192489,  0.00226813, -0.06102902, -0.01373055,\n",
       "         0.00063435, -0.00516124, -0.00119801,  0.00897016, -0.07664896,\n",
       "         0.06922512,  0.01257476,  0.02007778, -0.0238734 , -0.08841392,\n",
       "         0.06576711, -0.08738049, -0.08051517, -0.03437921,  0.16742652,\n",
       "         0.04232758,  0.12711123,  0.12774162, -0.0112015 , -0.08597463,\n",
       "        -0.13860629,  0.01474063, -0.0434012 ,  0.07819417,  0.01560654,\n",
       "         0.03260628,  0.02312108,  0.03828209, -0.0215217 , -0.13160893]),\n",
       " 0.10570958988764538)"
      ]
     },
     "execution_count": 10,
     "metadata": {},
     "output_type": "execute_result"
    }
   ],
   "source": [
    "best = grid_search.best_estimator_\n",
    "best.named_steps[\"regressor\"].coef_, best.named_steps[\"regressor\"].intercept_"
   ]
  },
  {
   "cell_type": "code",
   "execution_count": null,
   "id": "7f2fbeba-10fd-4fe6-86bb-16e2450bf103",
   "metadata": {},
   "outputs": [],
   "source": []
  }
 ],
 "metadata": {
  "kernelspec": {
   "display_name": "Python 3",
   "language": "python",
   "name": "python3"
  },
  "language_info": {
   "codemirror_mode": {
    "name": "ipython",
    "version": 3
   },
   "file_extension": ".py",
   "mimetype": "text/x-python",
   "name": "python",
   "nbconvert_exporter": "python",
   "pygments_lexer": "ipython3",
   "version": "3.9.2"
  }
 },
 "nbformat": 4,
 "nbformat_minor": 5
}
