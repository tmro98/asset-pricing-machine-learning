{
 "cells": [
  {
   "cell_type": "code",
   "execution_count": 1,
   "id": "554dd17f-a5c0-4631-9055-c08f32661192",
   "metadata": {},
   "outputs": [],
   "source": [
    "import numpy as np\n",
    "import pandas as pd\n",
    "import matplotlib.pyplot as plt\n",
    "import datetime\n",
    "\n",
    "from warnings import simplefilter\n",
    "simplefilter(action=\"ignore\", category=pd.errors.PerformanceWarning)\n",
    "\n",
    "from panel_utils import *\n",
    "\n",
    "import scipy.stats as stats\n",
    "\n",
    "from sklearn.ensemble import RandomForestRegressor\n",
    "from sklearn.model_selection import RandomizedSearchCV\n",
    "from sklearn.pipeline import Pipeline\n",
    "from sklearn.metrics import make_scorer\n",
    "from sklearn.dummy import DummyRegressor\n",
    "from sklearn.preprocessing import MinMaxScaler, StandardScaler, MaxAbsScaler\n",
    "from sklearn.utils.fixes import loguniform"
   ]
  },
  {
   "cell_type": "code",
   "execution_count": 3,
   "id": "408c6172-38b6-4bd7-8656-424d01b41bf1",
   "metadata": {},
   "outputs": [],
   "source": [
    "df = pd.read_csv(\"../_data/panel_bigcap.csv\", index_col=\"Date\")"
   ]
  },
  {
   "cell_type": "code",
   "execution_count": 4,
   "id": "9bcd7e21-0296-4b52-9833-9becce4b85d3",
   "metadata": {},
   "outputs": [
    {
     "data": {
      "text/plain": [
       "'Done.'"
      ]
     },
     "execution_count": 4,
     "metadata": {},
     "output_type": "execute_result"
    }
   ],
   "source": [
    "scale_interact_sort(df=df, micro_cols=micro_cols, macro_cols=macro_cols, interact=False)"
   ]
  },
  {
   "cell_type": "code",
   "execution_count": 2,
   "id": "9fcd94cc-6aa6-4e49-bb8e-ef27e696b70a",
   "metadata": {},
   "outputs": [],
   "source": [
    "%store -r df"
   ]
  },
  {
   "cell_type": "code",
   "execution_count": 3,
   "id": "caa2ba75-9f83-4b73-a489-f2c9ecf212e2",
   "metadata": {},
   "outputs": [
    {
     "data": {
      "text/plain": [
       "((294327, 55), (294327,), (169245, 55), (169245,))"
      ]
     },
     "execution_count": 3,
     "metadata": {},
     "output_type": "execute_result"
    }
   ],
   "source": [
    "train = df.loc[:\"2013-12-31\"]\n",
    "test = df.loc[\"2014-01-31\":]\n",
    "\n",
    "X_train, y_train = train.drop([\"EXCESS_RETURN_T+1\"], axis=1), train[\"EXCESS_RETURN_T+1\"]\n",
    "X_test, y_test = test.drop([\"EXCESS_RETURN_T+1\"], axis=1), test[\"EXCESS_RETURN_T+1\"]\n",
    "\n",
    "X_train.shape, y_train.shape, X_test.shape, y_test.shape"
   ]
  },
  {
   "cell_type": "code",
   "execution_count": 4,
   "id": "adb9790b-4e5d-4db2-a006-6f160185206e",
   "metadata": {},
   "outputs": [
    {
     "data": {
      "text/plain": [
       "0.0003301052587154629"
      ]
     },
     "execution_count": 4,
     "metadata": {},
     "output_type": "execute_result"
    }
   ],
   "source": [
    "naive_mean = DummyRegressor(strategy=\"mean\")\n",
    "naive_mean.fit(X_train.values, y_train.values)\n",
    "modOOSR2(y_test.values, naive_mean.predict(X_test.values))"
   ]
  },
  {
   "cell_type": "code",
   "execution_count": 22,
   "id": "b5cea9e6-a7cd-4f9b-b2d9-efaecbd20b14",
   "metadata": {},
   "outputs": [
    {
     "name": "stdout",
     "output_type": "stream",
     "text": [
      "Fitting 1 folds for each of 100 candidates, totalling 100 fits\n"
     ]
    },
    {
     "data": {
      "text/plain": [
       "RandomizedSearchCV(cv=<generator object holdout_cv at 0x7fc8bcb34040>,\n",
       "                   error_score='raise',\n",
       "                   estimator=Pipeline(steps=[('scaler', 'passthrough'),\n",
       "                                             ('regressor',\n",
       "                                              RandomForestRegressor(n_jobs=6))]),\n",
       "                   n_iter=100, n_jobs=2,\n",
       "                   param_distributions={'regressor__max_depth': [1, 2, 3, 4, 5,\n",
       "                                                                 6, 7, 8, 9],\n",
       "                                        'regressor__max_features': [10, 20, 30,\n",
       "                                                                    40, 50,\n",
       "                                                                    55],\n",
       "                                        'regressor__n_estimators': [5, 6, 7, 8,\n",
       "                                                                    9, 10, 11,\n",
       "                                                                    12, 13, 14,\n",
       "                                                                    15, 16, 17,\n",
       "                                                                    18, 19, 20,\n",
       "                                                                    21, 22, 23,\n",
       "                                                                    24, 25, 26,\n",
       "                                                                    27, 28, 29,\n",
       "                                                                    30, 31, 32,\n",
       "                                                                    33, 34, ...],\n",
       "                                        'scaler': ['passthrough']},\n",
       "                   refit='modOOSR2',\n",
       "                   scoring={'modOOSR2': make_scorer(modOOSR2)}, verbose=2)"
      ]
     },
     "execution_count": 22,
     "metadata": {},
     "output_type": "execute_result"
    }
   ],
   "source": [
    "pipeline = Pipeline([\n",
    "    ('scaler', \"passthrough\"),\n",
    "    ('regressor', RandomForestRegressor(n_jobs=6))\n",
    "])\n",
    "\n",
    "param_grid = {\n",
    "    'scaler': [\"passthrough\"],\n",
    "    \"regressor__n_estimators\": [i for i in np.arange(5,100)],\n",
    "    \"regressor__max_depth\": [i for i in np.arange(1,10)],\n",
    "    \"regressor__max_features\": [10,20,30,40,50,55],\n",
    "}\n",
    "\n",
    "grid_search = RandomizedSearchCV(\n",
    "    estimator=pipeline, \n",
    "    param_distributions= param_grid,\n",
    "    scoring={\"modOOSR2\": make_scorer(modOOSR2)},\n",
    "    refit=\"modOOSR2\", \n",
    "    cv=holdout_cv(X_train, n_test = 3),\n",
    "    n_iter=100, \n",
    "    n_jobs=2,\n",
    "    #pre_dispatch =4,\n",
    "    error_score= \"raise\",\n",
    "    verbose=2\n",
    "    )\n",
    "\n",
    "grid_search.fit(X_train.values, y_train.values)"
   ]
  },
  {
   "cell_type": "code",
   "execution_count": 23,
   "id": "1da6d7b3-609d-4e8d-9c0b-ac6756f6f526",
   "metadata": {},
   "outputs": [
    {
     "data": {
      "text/html": [
       "<div>\n",
       "<style scoped>\n",
       "    .dataframe tbody tr th:only-of-type {\n",
       "        vertical-align: middle;\n",
       "    }\n",
       "\n",
       "    .dataframe tbody tr th {\n",
       "        vertical-align: top;\n",
       "    }\n",
       "\n",
       "    .dataframe thead th {\n",
       "        text-align: right;\n",
       "    }\n",
       "</style>\n",
       "<table border=\"1\" class=\"dataframe\">\n",
       "  <thead>\n",
       "    <tr style=\"text-align: right;\">\n",
       "      <th></th>\n",
       "      <th>mean_fit_time</th>\n",
       "      <th>std_fit_time</th>\n",
       "      <th>mean_score_time</th>\n",
       "      <th>std_score_time</th>\n",
       "      <th>param_scaler</th>\n",
       "      <th>param_regressor__n_estimators</th>\n",
       "      <th>param_regressor__max_features</th>\n",
       "      <th>param_regressor__max_depth</th>\n",
       "      <th>params</th>\n",
       "      <th>split0_test_modOOSR2</th>\n",
       "      <th>mean_test_modOOSR2</th>\n",
       "      <th>std_test_modOOSR2</th>\n",
       "      <th>rank_test_modOOSR2</th>\n",
       "    </tr>\n",
       "  </thead>\n",
       "  <tbody>\n",
       "    <tr>\n",
       "      <th>14</th>\n",
       "      <td>13.644228</td>\n",
       "      <td>0.0</td>\n",
       "      <td>0.049466</td>\n",
       "      <td>0.0</td>\n",
       "      <td>passthrough</td>\n",
       "      <td>76</td>\n",
       "      <td>20</td>\n",
       "      <td>2</td>\n",
       "      <td>{'scaler': 'passthrough', 'regressor__n_estima...</td>\n",
       "      <td>0.066754</td>\n",
       "      <td>0.066754</td>\n",
       "      <td>0.0</td>\n",
       "      <td>3</td>\n",
       "    </tr>\n",
       "    <tr>\n",
       "      <th>17</th>\n",
       "      <td>17.545683</td>\n",
       "      <td>0.0</td>\n",
       "      <td>0.041568</td>\n",
       "      <td>0.0</td>\n",
       "      <td>passthrough</td>\n",
       "      <td>63</td>\n",
       "      <td>30</td>\n",
       "      <td>2</td>\n",
       "      <td>{'scaler': 'passthrough', 'regressor__n_estima...</td>\n",
       "      <td>0.065156</td>\n",
       "      <td>0.065156</td>\n",
       "      <td>0.0</td>\n",
       "      <td>5</td>\n",
       "    </tr>\n",
       "    <tr>\n",
       "      <th>86</th>\n",
       "      <td>1.990952</td>\n",
       "      <td>0.0</td>\n",
       "      <td>0.017496</td>\n",
       "      <td>0.0</td>\n",
       "      <td>passthrough</td>\n",
       "      <td>9</td>\n",
       "      <td>40</td>\n",
       "      <td>1</td>\n",
       "      <td>{'scaler': 'passthrough', 'regressor__n_estima...</td>\n",
       "      <td>0.065252</td>\n",
       "      <td>0.065252</td>\n",
       "      <td>0.0</td>\n",
       "      <td>4</td>\n",
       "    </tr>\n",
       "    <tr>\n",
       "      <th>91</th>\n",
       "      <td>3.370381</td>\n",
       "      <td>0.0</td>\n",
       "      <td>0.023288</td>\n",
       "      <td>0.0</td>\n",
       "      <td>passthrough</td>\n",
       "      <td>12</td>\n",
       "      <td>20</td>\n",
       "      <td>3</td>\n",
       "      <td>{'scaler': 'passthrough', 'regressor__n_estima...</td>\n",
       "      <td>0.070295</td>\n",
       "      <td>0.070295</td>\n",
       "      <td>0.0</td>\n",
       "      <td>2</td>\n",
       "    </tr>\n",
       "    <tr>\n",
       "      <th>97</th>\n",
       "      <td>8.845248</td>\n",
       "      <td>0.0</td>\n",
       "      <td>0.057105</td>\n",
       "      <td>0.0</td>\n",
       "      <td>passthrough</td>\n",
       "      <td>93</td>\n",
       "      <td>10</td>\n",
       "      <td>2</td>\n",
       "      <td>{'scaler': 'passthrough', 'regressor__n_estima...</td>\n",
       "      <td>0.071735</td>\n",
       "      <td>0.071735</td>\n",
       "      <td>0.0</td>\n",
       "      <td>1</td>\n",
       "    </tr>\n",
       "  </tbody>\n",
       "</table>\n",
       "</div>"
      ],
      "text/plain": [
       "    mean_fit_time  std_fit_time  mean_score_time  std_score_time param_scaler  \\\n",
       "14      13.644228           0.0         0.049466             0.0  passthrough   \n",
       "17      17.545683           0.0         0.041568             0.0  passthrough   \n",
       "86       1.990952           0.0         0.017496             0.0  passthrough   \n",
       "91       3.370381           0.0         0.023288             0.0  passthrough   \n",
       "97       8.845248           0.0         0.057105             0.0  passthrough   \n",
       "\n",
       "   param_regressor__n_estimators param_regressor__max_features  \\\n",
       "14                            76                            20   \n",
       "17                            63                            30   \n",
       "86                             9                            40   \n",
       "91                            12                            20   \n",
       "97                            93                            10   \n",
       "\n",
       "   param_regressor__max_depth  \\\n",
       "14                          2   \n",
       "17                          2   \n",
       "86                          1   \n",
       "91                          3   \n",
       "97                          2   \n",
       "\n",
       "                                               params  split0_test_modOOSR2  \\\n",
       "14  {'scaler': 'passthrough', 'regressor__n_estima...              0.066754   \n",
       "17  {'scaler': 'passthrough', 'regressor__n_estima...              0.065156   \n",
       "86  {'scaler': 'passthrough', 'regressor__n_estima...              0.065252   \n",
       "91  {'scaler': 'passthrough', 'regressor__n_estima...              0.070295   \n",
       "97  {'scaler': 'passthrough', 'regressor__n_estima...              0.071735   \n",
       "\n",
       "    mean_test_modOOSR2  std_test_modOOSR2  rank_test_modOOSR2  \n",
       "14            0.066754                0.0                   3  \n",
       "17            0.065156                0.0                   5  \n",
       "86            0.065252                0.0                   4  \n",
       "91            0.070295                0.0                   2  \n",
       "97            0.071735                0.0                   1  "
      ]
     },
     "execution_count": 23,
     "metadata": {},
     "output_type": "execute_result"
    }
   ],
   "source": [
    "results = pd.DataFrame(grid_search.cv_results_)\n",
    "results[results[\"rank_test_modOOSR2\"]<=5]"
   ]
  },
  {
   "cell_type": "code",
   "execution_count": 24,
   "id": "80815f07-68a8-45ec-bf88-236915a116d2",
   "metadata": {},
   "outputs": [
    {
     "data": {
      "text/plain": [
       "Pipeline(steps=[('scaler', 'passthrough'),\n",
       "                ('regressor',\n",
       "                 RandomForestRegressor(max_depth=2, max_features=10,\n",
       "                                       n_estimators=93, n_jobs=6))])"
      ]
     },
     "execution_count": 24,
     "metadata": {},
     "output_type": "execute_result"
    }
   ],
   "source": [
    "grid_search.best_estimator_"
   ]
  },
  {
   "cell_type": "code",
   "execution_count": 25,
   "id": "5808a19c-2a52-411a-bbd6-71276179c0c6",
   "metadata": {},
   "outputs": [
    {
     "data": {
      "text/plain": [
       "-0.000391518150405501"
      ]
     },
     "execution_count": 25,
     "metadata": {},
     "output_type": "execute_result"
    }
   ],
   "source": [
    "modOOSR2(y_test.values, grid_search.predict(X_test.values))"
   ]
  },
  {
   "cell_type": "code",
   "execution_count": 26,
   "id": "5d76a269-b4b9-45d5-9f79-2c8aec31f543",
   "metadata": {},
   "outputs": [
    {
     "data": {
      "text/plain": [
       "-0.0007218616994641991"
      ]
     },
     "execution_count": 26,
     "metadata": {},
     "output_type": "execute_result"
    }
   ],
   "source": [
    "OOSR2(y_test.values, grid_search.predict(X_test.values), naive_mean.predict(X_test.values))"
   ]
  },
  {
   "cell_type": "code",
   "execution_count": 27,
   "id": "111305e6-b2d2-4e67-ad78-0af9540755f1",
   "metadata": {},
   "outputs": [
    {
     "data": {
      "text/plain": [
       "array([0.00000000e+00, 6.75217589e-04, 8.47110297e-04, 0.00000000e+00,\n",
       "       0.00000000e+00, 1.45062685e-03, 0.00000000e+00, 0.00000000e+00,\n",
       "       0.00000000e+00, 0.00000000e+00, 3.89043214e-02, 1.15175366e-02,\n",
       "       0.00000000e+00, 0.00000000e+00, 0.00000000e+00, 0.00000000e+00,\n",
       "       0.00000000e+00, 0.00000000e+00, 0.00000000e+00, 0.00000000e+00,\n",
       "       1.42253259e-03, 0.00000000e+00, 0.00000000e+00, 0.00000000e+00,\n",
       "       0.00000000e+00, 0.00000000e+00, 0.00000000e+00, 1.95350402e-04,\n",
       "       0.00000000e+00, 0.00000000e+00, 2.53669682e-03, 1.03073072e-02,\n",
       "       0.00000000e+00, 3.15981421e-03, 3.46225443e-03, 1.16838218e-03,\n",
       "       4.92910288e-02, 1.19866584e-02, 1.10437463e-01, 5.21174410e-02,\n",
       "       1.67689702e-02, 1.05615659e-01, 8.59335494e-02, 8.51722340e-03,\n",
       "       1.64581628e-02, 2.80476239e-03, 1.21855466e-02, 7.51558880e-03,\n",
       "       1.46454204e-02, 1.19010948e-01, 2.02580861e-01, 7.05219185e-02,\n",
       "       1.94835681e-02, 3.68105722e-03, 1.47970231e-02])"
      ]
     },
     "execution_count": 27,
     "metadata": {},
     "output_type": "execute_result"
    }
   ],
   "source": [
    "best = grid_search.best_estimator_\n",
    "best.named_steps[\"regressor\"].feature_importances_"
   ]
  },
  {
   "cell_type": "code",
   "execution_count": null,
   "id": "5f887ab0-69e9-4f6c-9449-d0fc7264a1be",
   "metadata": {},
   "outputs": [],
   "source": []
  },
  {
   "cell_type": "code",
   "execution_count": null,
   "id": "faee225e-1db0-469e-9314-432bc8b398fe",
   "metadata": {},
   "outputs": [],
   "source": []
  },
  {
   "cell_type": "code",
   "execution_count": null,
   "id": "5d04550f-f000-4c51-aea1-c58c06c844df",
   "metadata": {},
   "outputs": [],
   "source": []
  },
  {
   "cell_type": "code",
   "execution_count": null,
   "id": "a7abfb7b-d486-4c15-9f2a-3a6b707cf37d",
   "metadata": {},
   "outputs": [],
   "source": []
  }
 ],
 "metadata": {
  "kernelspec": {
   "display_name": "Python 3",
   "language": "python",
   "name": "python3"
  },
  "language_info": {
   "codemirror_mode": {
    "name": "ipython",
    "version": 3
   },
   "file_extension": ".py",
   "mimetype": "text/x-python",
   "name": "python",
   "nbconvert_exporter": "python",
   "pygments_lexer": "ipython3",
   "version": "3.9.2"
  }
 },
 "nbformat": 4,
 "nbformat_minor": 5
}
