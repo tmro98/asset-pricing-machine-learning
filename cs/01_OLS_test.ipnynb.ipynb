{
 "cells": [
  {
   "cell_type": "code",
   "execution_count": 1,
   "id": "60536199-6880-4653-925b-4c56e1ee85a5",
   "metadata": {},
   "outputs": [],
   "source": [
    "import numpy as np\n",
    "import pandas as pd\n",
    "import matplotlib.pyplot as plt\n",
    "import datetime\n",
    "\n",
    "from warnings import simplefilter\n",
    "simplefilter(action=\"ignore\", category=pd.errors.PerformanceWarning)\n",
    "\n",
    "from panel_utils import *\n",
    "\n",
    "from sklearn.model_selection import GridSearchCV\n",
    "from sklearn.pipeline import Pipeline\n",
    "from sklearn.metrics import make_scorer\n",
    "from sklearn.dummy import DummyRegressor"
   ]
  },
  {
   "cell_type": "code",
   "execution_count": 2,
   "id": "16f720da-64d0-4abb-874c-26accc2b0df3",
   "metadata": {},
   "outputs": [],
   "source": [
    "df = pd.read_csv(\"panel_bigcap.csv\", index_col=\"Date\")\n",
    "df.drop([\"BB\", \"KC\"], axis=1, inplace=True)"
   ]
  },
  {
   "cell_type": "code",
   "execution_count": 3,
   "id": "e68ce203-b4a5-4e02-91f3-6f219e4f7165",
   "metadata": {},
   "outputs": [
    {
     "data": {
      "text/plain": [
       "'Done.'"
      ]
     },
     "execution_count": 3,
     "metadata": {},
     "output_type": "execute_result"
    }
   ],
   "source": [
    "scale_interact_sort(df=df, micro_cols=micro_cols, macro_cols=macro_cols)"
   ]
  },
  {
   "cell_type": "code",
   "execution_count": 4,
   "id": "05c5aaa7-49fc-468f-81f6-d9ea7ab3e77f",
   "metadata": {},
   "outputs": [
    {
     "data": {
      "text/plain": [
       "((294327, 739), (294327,), (169245, 739), (169245,))"
      ]
     },
     "execution_count": 4,
     "metadata": {},
     "output_type": "execute_result"
    }
   ],
   "source": [
    "train = df.loc[:\"2013-12-31\"]\n",
    "test = df.loc[\"2014-01-31\":]\n",
    "\n",
    "X_train, y_train = train.drop([\"EXCESS_RETURN_T+1\"], axis=1), train[\"EXCESS_RETURN_T+1\"]\n",
    "X_test, y_test = test.drop([\"EXCESS_RETURN_T+1\"], axis=1), test[\"EXCESS_RETURN_T+1\"]\n",
    "\n",
    "X_train.shape, y_train.shape, X_test.shape, y_test.shape"
   ]
  },
  {
   "cell_type": "code",
   "execution_count": 5,
   "id": "7a69c5cc-bcf1-4779-9a22-eae9283dd5a6",
   "metadata": {},
   "outputs": [
    {
     "data": {
      "text/plain": [
       "0.0003301052587154629"
      ]
     },
     "execution_count": 5,
     "metadata": {},
     "output_type": "execute_result"
    }
   ],
   "source": [
    "naive_mean = DummyRegressor(strategy=\"mean\")\n",
    "naive_mean.fit(X_train.values, y_train.values)\n",
    "modOOSR2(y_test.values, naive_mean.predict(X_test.values))\n",
    "\n",
    "# uses combined mean"
   ]
  },
  {
   "cell_type": "code",
   "execution_count": 6,
   "id": "38ddb289-284d-4d2c-9b56-fea7fc4b4ce3",
   "metadata": {},
   "outputs": [
    {
     "data": {
      "text/plain": [
       "GridSearchCV(cv=<generator object holdout_cv at 0x7fea8a6dc580>,\n",
       "             estimator=Pipeline(steps=[('scaler', 'passthrough'),\n",
       "                                       ('regressor', LinearRegression())]),\n",
       "             n_jobs=-1, param_grid={'scaler': ['passthrough']},\n",
       "             refit='modOOSR2', scoring={'modOOSR2': make_scorer(modOOSR2)})"
      ]
     },
     "execution_count": 6,
     "metadata": {},
     "output_type": "execute_result"
    }
   ],
   "source": [
    "from sklearn.linear_model import LinearRegression\n",
    "\n",
    "pipeline = Pipeline([(\"scaler\", \"passthrough\"), (\"regressor\", LinearRegression())])\n",
    "\n",
    "param_grid = {\n",
    "    \"scaler\": [\n",
    "        \"passthrough\"\n",
    "    ]\n",
    "}\n",
    "\n",
    "grid_search = GridSearchCV(\n",
    "    estimator = pipeline,\n",
    "    param_grid = param_grid,\n",
    "    scoring={\"modOOSR2\": make_scorer(modOOSR2)},\n",
    "    refit=\"modOOSR2\",\n",
    "    cv=holdout_cv(X_train, n_test = 3),\n",
    "    n_jobs=-1,\n",
    ")\n",
    "\n",
    "grid_search.fit(X_train.values, y_train.values)"
   ]
  },
  {
   "cell_type": "code",
   "execution_count": 7,
   "id": "666d40d5-aad0-403e-b1f2-2275146fe393",
   "metadata": {},
   "outputs": [
    {
     "data": {
      "text/html": [
       "<div>\n",
       "<style scoped>\n",
       "    .dataframe tbody tr th:only-of-type {\n",
       "        vertical-align: middle;\n",
       "    }\n",
       "\n",
       "    .dataframe tbody tr th {\n",
       "        vertical-align: top;\n",
       "    }\n",
       "\n",
       "    .dataframe thead th {\n",
       "        text-align: right;\n",
       "    }\n",
       "</style>\n",
       "<table border=\"1\" class=\"dataframe\">\n",
       "  <thead>\n",
       "    <tr style=\"text-align: right;\">\n",
       "      <th></th>\n",
       "      <th>mean_fit_time</th>\n",
       "      <th>std_fit_time</th>\n",
       "      <th>mean_score_time</th>\n",
       "      <th>std_score_time</th>\n",
       "      <th>param_scaler</th>\n",
       "      <th>params</th>\n",
       "      <th>split0_test_modOOSR2</th>\n",
       "      <th>mean_test_modOOSR2</th>\n",
       "      <th>std_test_modOOSR2</th>\n",
       "      <th>rank_test_modOOSR2</th>\n",
       "    </tr>\n",
       "  </thead>\n",
       "  <tbody>\n",
       "    <tr>\n",
       "      <th>0</th>\n",
       "      <td>21.052103</td>\n",
       "      <td>0.0</td>\n",
       "      <td>0.073234</td>\n",
       "      <td>0.0</td>\n",
       "      <td>passthrough</td>\n",
       "      <td>{'scaler': 'passthrough'}</td>\n",
       "      <td>-0.298582</td>\n",
       "      <td>-0.298582</td>\n",
       "      <td>0.0</td>\n",
       "      <td>1</td>\n",
       "    </tr>\n",
       "  </tbody>\n",
       "</table>\n",
       "</div>"
      ],
      "text/plain": [
       "   mean_fit_time  std_fit_time  mean_score_time  std_score_time param_scaler  \\\n",
       "0      21.052103           0.0         0.073234             0.0  passthrough   \n",
       "\n",
       "                      params  split0_test_modOOSR2  mean_test_modOOSR2  \\\n",
       "0  {'scaler': 'passthrough'}             -0.298582           -0.298582   \n",
       "\n",
       "   std_test_modOOSR2  rank_test_modOOSR2  \n",
       "0                0.0                   1  "
      ]
     },
     "execution_count": 7,
     "metadata": {},
     "output_type": "execute_result"
    }
   ],
   "source": [
    "results = pd.DataFrame(grid_search.cv_results_)\n",
    "results"
   ]
  },
  {
   "cell_type": "code",
   "execution_count": 8,
   "id": "2cc5db74-b151-4bf7-8065-b90ecd03fb31",
   "metadata": {},
   "outputs": [
    {
     "data": {
      "text/plain": [
       "-0.010323065372606965"
      ]
     },
     "execution_count": 8,
     "metadata": {},
     "output_type": "execute_result"
    }
   ],
   "source": [
    "modOOSR2(y_test.values, grid_search.predict(X_test.values))"
   ]
  },
  {
   "cell_type": "code",
   "execution_count": 11,
   "id": "46266118-97a5-4c63-9361-fe854e36061a",
   "metadata": {},
   "outputs": [
    {
     "data": {
      "text/plain": [
       "-0.010656688460223496"
      ]
     },
     "execution_count": 11,
     "metadata": {},
     "output_type": "execute_result"
    }
   ],
   "source": [
    "OOSR2(y_test.values, grid_search.predict(X_test.values), naive_mean.predict(X_test))"
   ]
  },
  {
   "cell_type": "code",
   "execution_count": null,
   "id": "d481da71-62a2-4e1c-acb5-1969b3cf209f",
   "metadata": {},
   "outputs": [],
   "source": []
  }
 ],
 "metadata": {
  "kernelspec": {
   "display_name": "Python 3",
   "language": "python",
   "name": "python3"
  },
  "language_info": {
   "codemirror_mode": {
    "name": "ipython",
    "version": 3
   },
   "file_extension": ".py",
   "mimetype": "text/x-python",
   "name": "python",
   "nbconvert_exporter": "python",
   "pygments_lexer": "ipython3",
   "version": "3.9.2"
  }
 },
 "nbformat": 4,
 "nbformat_minor": 5
}
