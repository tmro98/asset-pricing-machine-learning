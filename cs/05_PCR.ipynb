{
 "cells": [
  {
   "cell_type": "code",
   "execution_count": 8,
   "id": "554dd17f-a5c0-4631-9055-c08f32661192",
   "metadata": {},
   "outputs": [],
   "source": [
    "import numpy as np\n",
    "import pandas as pd\n",
    "import matplotlib.pyplot as plt\n",
    "import datetime\n",
    "\n",
    "from warnings import simplefilter\n",
    "simplefilter(action=\"ignore\", category=pd.errors.PerformanceWarning)\n",
    "\n",
    "from panel_utils import *\n",
    "\n",
    "import scipy.stats as stats\n",
    "\n",
    "from sklearn.linear_model import LinearRegression\n",
    "from sklearn.decomposition import PCA\n",
    "from sklearn.model_selection import GridSearchCV\n",
    "from sklearn.pipeline import Pipeline\n",
    "from sklearn.metrics import make_scorer\n",
    "from sklearn.dummy import DummyRegressor\n",
    "from sklearn.preprocessing import MinMaxScaler, StandardScaler, MaxAbsScaler\n",
    "from sklearn.utils.fixes import loguniform"
   ]
  },
  {
   "cell_type": "code",
   "execution_count": 3,
   "id": "408c6172-38b6-4bd7-8656-424d01b41bf1",
   "metadata": {},
   "outputs": [],
   "source": [
    "df = pd.read_csv(\"../_data/panel_bigcap.csv\", index_col=\"Date\")"
   ]
  },
  {
   "cell_type": "code",
   "execution_count": 4,
   "id": "9bcd7e21-0296-4b52-9833-9becce4b85d3",
   "metadata": {},
   "outputs": [
    {
     "data": {
      "text/plain": [
       "'Done.'"
      ]
     },
     "execution_count": 4,
     "metadata": {},
     "output_type": "execute_result"
    }
   ],
   "source": [
    "scale_interact_sort(df=df, micro_cols=micro_cols, macro_cols=macro_cols, interact=False)"
   ]
  },
  {
   "cell_type": "code",
   "execution_count": 3,
   "id": "9fcd94cc-6aa6-4e49-bb8e-ef27e696b70a",
   "metadata": {},
   "outputs": [],
   "source": [
    "%store -r df"
   ]
  },
  {
   "cell_type": "code",
   "execution_count": 4,
   "id": "caa2ba75-9f83-4b73-a489-f2c9ecf212e2",
   "metadata": {},
   "outputs": [
    {
     "data": {
      "text/plain": [
       "((294327, 55), (294327,), (169245, 55), (169245,))"
      ]
     },
     "execution_count": 4,
     "metadata": {},
     "output_type": "execute_result"
    }
   ],
   "source": [
    "train = df.loc[:\"2013-12-31\"]\n",
    "test = df.loc[\"2014-01-31\":]\n",
    "\n",
    "X_train, y_train = train.drop([\"EXCESS_RETURN_T+1\"], axis=1), train[\"EXCESS_RETURN_T+1\"]\n",
    "X_test, y_test = test.drop([\"EXCESS_RETURN_T+1\"], axis=1), test[\"EXCESS_RETURN_T+1\"]\n",
    "\n",
    "X_train.shape, y_train.shape, X_test.shape, y_test.shape"
   ]
  },
  {
   "cell_type": "code",
   "execution_count": 5,
   "id": "adb9790b-4e5d-4db2-a006-6f160185206e",
   "metadata": {},
   "outputs": [
    {
     "data": {
      "text/plain": [
       "0.0003301052587154629"
      ]
     },
     "execution_count": 5,
     "metadata": {},
     "output_type": "execute_result"
    }
   ],
   "source": [
    "naive_mean = DummyRegressor(strategy=\"mean\")\n",
    "naive_mean.fit(X_train.values, y_train.values)\n",
    "modOOSR2(y_test.values, naive_mean.predict(X_test.values))"
   ]
  },
  {
   "cell_type": "code",
   "execution_count": 10,
   "id": "b5cea9e6-a7cd-4f9b-b2d9-efaecbd20b14",
   "metadata": {},
   "outputs": [
    {
     "data": {
      "text/plain": [
       "GridSearchCV(cv=<generator object holdout_cv at 0x7f7f3957a3c0>,\n",
       "             error_score='raise',\n",
       "             estimator=Pipeline(steps=[('scaler', 'passthrough'),\n",
       "                                       ('pca', PCA()),\n",
       "                                       ('regressor', LinearRegression())]),\n",
       "             n_jobs=-1,\n",
       "             param_grid={'pca__n_components': [1, 2, 3, 4, 5, 6, 7, 8, 9, 10,\n",
       "                                               11, 12, 13, 14, 15, 16, 17, 18,\n",
       "                                               19],\n",
       "                         'scaler': ['passthrough']},\n",
       "             pre_dispatch=8, refit='modOOSR2',\n",
       "             scoring={'modOOSR2': make_scorer(modOOSR2)})"
      ]
     },
     "execution_count": 10,
     "metadata": {},
     "output_type": "execute_result"
    }
   ],
   "source": [
    "pipeline = Pipeline([\n",
    "    ('scaler', \"passthrough\"),\n",
    "    (\"pca\", PCA()),\n",
    "    ('regressor', LinearRegression())\n",
    "])\n",
    "\n",
    "param_grid = {\n",
    "    'scaler': [\"passthrough\"],\n",
    "    \"pca__n_components\": [i for i in range(1,20)] \n",
    "}\n",
    "\n",
    "grid_search = GridSearchCV(\n",
    "    estimator=pipeline, \n",
    "    param_grid = param_grid,\n",
    "    scoring={\"modOOSR2\": make_scorer(modOOSR2)},\n",
    "    refit=\"modOOSR2\", \n",
    "    cv=holdout_cv(X_train, n_test = 3),\n",
    "    n_jobs=-1,\n",
    "    pre_dispatch=8, \n",
    "    error_score= \"raise\"\n",
    "    )\n",
    "\n",
    "grid_search.fit(X_train.values, y_train.values)"
   ]
  },
  {
   "cell_type": "code",
   "execution_count": 11,
   "id": "1da6d7b3-609d-4e8d-9c0b-ac6756f6f526",
   "metadata": {},
   "outputs": [
    {
     "data": {
      "text/html": [
       "<div>\n",
       "<style scoped>\n",
       "    .dataframe tbody tr th:only-of-type {\n",
       "        vertical-align: middle;\n",
       "    }\n",
       "\n",
       "    .dataframe tbody tr th {\n",
       "        vertical-align: top;\n",
       "    }\n",
       "\n",
       "    .dataframe thead th {\n",
       "        text-align: right;\n",
       "    }\n",
       "</style>\n",
       "<table border=\"1\" class=\"dataframe\">\n",
       "  <thead>\n",
       "    <tr style=\"text-align: right;\">\n",
       "      <th></th>\n",
       "      <th>mean_fit_time</th>\n",
       "      <th>std_fit_time</th>\n",
       "      <th>mean_score_time</th>\n",
       "      <th>std_score_time</th>\n",
       "      <th>param_pca__n_components</th>\n",
       "      <th>param_scaler</th>\n",
       "      <th>params</th>\n",
       "      <th>split0_test_modOOSR2</th>\n",
       "      <th>mean_test_modOOSR2</th>\n",
       "      <th>std_test_modOOSR2</th>\n",
       "      <th>rank_test_modOOSR2</th>\n",
       "    </tr>\n",
       "  </thead>\n",
       "  <tbody>\n",
       "    <tr>\n",
       "      <th>0</th>\n",
       "      <td>1.180017</td>\n",
       "      <td>0.0</td>\n",
       "      <td>0.008543</td>\n",
       "      <td>0.0</td>\n",
       "      <td>1</td>\n",
       "      <td>passthrough</td>\n",
       "      <td>{'pca__n_components': 1, 'scaler': 'passthrough'}</td>\n",
       "      <td>0.029337</td>\n",
       "      <td>0.029337</td>\n",
       "      <td>0.0</td>\n",
       "      <td>1</td>\n",
       "    </tr>\n",
       "    <tr>\n",
       "      <th>1</th>\n",
       "      <td>1.204533</td>\n",
       "      <td>0.0</td>\n",
       "      <td>0.008798</td>\n",
       "      <td>0.0</td>\n",
       "      <td>2</td>\n",
       "      <td>passthrough</td>\n",
       "      <td>{'pca__n_components': 2, 'scaler': 'passthrough'}</td>\n",
       "      <td>0.026305</td>\n",
       "      <td>0.026305</td>\n",
       "      <td>0.0</td>\n",
       "      <td>4</td>\n",
       "    </tr>\n",
       "    <tr>\n",
       "      <th>2</th>\n",
       "      <td>1.345911</td>\n",
       "      <td>0.0</td>\n",
       "      <td>0.009712</td>\n",
       "      <td>0.0</td>\n",
       "      <td>3</td>\n",
       "      <td>passthrough</td>\n",
       "      <td>{'pca__n_components': 3, 'scaler': 'passthrough'}</td>\n",
       "      <td>0.026536</td>\n",
       "      <td>0.026536</td>\n",
       "      <td>0.0</td>\n",
       "      <td>3</td>\n",
       "    </tr>\n",
       "    <tr>\n",
       "      <th>4</th>\n",
       "      <td>1.567710</td>\n",
       "      <td>0.0</td>\n",
       "      <td>0.031158</td>\n",
       "      <td>0.0</td>\n",
       "      <td>5</td>\n",
       "      <td>passthrough</td>\n",
       "      <td>{'pca__n_components': 5, 'scaler': 'passthrough'}</td>\n",
       "      <td>0.027590</td>\n",
       "      <td>0.027590</td>\n",
       "      <td>0.0</td>\n",
       "      <td>2</td>\n",
       "    </tr>\n",
       "    <tr>\n",
       "      <th>5</th>\n",
       "      <td>1.167068</td>\n",
       "      <td>0.0</td>\n",
       "      <td>0.010013</td>\n",
       "      <td>0.0</td>\n",
       "      <td>6</td>\n",
       "      <td>passthrough</td>\n",
       "      <td>{'pca__n_components': 6, 'scaler': 'passthrough'}</td>\n",
       "      <td>0.025773</td>\n",
       "      <td>0.025773</td>\n",
       "      <td>0.0</td>\n",
       "      <td>5</td>\n",
       "    </tr>\n",
       "  </tbody>\n",
       "</table>\n",
       "</div>"
      ],
      "text/plain": [
       "   mean_fit_time  std_fit_time  mean_score_time  std_score_time  \\\n",
       "0       1.180017           0.0         0.008543             0.0   \n",
       "1       1.204533           0.0         0.008798             0.0   \n",
       "2       1.345911           0.0         0.009712             0.0   \n",
       "4       1.567710           0.0         0.031158             0.0   \n",
       "5       1.167068           0.0         0.010013             0.0   \n",
       "\n",
       "  param_pca__n_components param_scaler  \\\n",
       "0                       1  passthrough   \n",
       "1                       2  passthrough   \n",
       "2                       3  passthrough   \n",
       "4                       5  passthrough   \n",
       "5                       6  passthrough   \n",
       "\n",
       "                                              params  split0_test_modOOSR2  \\\n",
       "0  {'pca__n_components': 1, 'scaler': 'passthrough'}              0.029337   \n",
       "1  {'pca__n_components': 2, 'scaler': 'passthrough'}              0.026305   \n",
       "2  {'pca__n_components': 3, 'scaler': 'passthrough'}              0.026536   \n",
       "4  {'pca__n_components': 5, 'scaler': 'passthrough'}              0.027590   \n",
       "5  {'pca__n_components': 6, 'scaler': 'passthrough'}              0.025773   \n",
       "\n",
       "   mean_test_modOOSR2  std_test_modOOSR2  rank_test_modOOSR2  \n",
       "0            0.029337                0.0                   1  \n",
       "1            0.026305                0.0                   4  \n",
       "2            0.026536                0.0                   3  \n",
       "4            0.027590                0.0                   2  \n",
       "5            0.025773                0.0                   5  "
      ]
     },
     "execution_count": 11,
     "metadata": {},
     "output_type": "execute_result"
    }
   ],
   "source": [
    "results = pd.DataFrame(grid_search.cv_results_)\n",
    "results[results[\"rank_test_modOOSR2\"]<=5]"
   ]
  },
  {
   "cell_type": "code",
   "execution_count": 12,
   "id": "80815f07-68a8-45ec-bf88-236915a116d2",
   "metadata": {},
   "outputs": [
    {
     "data": {
      "text/plain": [
       "Pipeline(steps=[('scaler', 'passthrough'), ('pca', PCA(n_components=1)),\n",
       "                ('regressor', LinearRegression())])"
      ]
     },
     "execution_count": 12,
     "metadata": {},
     "output_type": "execute_result"
    }
   ],
   "source": [
    "grid_search.best_estimator_"
   ]
  },
  {
   "cell_type": "code",
   "execution_count": 13,
   "id": "5808a19c-2a52-411a-bbd6-71276179c0c6",
   "metadata": {},
   "outputs": [
    {
     "data": {
      "text/plain": [
       "0.00038378421292395437"
      ]
     },
     "execution_count": 13,
     "metadata": {},
     "output_type": "execute_result"
    }
   ],
   "source": [
    "modOOSR2(y_test.values, grid_search.predict(X_test.values))"
   ]
  },
  {
   "cell_type": "code",
   "execution_count": 14,
   "id": "5d76a269-b4b9-45d5-9f79-2c8aec31f543",
   "metadata": {},
   "outputs": [
    {
     "data": {
      "text/plain": [
       "5.369667976484749e-05"
      ]
     },
     "execution_count": 14,
     "metadata": {},
     "output_type": "execute_result"
    }
   ],
   "source": [
    "OOSR2(y_test.values, grid_search.predict(X_test.values), naive_mean.predict(X_test.values))"
   ]
  },
  {
   "cell_type": "code",
   "execution_count": 15,
   "id": "12d39f50-7794-41e0-bee1-4096df55f7a0",
   "metadata": {},
   "outputs": [
    {
     "data": {
      "text/plain": [
       "0.013261964413730306"
      ]
     },
     "execution_count": 15,
     "metadata": {},
     "output_type": "execute_result"
    }
   ],
   "source": [
    "best = grid_search.best_estimator_\n",
    "best.named_steps[\"regressor\"].intercept_"
   ]
  },
  {
   "cell_type": "code",
   "execution_count": 16,
   "id": "1bb73e82-ce43-4499-8de4-177dfd06a972",
   "metadata": {},
   "outputs": [
    {
     "data": {
      "text/plain": [
       "array([0.00610542])"
      ]
     },
     "execution_count": 16,
     "metadata": {},
     "output_type": "execute_result"
    }
   ],
   "source": [
    "best.named_steps[\"regressor\"].coef_"
   ]
  },
  {
   "cell_type": "code",
   "execution_count": 17,
   "id": "a2b719fb-0a87-4dae-a90a-ef74be6b2f95",
   "metadata": {},
   "outputs": [
    {
     "data": {
      "text/plain": [
       "array([[-4.71160658e-02, -4.70330389e-03, -6.39596516e-02,\n",
       "        -4.55053945e-02, -1.76902948e-01, -3.29501955e-01,\n",
       "        -3.44011301e-01, -1.23817920e-01, -1.42812611e-01,\n",
       "        -3.65047745e-01,  1.09353535e-01,  3.23651944e-02,\n",
       "        -1.71648167e-01, -8.23732134e-04, -2.23750571e-01,\n",
       "        -3.64326336e-01,  6.93703580e-02, -2.40066732e-01,\n",
       "        -1.72588161e-01, -2.61666543e-02,  1.55941512e-02,\n",
       "        -8.48931571e-03, -4.57233268e-01, -4.48067492e-02,\n",
       "        -1.55202972e-01,  1.91874246e-03,  2.42434538e-03,\n",
       "         2.89100725e-03,  6.91319447e-04,  4.60209064e-03,\n",
       "         5.30744965e-03, -1.21652627e-03, -1.44620756e-02,\n",
       "        -2.86953428e-02,  2.16089463e-02, -5.86589316e-02,\n",
       "        -5.75482231e-02, -2.09442886e-02,  3.86238289e-03,\n",
       "        -4.20752903e-02,  2.02310034e-03, -2.07229737e-03,\n",
       "         1.55504872e-03, -7.75966373e-03,  1.62536245e-03,\n",
       "         1.43122456e-03,  2.34699596e-03, -4.14722091e-04,\n",
       "         3.87432730e-03, -4.79633770e-03, -8.43370139e-04,\n",
       "         5.14020921e-04,  1.69316320e-03,  1.66256859e-03,\n",
       "         8.52450224e-03]])"
      ]
     },
     "execution_count": 17,
     "metadata": {},
     "output_type": "execute_result"
    }
   ],
   "source": [
    "best.named_steps[\"pca\"].components_"
   ]
  },
  {
   "cell_type": "code",
   "execution_count": 18,
   "id": "79312311-cf1c-4eef-9719-70ad78af4255",
   "metadata": {},
   "outputs": [
    {
     "data": {
      "text/plain": [
       "array([0.30221361])"
      ]
     },
     "execution_count": 18,
     "metadata": {},
     "output_type": "execute_result"
    }
   ],
   "source": [
    "best.named_steps[\"pca\"].explained_variance_ratio_"
   ]
  },
  {
   "cell_type": "code",
   "execution_count": null,
   "id": "3005ec09-ddaf-426d-958d-64bf2eca1faf",
   "metadata": {},
   "outputs": [],
   "source": []
  }
 ],
 "metadata": {
  "kernelspec": {
   "display_name": "Python 3",
   "language": "python",
   "name": "python3"
  },
  "language_info": {
   "codemirror_mode": {
    "name": "ipython",
    "version": 3
   },
   "file_extension": ".py",
   "mimetype": "text/x-python",
   "name": "python",
   "nbconvert_exporter": "python",
   "pygments_lexer": "ipython3",
   "version": "3.9.2"
  }
 },
 "nbformat": 4,
 "nbformat_minor": 5
}
