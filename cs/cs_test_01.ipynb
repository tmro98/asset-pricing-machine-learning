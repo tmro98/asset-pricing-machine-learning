{
 "cells": [
  {
   "cell_type": "code",
   "execution_count": null,
   "id": "60536199-6880-4653-925b-4c56e1ee85a5",
   "metadata": {},
   "outputs": [],
   "source": [
    "import numpy as np\n",
    "import pandas as pd\n",
    "import matplotlib.pyplot as plt\n",
    "\n",
    "from warnings import simplefilter\n",
    "simplefilter(action=\"ignore\", category=pd.errors.PerformanceWarning)"
   ]
  },
  {
   "cell_type": "code",
   "execution_count": null,
   "id": "16f720da-64d0-4abb-874c-26accc2b0df3",
   "metadata": {},
   "outputs": [],
   "source": [
    "df = pd.read_csv(\"panel_bigcap.csv\", index_col=\"Date\")"
   ]
  },
  {
   "cell_type": "code",
   "execution_count": null,
   "id": "4425689d-5c3a-46df-98b2-cf73f3ed6830",
   "metadata": {},
   "outputs": [],
   "source": [
    "micro_cols = [\n",
    "    'PPO', 'PVO', 'MOM10d', 'MOM60d', 'RSI', 'SRSI', 'SO', 'TSI', 'UO',\n",
    "       'WR', 'EMV', 'FI', 'MFI', 'NVI', 'BB', 'BBW', 'DC', 'KC', 'UI', 'AI',\n",
    "       'CCI', 'KST', 'MACD', 'MI', 'STC', 'TRIX', 'VI', 'BETA60d', 'BETA20d',\n",
    "       'BETA20d^2', 'CHBETA', 'VOLA20d', 'VOLA60d', 'CHVOLA', 'MAXRET',\n",
    "       'MINRET', 'CHMOM', 'RETURN'\n",
    "]\n",
    "\n",
    "macro_cols = [\n",
    "    'MRKTMOM10d', 'MRKTMOM40d', 'MRKTVOLA',\n",
    "       'MRKT', 'DIVYIELD', 'EARNYIELD', 'PERATIO', 'T10Y2Y', 'TB6TB3', 'TB3',\n",
    "       'TB6', 'PRIMETB3', 'FFTB3', 'SENT1d', 'SENTCUM', 'SENTMA', 'CPI',\n",
    "       'UNRATE', 'RF'\n",
    "]"
   ]
  },
  {
   "cell_type": "code",
   "execution_count": null,
   "id": "3a30e196-0bf6-4e6f-8f21-75a499689100",
   "metadata": {},
   "outputs": [],
   "source": [
    "for date in df.index.unique():\n",
    "    for feature in micro_cols:\n",
    "        crosssec_min = df.loc[date, feature].values.min()\n",
    "        crosssec_max = df.loc[date, feature].values.max()\n",
    "        df.loc[date, feature] = df.loc[date, feature].apply(lambda x: (x - crosssec_min) / (crosssec_max - crosssec_min))"
   ]
  },
  {
   "cell_type": "code",
   "execution_count": null,
   "id": "2217332f-1357-4a05-846c-d9671170a0ad",
   "metadata": {},
   "outputs": [],
   "source": [
    "for col in macro_cols:\n",
    "    time_min = df[col].values.min()\n",
    "    time_max = df[col].values.max()\n",
    "    df[col] = df[col].apply(lambda x: (x - time_min) / (time_max - time_min))"
   ]
  },
  {
   "cell_type": "code",
   "execution_count": null,
   "id": "fc618360-890a-4db9-90e4-37db0f5e2298",
   "metadata": {},
   "outputs": [],
   "source": [
    "df.head()"
   ]
  },
  {
   "cell_type": "code",
   "execution_count": null,
   "id": "00b40b05-3b33-4127-9844-598ecfd84a4f",
   "metadata": {},
   "outputs": [],
   "source": [
    "for col_macro in macro_cols:\n",
    "        for col_micro in micro_cols:\n",
    "            df[col_micro +\"x\"+ col_macro] = df[col_macro]*df[col_micro]"
   ]
  },
  {
   "cell_type": "code",
   "execution_count": null,
   "id": "9326a1f9-9a93-4828-bba3-73d1c5b7e585",
   "metadata": {},
   "outputs": [],
   "source": [
    "len(df.columns)"
   ]
  },
  {
   "cell_type": "code",
   "execution_count": null,
   "id": "33f747cd-8c9d-4723-9313-5aa0a9d381f0",
   "metadata": {},
   "outputs": [],
   "source": [
    "#df.drop(macro_cols, axis=1, inplace=True)"
   ]
  },
  {
   "cell_type": "code",
   "execution_count": null,
   "id": "e68ce203-b4a5-4e02-91f3-6f219e4f7165",
   "metadata": {},
   "outputs": [],
   "source": [
    "from panel_utils import scale_interact_sort"
   ]
  },
  {
   "cell_type": "code",
   "execution_count": null,
   "id": "29001f0f-0c20-4873-ab04-1e041680ee25",
   "metadata": {},
   "outputs": [],
   "source": []
  }
 ],
 "metadata": {
  "kernelspec": {
   "display_name": "Python 3",
   "language": "python",
   "name": "python3"
  },
  "language_info": {
   "codemirror_mode": {
    "name": "ipython",
    "version": 3
   },
   "file_extension": ".py",
   "mimetype": "text/x-python",
   "name": "python",
   "nbconvert_exporter": "python",
   "pygments_lexer": "ipython3",
   "version": "3.9.2"
  }
 },
 "nbformat": 4,
 "nbformat_minor": 5
}
