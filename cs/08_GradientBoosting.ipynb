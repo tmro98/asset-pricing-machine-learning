{
 "cells": [
  {
   "cell_type": "code",
   "execution_count": 1,
   "id": "acff9cd0-0c9f-4db6-995b-463dee0acc0b",
   "metadata": {},
   "outputs": [],
   "source": [
    "import numpy as np\n",
    "import pandas as pd\n",
    "import matplotlib.pyplot as plt\n",
    "import datetime\n",
    "\n",
    "from warnings import simplefilter\n",
    "simplefilter(action=\"ignore\", category=pd.errors.PerformanceWarning)\n",
    "\n",
    "from panel_utils import *\n",
    "\n",
    "import scipy.stats as stats\n",
    "\n",
    "from sklearn.ensemble import GradientBoostingRegressor\n",
    "from sklearn.neural_network import MLPRegressor\n",
    "from sklearn.model_selection import RandomizedSearchCV, GridSearchCV\n",
    "from sklearn.pipeline import Pipeline\n",
    "from sklearn.metrics import make_scorer\n",
    "from sklearn.dummy import DummyRegressor\n",
    "from sklearn.utils.fixes import loguniform"
   ]
  },
  {
   "cell_type": "code",
   "execution_count": 2,
   "id": "5f30951b-41bc-425c-aa59-e59b6682220d",
   "metadata": {},
   "outputs": [],
   "source": [
    "df = pd.read_csv(\"../_data/panel_bigcap.csv\", index_col=\"Date\")"
   ]
  },
  {
   "cell_type": "code",
   "execution_count": 2,
   "id": "d13f6257-f00a-44f7-8620-3344c7f8cd37",
   "metadata": {},
   "outputs": [],
   "source": [
    "#scale_interact_sort(df=df, micro_cols=micro_cols, macro_cols=macro_cols)\n",
    "%store -r df"
   ]
  },
  {
   "cell_type": "code",
   "execution_count": 3,
   "id": "75b9fd47-c439-45d5-836d-410a4169b2f9",
   "metadata": {},
   "outputs": [
    {
     "data": {
      "text/plain": [
       "((294327, 55), (294327,), (169245, 55), (169245,))"
      ]
     },
     "execution_count": 3,
     "metadata": {},
     "output_type": "execute_result"
    }
   ],
   "source": [
    "train = df.loc[:\"2013-12-31\"]\n",
    "test = df.loc[\"2014-01-31\":]\n",
    "\n",
    "X_train, y_train = train.drop([\"EXCESS_RETURN_T+1\"], axis=1), train[\"EXCESS_RETURN_T+1\"]\n",
    "X_test, y_test = test.drop([\"EXCESS_RETURN_T+1\"], axis=1), test[\"EXCESS_RETURN_T+1\"]\n",
    "\n",
    "X_train.shape, y_train.shape, X_test.shape, y_test.shape"
   ]
  },
  {
   "cell_type": "code",
   "execution_count": 4,
   "id": "24443acc-fe88-4b38-8929-c354eaf85c65",
   "metadata": {},
   "outputs": [
    {
     "data": {
      "text/plain": [
       "0.0003301052587154629"
      ]
     },
     "execution_count": 4,
     "metadata": {},
     "output_type": "execute_result"
    }
   ],
   "source": [
    "naive_mean = DummyRegressor(strategy=\"mean\")\n",
    "naive_mean.fit(X_train.values, y_train.values)\n",
    "modOOSR2(y_test.values, naive_mean.predict(X_test.values))"
   ]
  },
  {
   "cell_type": "code",
   "execution_count": 6,
   "id": "3843987a-1b6d-418f-8015-fe5fd841ec3b",
   "metadata": {},
   "outputs": [
    {
     "name": "stdout",
     "output_type": "stream",
     "text": [
      "Fitting 1 folds for each of 60 candidates, totalling 60 fits\n"
     ]
    },
    {
     "data": {
      "text/plain": [
       "RandomizedSearchCV(cv=<generator object holdout_cv at 0x7fb0c95d1c80>,\n",
       "                   error_score='raise',\n",
       "                   estimator=Pipeline(steps=[('scaler', 'passthrough'),\n",
       "                                             ('regressor',\n",
       "                                              GradientBoostingRegressor())]),\n",
       "                   n_iter=60, n_jobs=-1,\n",
       "                   param_distributions={'regressor__learning_rate': <scipy.stats._distn_infrastructure.rv_frozen object at 0x7fb0d592cca0>,\n",
       "                                        'regressor__max_depth': [1, 3, 5, 10],\n",
       "                                        'regressor__max_features': [20, 40, 49],\n",
       "                                        'regressor__n_estimators': [5, 10, 25,\n",
       "                                                                    50, 100],\n",
       "                                        'regressor__subsample': [0.8, 0.9, 1],\n",
       "                                        'scaler': ['passthrough']},\n",
       "                   pre_dispatch=8, refit='modOOSR2',\n",
       "                   scoring={'modOOSR2': make_scorer(modOOSR2)}, verbose=2)"
      ]
     },
     "execution_count": 6,
     "metadata": {},
     "output_type": "execute_result"
    }
   ],
   "source": [
    "pipeline = Pipeline([\n",
    "    ('scaler', \"passthrough\"),\n",
    "    ('regressor', GradientBoostingRegressor())\n",
    "])\n",
    "\n",
    "param_grid = {\n",
    "    'scaler': [\"passthrough\"],\n",
    "    \"regressor__n_estimators\": [5,10,25,50,100],\n",
    "    \"regressor__learning_rate\": loguniform(0.0001,10),\n",
    "    \"regressor__subsample\": [0.8,0.9,1],\n",
    "    \"regressor__max_depth\": [1,3,5,10],\n",
    "    \"regressor__max_features\": [20,40,49]\n",
    "    \n",
    "}\n",
    "\n",
    "grid_search = RandomizedSearchCV(\n",
    "    estimator=pipeline, \n",
    "    param_distributions= param_grid,\n",
    "    scoring={\"modOOSR2\": make_scorer(modOOSR2)},\n",
    "    refit=\"modOOSR2\", \n",
    "    cv=holdout_cv(X_train, n_test = 3),\n",
    "    n_iter=60, \n",
    "    n_jobs=-1,\n",
    "    pre_dispatch =8,\n",
    "    error_score= \"raise\",\n",
    "    verbose=2\n",
    "    )\n",
    "\n",
    "grid_search.fit(X_train.values, y_train.values)"
   ]
  },
  {
   "cell_type": "code",
   "execution_count": 7,
   "id": "c0bcb33e-6e74-4c3a-9562-968e0bce60ed",
   "metadata": {},
   "outputs": [
    {
     "data": {
      "text/html": [
       "<div>\n",
       "<style scoped>\n",
       "    .dataframe tbody tr th:only-of-type {\n",
       "        vertical-align: middle;\n",
       "    }\n",
       "\n",
       "    .dataframe tbody tr th {\n",
       "        vertical-align: top;\n",
       "    }\n",
       "\n",
       "    .dataframe thead th {\n",
       "        text-align: right;\n",
       "    }\n",
       "</style>\n",
       "<table border=\"1\" class=\"dataframe\">\n",
       "  <thead>\n",
       "    <tr style=\"text-align: right;\">\n",
       "      <th></th>\n",
       "      <th>mean_fit_time</th>\n",
       "      <th>std_fit_time</th>\n",
       "      <th>mean_score_time</th>\n",
       "      <th>std_score_time</th>\n",
       "      <th>param_regressor__learning_rate</th>\n",
       "      <th>param_regressor__max_depth</th>\n",
       "      <th>param_regressor__max_features</th>\n",
       "      <th>param_regressor__n_estimators</th>\n",
       "      <th>param_regressor__subsample</th>\n",
       "      <th>param_scaler</th>\n",
       "      <th>params</th>\n",
       "      <th>split0_test_modOOSR2</th>\n",
       "      <th>mean_test_modOOSR2</th>\n",
       "      <th>std_test_modOOSR2</th>\n",
       "      <th>rank_test_modOOSR2</th>\n",
       "    </tr>\n",
       "  </thead>\n",
       "  <tbody>\n",
       "    <tr>\n",
       "      <th>23</th>\n",
       "      <td>2.487880</td>\n",
       "      <td>0.0</td>\n",
       "      <td>0.006789</td>\n",
       "      <td>0.0</td>\n",
       "      <td>0.256706</td>\n",
       "      <td>1</td>\n",
       "      <td>20</td>\n",
       "      <td>5</td>\n",
       "      <td>1</td>\n",
       "      <td>passthrough</td>\n",
       "      <td>{'regressor__learning_rate': 0.256705853020614...</td>\n",
       "      <td>0.050567</td>\n",
       "      <td>0.050567</td>\n",
       "      <td>0.0</td>\n",
       "      <td>1</td>\n",
       "    </tr>\n",
       "    <tr>\n",
       "      <th>30</th>\n",
       "      <td>41.918709</td>\n",
       "      <td>0.0</td>\n",
       "      <td>0.016476</td>\n",
       "      <td>0.0</td>\n",
       "      <td>0.130991</td>\n",
       "      <td>1</td>\n",
       "      <td>40</td>\n",
       "      <td>50</td>\n",
       "      <td>0.9</td>\n",
       "      <td>passthrough</td>\n",
       "      <td>{'regressor__learning_rate': 0.130990601061071...</td>\n",
       "      <td>0.049299</td>\n",
       "      <td>0.049299</td>\n",
       "      <td>0.0</td>\n",
       "      <td>2</td>\n",
       "    </tr>\n",
       "    <tr>\n",
       "      <th>40</th>\n",
       "      <td>70.109964</td>\n",
       "      <td>0.0</td>\n",
       "      <td>0.025140</td>\n",
       "      <td>0.0</td>\n",
       "      <td>0.049873</td>\n",
       "      <td>3</td>\n",
       "      <td>20</td>\n",
       "      <td>50</td>\n",
       "      <td>1</td>\n",
       "      <td>passthrough</td>\n",
       "      <td>{'regressor__learning_rate': 0.049873036797158...</td>\n",
       "      <td>0.041214</td>\n",
       "      <td>0.041214</td>\n",
       "      <td>0.0</td>\n",
       "      <td>5</td>\n",
       "    </tr>\n",
       "    <tr>\n",
       "      <th>46</th>\n",
       "      <td>21.599878</td>\n",
       "      <td>0.0</td>\n",
       "      <td>0.017287</td>\n",
       "      <td>0.0</td>\n",
       "      <td>0.250226</td>\n",
       "      <td>1</td>\n",
       "      <td>20</td>\n",
       "      <td>50</td>\n",
       "      <td>0.9</td>\n",
       "      <td>passthrough</td>\n",
       "      <td>{'regressor__learning_rate': 0.250225619175599...</td>\n",
       "      <td>0.041737</td>\n",
       "      <td>0.041737</td>\n",
       "      <td>0.0</td>\n",
       "      <td>4</td>\n",
       "    </tr>\n",
       "    <tr>\n",
       "      <th>48</th>\n",
       "      <td>5.187519</td>\n",
       "      <td>0.0</td>\n",
       "      <td>0.006663</td>\n",
       "      <td>0.0</td>\n",
       "      <td>0.128398</td>\n",
       "      <td>1</td>\n",
       "      <td>49</td>\n",
       "      <td>5</td>\n",
       "      <td>0.9</td>\n",
       "      <td>passthrough</td>\n",
       "      <td>{'regressor__learning_rate': 0.128398369390534...</td>\n",
       "      <td>0.046667</td>\n",
       "      <td>0.046667</td>\n",
       "      <td>0.0</td>\n",
       "      <td>3</td>\n",
       "    </tr>\n",
       "  </tbody>\n",
       "</table>\n",
       "</div>"
      ],
      "text/plain": [
       "    mean_fit_time  std_fit_time  mean_score_time  std_score_time  \\\n",
       "23       2.487880           0.0         0.006789             0.0   \n",
       "30      41.918709           0.0         0.016476             0.0   \n",
       "40      70.109964           0.0         0.025140             0.0   \n",
       "46      21.599878           0.0         0.017287             0.0   \n",
       "48       5.187519           0.0         0.006663             0.0   \n",
       "\n",
       "   param_regressor__learning_rate param_regressor__max_depth  \\\n",
       "23                       0.256706                          1   \n",
       "30                       0.130991                          1   \n",
       "40                       0.049873                          3   \n",
       "46                       0.250226                          1   \n",
       "48                       0.128398                          1   \n",
       "\n",
       "   param_regressor__max_features param_regressor__n_estimators  \\\n",
       "23                            20                             5   \n",
       "30                            40                            50   \n",
       "40                            20                            50   \n",
       "46                            20                            50   \n",
       "48                            49                             5   \n",
       "\n",
       "   param_regressor__subsample param_scaler  \\\n",
       "23                          1  passthrough   \n",
       "30                        0.9  passthrough   \n",
       "40                          1  passthrough   \n",
       "46                        0.9  passthrough   \n",
       "48                        0.9  passthrough   \n",
       "\n",
       "                                               params  split0_test_modOOSR2  \\\n",
       "23  {'regressor__learning_rate': 0.256705853020614...              0.050567   \n",
       "30  {'regressor__learning_rate': 0.130990601061071...              0.049299   \n",
       "40  {'regressor__learning_rate': 0.049873036797158...              0.041214   \n",
       "46  {'regressor__learning_rate': 0.250225619175599...              0.041737   \n",
       "48  {'regressor__learning_rate': 0.128398369390534...              0.046667   \n",
       "\n",
       "    mean_test_modOOSR2  std_test_modOOSR2  rank_test_modOOSR2  \n",
       "23            0.050567                0.0                   1  \n",
       "30            0.049299                0.0                   2  \n",
       "40            0.041214                0.0                   5  \n",
       "46            0.041737                0.0                   4  \n",
       "48            0.046667                0.0                   3  "
      ]
     },
     "execution_count": 7,
     "metadata": {},
     "output_type": "execute_result"
    }
   ],
   "source": [
    "results = pd.DataFrame(grid_search.cv_results_)\n",
    "results[results[\"rank_test_modOOSR2\"]<=5]"
   ]
  },
  {
   "cell_type": "code",
   "execution_count": 8,
   "id": "d79b5add-db9e-4d6f-ad63-af3442bbfd14",
   "metadata": {},
   "outputs": [
    {
     "data": {
      "text/plain": [
       "{'regressor__learning_rate': 0.25670585302061466,\n",
       " 'regressor__max_depth': 1,\n",
       " 'regressor__max_features': 20,\n",
       " 'regressor__n_estimators': 5,\n",
       " 'regressor__subsample': 1,\n",
       " 'scaler': 'passthrough'}"
      ]
     },
     "execution_count": 8,
     "metadata": {},
     "output_type": "execute_result"
    }
   ],
   "source": [
    "grid_search.best_params_"
   ]
  },
  {
   "cell_type": "code",
   "execution_count": 10,
   "id": "cb1d6491-dca9-4f52-b406-d886ab2b14ac",
   "metadata": {},
   "outputs": [
    {
     "data": {
      "text/plain": [
       "-0.00045075690618556763"
      ]
     },
     "execution_count": 10,
     "metadata": {},
     "output_type": "execute_result"
    }
   ],
   "source": [
    "modOOSR2(y_test.values, grid_search.predict(X_test.values))"
   ]
  },
  {
   "cell_type": "code",
   "execution_count": 43,
   "id": "d375748b-895d-4cf7-978b-8a66085cfb66",
   "metadata": {},
   "outputs": [
    {
     "data": {
      "text/plain": [
       "array([1.15634837e-02, 9.24230703e-03, 2.81988277e-02, 3.39041370e-02,\n",
       "       1.30781241e-02, 8.37632593e-02, 3.42711992e-03, 5.77033961e-03,\n",
       "       4.39398685e-03, 2.22212804e-03, 1.96496201e-02, 8.01056142e-03,\n",
       "       2.56867927e-02, 6.31502718e-02, 0.00000000e+00, 7.56253213e-05,\n",
       "       3.90678409e-04, 2.55075415e-04, 1.02803192e-02, 3.46378409e-03,\n",
       "       1.21296712e-02, 1.29104016e-02, 3.49566634e-03, 4.90203115e-03,\n",
       "       1.03390448e-02, 1.27002914e-02, 1.01909039e-02, 1.27585715e-02,\n",
       "       3.01244805e-02, 3.60500012e-02, 4.14059664e-02, 8.87643704e-02,\n",
       "       3.34041559e-02, 7.73414832e-03, 1.46543149e-02, 3.12338000e-02,\n",
       "       2.24799717e-02, 6.38623020e-03, 3.89205617e-02, 1.58276938e-02,\n",
       "       8.19324396e-02, 6.00770333e-04, 2.40144133e-02, 2.20317646e-02,\n",
       "       3.47399527e-02, 1.67882302e-02, 2.28482039e-02, 1.48399579e-02,\n",
       "       9.26554904e-03])"
      ]
     },
     "execution_count": 43,
     "metadata": {},
     "output_type": "execute_result"
    }
   ],
   "source": [
    "best = grid_search.best_estimator_\n",
    "best.named_steps[\"regressor\"].feature_importances_"
   ]
  },
  {
   "cell_type": "code",
   "execution_count": null,
   "id": "db225530-2768-4b2f-b5a8-89c22645d39f",
   "metadata": {},
   "outputs": [],
   "source": []
  }
 ],
 "metadata": {
  "kernelspec": {
   "display_name": "Python 3",
   "language": "python",
   "name": "python3"
  },
  "language_info": {
   "codemirror_mode": {
    "name": "ipython",
    "version": 3
   },
   "file_extension": ".py",
   "mimetype": "text/x-python",
   "name": "python",
   "nbconvert_exporter": "python",
   "pygments_lexer": "ipython3",
   "version": "3.9.2"
  }
 },
 "nbformat": 4,
 "nbformat_minor": 5
}
