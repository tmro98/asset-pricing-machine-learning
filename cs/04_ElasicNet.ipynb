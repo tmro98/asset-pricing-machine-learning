{
 "cells": [
  {
   "cell_type": "code",
   "execution_count": 1,
   "id": "554dd17f-a5c0-4631-9055-c08f32661192",
   "metadata": {},
   "outputs": [],
   "source": [
    "import numpy as np\n",
    "import pandas as pd\n",
    "import matplotlib.pyplot as plt\n",
    "import datetime\n",
    "\n",
    "from warnings import simplefilter\n",
    "simplefilter(action=\"ignore\", category=pd.errors.PerformanceWarning)\n",
    "\n",
    "from panel_utils import *\n",
    "\n",
    "import scipy.stats as stats\n",
    "\n",
    "from sklearn.linear_model import ElasticNet\n",
    "from sklearn.model_selection import RandomizedSearchCV\n",
    "from sklearn.pipeline import Pipeline\n",
    "from sklearn.metrics import make_scorer\n",
    "from sklearn.dummy import DummyRegressor\n",
    "from sklearn.preprocessing import MinMaxScaler, StandardScaler, MaxAbsScaler\n",
    "from sklearn.utils.fixes import loguniform"
   ]
  },
  {
   "cell_type": "code",
   "execution_count": 3,
   "id": "408c6172-38b6-4bd7-8656-424d01b41bf1",
   "metadata": {},
   "outputs": [],
   "source": [
    "df = pd.read_csv(\"../_data/panel_bigcap.csv\", index_col=\"Date\")"
   ]
  },
  {
   "cell_type": "code",
   "execution_count": 4,
   "id": "9bcd7e21-0296-4b52-9833-9becce4b85d3",
   "metadata": {},
   "outputs": [
    {
     "data": {
      "text/plain": [
       "'Done.'"
      ]
     },
     "execution_count": 4,
     "metadata": {},
     "output_type": "execute_result"
    }
   ],
   "source": [
    "scale_interact_sort(df=df, micro_cols=micro_cols, macro_cols=macro_cols, interact=False)"
   ]
  },
  {
   "cell_type": "code",
   "execution_count": 2,
   "id": "9fcd94cc-6aa6-4e49-bb8e-ef27e696b70a",
   "metadata": {},
   "outputs": [],
   "source": [
    "%store -r df"
   ]
  },
  {
   "cell_type": "code",
   "execution_count": 3,
   "id": "caa2ba75-9f83-4b73-a489-f2c9ecf212e2",
   "metadata": {},
   "outputs": [
    {
     "data": {
      "text/plain": [
       "((294327, 55), (294327,), (169245, 55), (169245,))"
      ]
     },
     "execution_count": 3,
     "metadata": {},
     "output_type": "execute_result"
    }
   ],
   "source": [
    "train = df.loc[:\"2013-12-31\"]\n",
    "test = df.loc[\"2014-01-31\":]\n",
    "\n",
    "X_train, y_train = train.drop([\"EXCESS_RETURN_T+1\"], axis=1), train[\"EXCESS_RETURN_T+1\"]\n",
    "X_test, y_test = test.drop([\"EXCESS_RETURN_T+1\"], axis=1), test[\"EXCESS_RETURN_T+1\"]\n",
    "\n",
    "X_train.shape, y_train.shape, X_test.shape, y_test.shape"
   ]
  },
  {
   "cell_type": "code",
   "execution_count": 4,
   "id": "adb9790b-4e5d-4db2-a006-6f160185206e",
   "metadata": {},
   "outputs": [
    {
     "data": {
      "text/plain": [
       "0.0003301052587154629"
      ]
     },
     "execution_count": 4,
     "metadata": {},
     "output_type": "execute_result"
    }
   ],
   "source": [
    "naive_mean = DummyRegressor(strategy=\"mean\")\n",
    "naive_mean.fit(X_train.values, y_train.values)\n",
    "modOOSR2(y_test.values, naive_mean.predict(X_test.values))"
   ]
  },
  {
   "cell_type": "code",
   "execution_count": 5,
   "id": "b5cea9e6-a7cd-4f9b-b2d9-efaecbd20b14",
   "metadata": {},
   "outputs": [
    {
     "data": {
      "text/plain": [
       "RandomizedSearchCV(cv=<generator object holdout_cv at 0x7efd8d1f5900>,\n",
       "                   error_score='raise',\n",
       "                   estimator=Pipeline(steps=[('scaler', 'passthrough'),\n",
       "                                             ('regressor', ElasticNet())]),\n",
       "                   n_iter=7500, n_jobs=-1,\n",
       "                   param_distributions={'regressor__alpha': <scipy.stats._distn_infrastructure.rv_frozen object at 0x7efd8c98a400>,\n",
       "                                        'regressor__l1_ratio': <scipy.stats._distn_infrastructure.rv_frozen object at 0x7efd8c9974c0>,\n",
       "                                        'scaler': ['passthrough']},\n",
       "                   pre_dispatch=8, refit='modOOSR2',\n",
       "                   scoring={'modOOSR2': make_scorer(modOOSR2)})"
      ]
     },
     "execution_count": 5,
     "metadata": {},
     "output_type": "execute_result"
    }
   ],
   "source": [
    "pipeline = Pipeline([\n",
    "    ('scaler', \"passthrough\"),\n",
    "    ('regressor', ElasticNet())\n",
    "])\n",
    "\n",
    "param_grid = {\n",
    "    'scaler': [\"passthrough\"],\n",
    "    'regressor__alpha': loguniform(0.00075,10),\n",
    "    \"regressor__l1_ratio\": stats.uniform(0,1)  \n",
    "}\n",
    "\n",
    "\n",
    "grid_search = RandomizedSearchCV(\n",
    "    estimator=pipeline, \n",
    "    param_distributions= param_grid,\n",
    "    scoring={\"modOOSR2\": make_scorer(modOOSR2)},\n",
    "    refit=\"modOOSR2\", \n",
    "    cv=holdout_cv(X_train, n_test = 3),\n",
    "    n_iter=7500, \n",
    "    n_jobs=-1,\n",
    "    pre_dispatch =8,\n",
    "    error_score= \"raise\"\n",
    "    )\n",
    "\n",
    "grid_search.fit(X_train.values, y_train.values)"
   ]
  },
  {
   "cell_type": "code",
   "execution_count": 6,
   "id": "1da6d7b3-609d-4e8d-9c0b-ac6756f6f526",
   "metadata": {},
   "outputs": [
    {
     "data": {
      "text/html": [
       "<div>\n",
       "<style scoped>\n",
       "    .dataframe tbody tr th:only-of-type {\n",
       "        vertical-align: middle;\n",
       "    }\n",
       "\n",
       "    .dataframe tbody tr th {\n",
       "        vertical-align: top;\n",
       "    }\n",
       "\n",
       "    .dataframe thead th {\n",
       "        text-align: right;\n",
       "    }\n",
       "</style>\n",
       "<table border=\"1\" class=\"dataframe\">\n",
       "  <thead>\n",
       "    <tr style=\"text-align: right;\">\n",
       "      <th></th>\n",
       "      <th>mean_fit_time</th>\n",
       "      <th>std_fit_time</th>\n",
       "      <th>mean_score_time</th>\n",
       "      <th>std_score_time</th>\n",
       "      <th>param_regressor__alpha</th>\n",
       "      <th>param_regressor__l1_ratio</th>\n",
       "      <th>param_scaler</th>\n",
       "      <th>params</th>\n",
       "      <th>split0_test_modOOSR2</th>\n",
       "      <th>mean_test_modOOSR2</th>\n",
       "      <th>std_test_modOOSR2</th>\n",
       "      <th>rank_test_modOOSR2</th>\n",
       "    </tr>\n",
       "  </thead>\n",
       "  <tbody>\n",
       "    <tr>\n",
       "      <th>677</th>\n",
       "      <td>0.415491</td>\n",
       "      <td>0.0</td>\n",
       "      <td>0.004289</td>\n",
       "      <td>0.0</td>\n",
       "      <td>0.001931</td>\n",
       "      <td>0.647395</td>\n",
       "      <td>passthrough</td>\n",
       "      <td>{'regressor__alpha': 0.0019310647602558994, 'r...</td>\n",
       "      <td>0.028279</td>\n",
       "      <td>0.028279</td>\n",
       "      <td>0.0</td>\n",
       "      <td>3</td>\n",
       "    </tr>\n",
       "    <tr>\n",
       "      <th>5506</th>\n",
       "      <td>0.402627</td>\n",
       "      <td>0.0</td>\n",
       "      <td>0.007609</td>\n",
       "      <td>0.0</td>\n",
       "      <td>0.002065</td>\n",
       "      <td>0.609766</td>\n",
       "      <td>passthrough</td>\n",
       "      <td>{'regressor__alpha': 0.0020645365816346116, 'r...</td>\n",
       "      <td>0.028277</td>\n",
       "      <td>0.028277</td>\n",
       "      <td>0.0</td>\n",
       "      <td>5</td>\n",
       "    </tr>\n",
       "    <tr>\n",
       "      <th>6240</th>\n",
       "      <td>0.396312</td>\n",
       "      <td>0.0</td>\n",
       "      <td>0.004353</td>\n",
       "      <td>0.0</td>\n",
       "      <td>0.00157</td>\n",
       "      <td>0.801711</td>\n",
       "      <td>passthrough</td>\n",
       "      <td>{'regressor__alpha': 0.0015699644419484011, 'r...</td>\n",
       "      <td>0.028288</td>\n",
       "      <td>0.028288</td>\n",
       "      <td>0.0</td>\n",
       "      <td>2</td>\n",
       "    </tr>\n",
       "    <tr>\n",
       "      <th>7102</th>\n",
       "      <td>0.366938</td>\n",
       "      <td>0.0</td>\n",
       "      <td>0.004412</td>\n",
       "      <td>0.0</td>\n",
       "      <td>0.001429</td>\n",
       "      <td>0.879127</td>\n",
       "      <td>passthrough</td>\n",
       "      <td>{'regressor__alpha': 0.0014292193940235508, 'r...</td>\n",
       "      <td>0.028297</td>\n",
       "      <td>0.028297</td>\n",
       "      <td>0.0</td>\n",
       "      <td>1</td>\n",
       "    </tr>\n",
       "    <tr>\n",
       "      <th>7320</th>\n",
       "      <td>0.482345</td>\n",
       "      <td>0.0</td>\n",
       "      <td>0.004464</td>\n",
       "      <td>0.0</td>\n",
       "      <td>0.002245</td>\n",
       "      <td>0.55999</td>\n",
       "      <td>passthrough</td>\n",
       "      <td>{'regressor__alpha': 0.0022453741889436572, 'r...</td>\n",
       "      <td>0.028277</td>\n",
       "      <td>0.028277</td>\n",
       "      <td>0.0</td>\n",
       "      <td>4</td>\n",
       "    </tr>\n",
       "  </tbody>\n",
       "</table>\n",
       "</div>"
      ],
      "text/plain": [
       "      mean_fit_time  std_fit_time  mean_score_time  std_score_time  \\\n",
       "677        0.415491           0.0         0.004289             0.0   \n",
       "5506       0.402627           0.0         0.007609             0.0   \n",
       "6240       0.396312           0.0         0.004353             0.0   \n",
       "7102       0.366938           0.0         0.004412             0.0   \n",
       "7320       0.482345           0.0         0.004464             0.0   \n",
       "\n",
       "     param_regressor__alpha param_regressor__l1_ratio param_scaler  \\\n",
       "677                0.001931                  0.647395  passthrough   \n",
       "5506               0.002065                  0.609766  passthrough   \n",
       "6240                0.00157                  0.801711  passthrough   \n",
       "7102               0.001429                  0.879127  passthrough   \n",
       "7320               0.002245                   0.55999  passthrough   \n",
       "\n",
       "                                                 params  split0_test_modOOSR2  \\\n",
       "677   {'regressor__alpha': 0.0019310647602558994, 'r...              0.028279   \n",
       "5506  {'regressor__alpha': 0.0020645365816346116, 'r...              0.028277   \n",
       "6240  {'regressor__alpha': 0.0015699644419484011, 'r...              0.028288   \n",
       "7102  {'regressor__alpha': 0.0014292193940235508, 'r...              0.028297   \n",
       "7320  {'regressor__alpha': 0.0022453741889436572, 'r...              0.028277   \n",
       "\n",
       "      mean_test_modOOSR2  std_test_modOOSR2  rank_test_modOOSR2  \n",
       "677             0.028279                0.0                   3  \n",
       "5506            0.028277                0.0                   5  \n",
       "6240            0.028288                0.0                   2  \n",
       "7102            0.028297                0.0                   1  \n",
       "7320            0.028277                0.0                   4  "
      ]
     },
     "execution_count": 6,
     "metadata": {},
     "output_type": "execute_result"
    }
   ],
   "source": [
    "results = pd.DataFrame(grid_search.cv_results_)\n",
    "results[results[\"rank_test_modOOSR2\"]<=5]"
   ]
  },
  {
   "cell_type": "code",
   "execution_count": 7,
   "id": "80815f07-68a8-45ec-bf88-236915a116d2",
   "metadata": {},
   "outputs": [
    {
     "data": {
      "text/plain": [
       "Pipeline(steps=[('scaler', 'passthrough'),\n",
       "                ('regressor',\n",
       "                 ElasticNet(alpha=0.0014292193940235508,\n",
       "                            l1_ratio=0.8791267396726554))])"
      ]
     },
     "execution_count": 7,
     "metadata": {},
     "output_type": "execute_result"
    }
   ],
   "source": [
    "grid_search.best_estimator_"
   ]
  },
  {
   "cell_type": "code",
   "execution_count": 8,
   "id": "5808a19c-2a52-411a-bbd6-71276179c0c6",
   "metadata": {},
   "outputs": [
    {
     "data": {
      "text/plain": [
       "0.00030520728620131443"
      ]
     },
     "execution_count": 8,
     "metadata": {},
     "output_type": "execute_result"
    }
   ],
   "source": [
    "modOOSR2(y_test.values, grid_search.predict(X_test.values))"
   ]
  },
  {
   "cell_type": "code",
   "execution_count": 9,
   "id": "5d76a269-b4b9-45d5-9f79-2c8aec31f543",
   "metadata": {},
   "outputs": [
    {
     "data": {
      "text/plain": [
       "-2.490619417994111e-05"
      ]
     },
     "execution_count": 9,
     "metadata": {},
     "output_type": "execute_result"
    }
   ],
   "source": [
    "OOSR2(y_test.values, grid_search.predict(X_test.values), naive_mean.predict(X_test.values))"
   ]
  },
  {
   "cell_type": "code",
   "execution_count": 10,
   "id": "12d39f50-7794-41e0-bee1-4096df55f7a0",
   "metadata": {},
   "outputs": [
    {
     "data": {
      "text/plain": [
       "0.01761730963384324"
      ]
     },
     "execution_count": 10,
     "metadata": {},
     "output_type": "execute_result"
    }
   ],
   "source": [
    "best = grid_search.best_estimator_\n",
    "best.named_steps[\"regressor\"].intercept_"
   ]
  },
  {
   "cell_type": "code",
   "execution_count": 11,
   "id": "1bb73e82-ce43-4499-8de4-177dfd06a972",
   "metadata": {},
   "outputs": [
    {
     "data": {
      "text/plain": [
       "array([-0.        ,  0.        , -0.        , -0.        , -0.        ,\n",
       "       -0.00842496, -0.        , -0.        , -0.        , -0.        ,\n",
       "        0.        , -0.        , -0.        , -0.        , -0.        ,\n",
       "       -0.        ,  0.        ,  0.        , -0.        , -0.        ,\n",
       "       -0.        , -0.        , -0.        , -0.        , -0.        ,\n",
       "        0.        ,  0.        ,  0.        ,  0.        ,  0.        ,\n",
       "        0.        ,  0.        ,  0.        , -0.        , -0.        ,\n",
       "       -0.        , -0.        ,  0.        , -0.        ,  0.        ,\n",
       "        0.        , -0.        ,  0.        ,  0.        , -0.        ,\n",
       "       -0.        , -0.        , -0.        ,  0.        ,  0.        ,\n",
       "        0.        , -0.        ,  0.        ,  0.        , -0.        ])"
      ]
     },
     "execution_count": 11,
     "metadata": {},
     "output_type": "execute_result"
    }
   ],
   "source": [
    "best.named_steps[\"regressor\"].coef_"
   ]
  },
  {
   "cell_type": "code",
   "execution_count": null,
   "id": "a2b719fb-0a87-4dae-a90a-ef74be6b2f95",
   "metadata": {},
   "outputs": [],
   "source": []
  }
 ],
 "metadata": {
  "kernelspec": {
   "display_name": "Python 3",
   "language": "python",
   "name": "python3"
  },
  "language_info": {
   "codemirror_mode": {
    "name": "ipython",
    "version": 3
   },
   "file_extension": ".py",
   "mimetype": "text/x-python",
   "name": "python",
   "nbconvert_exporter": "python",
   "pygments_lexer": "ipython3",
   "version": "3.9.2"
  }
 },
 "nbformat": 4,
 "nbformat_minor": 5
}
