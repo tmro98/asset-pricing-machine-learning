{
 "cells": [
  {
   "cell_type": "code",
   "execution_count": 5,
   "id": "554dd17f-a5c0-4631-9055-c08f32661192",
   "metadata": {},
   "outputs": [],
   "source": [
    "import numpy as np\n",
    "import pandas as pd\n",
    "import matplotlib.pyplot as plt\n",
    "import datetime\n",
    "\n",
    "from warnings import simplefilter\n",
    "simplefilter(action=\"ignore\", category=pd.errors.PerformanceWarning)\n",
    "\n",
    "from panel_utils import *\n",
    "\n",
    "import scipy.stats as stats\n",
    "\n",
    "from sklearn.linear_model import ElasticNet\n",
    "from sklearn.decomposition import PCA\n",
    "from sklearn.model_selection import RandomizedSearchCV\n",
    "from sklearn.pipeline import Pipeline\n",
    "from sklearn.metrics import make_scorer\n",
    "from sklearn.dummy import DummyRegressor\n",
    "from sklearn.preprocessing import MinMaxScaler, StandardScaler, MaxAbsScaler\n",
    "from sklearn.utils.fixes import loguniform"
   ]
  },
  {
   "cell_type": "code",
   "execution_count": 3,
   "id": "408c6172-38b6-4bd7-8656-424d01b41bf1",
   "metadata": {},
   "outputs": [],
   "source": [
    "df = pd.read_csv(\"../_data/panel_bigcap.csv\", index_col=\"Date\")"
   ]
  },
  {
   "cell_type": "code",
   "execution_count": 4,
   "id": "9bcd7e21-0296-4b52-9833-9becce4b85d3",
   "metadata": {},
   "outputs": [
    {
     "data": {
      "text/plain": [
       "'Done.'"
      ]
     },
     "execution_count": 4,
     "metadata": {},
     "output_type": "execute_result"
    }
   ],
   "source": [
    "scale_interact_sort(df=df, micro_cols=micro_cols, macro_cols=macro_cols, interact=False)"
   ]
  },
  {
   "cell_type": "code",
   "execution_count": 2,
   "id": "9fcd94cc-6aa6-4e49-bb8e-ef27e696b70a",
   "metadata": {},
   "outputs": [],
   "source": [
    "%store -r df"
   ]
  },
  {
   "cell_type": "code",
   "execution_count": 3,
   "id": "caa2ba75-9f83-4b73-a489-f2c9ecf212e2",
   "metadata": {},
   "outputs": [
    {
     "data": {
      "text/plain": [
       "((294327, 55), (294327,), (169245, 55), (169245,))"
      ]
     },
     "execution_count": 3,
     "metadata": {},
     "output_type": "execute_result"
    }
   ],
   "source": [
    "train = df.loc[:\"2013-12-31\"]\n",
    "test = df.loc[\"2014-01-31\":]\n",
    "\n",
    "X_train, y_train = train.drop([\"EXCESS_RETURN_T+1\"], axis=1), train[\"EXCESS_RETURN_T+1\"]\n",
    "X_test, y_test = test.drop([\"EXCESS_RETURN_T+1\"], axis=1), test[\"EXCESS_RETURN_T+1\"]\n",
    "\n",
    "X_train.shape, y_train.shape, X_test.shape, y_test.shape"
   ]
  },
  {
   "cell_type": "code",
   "execution_count": 4,
   "id": "adb9790b-4e5d-4db2-a006-6f160185206e",
   "metadata": {},
   "outputs": [
    {
     "data": {
      "text/plain": [
       "0.0003301052587154629"
      ]
     },
     "execution_count": 4,
     "metadata": {},
     "output_type": "execute_result"
    }
   ],
   "source": [
    "naive_mean = DummyRegressor(strategy=\"mean\")\n",
    "naive_mean.fit(X_train.values, y_train.values)\n",
    "modOOSR2(y_test.values, naive_mean.predict(X_test.values))"
   ]
  },
  {
   "cell_type": "code",
   "execution_count": 7,
   "id": "b5cea9e6-a7cd-4f9b-b2d9-efaecbd20b14",
   "metadata": {},
   "outputs": [
    {
     "data": {
      "text/plain": [
       "RandomizedSearchCV(cv=<generator object holdout_cv at 0x7fdd41cafc10>,\n",
       "                   error_score='raise',\n",
       "                   estimator=Pipeline(steps=[('scaler', 'passthrough'),\n",
       "                                             ('pca', PCA()),\n",
       "                                             ('regressor', ElasticNet())]),\n",
       "                   n_iter=250, n_jobs=-1,\n",
       "                   param_distributions={'pca__n_components': [1, 2, 3, 4, 5, 6,\n",
       "                                                              7, 8, 9, 10, 11,\n",
       "                                                              12, 13, 14, 15,\n",
       "                                                              16, 17, 18, 19,\n",
       "                                                              20],\n",
       "                                        'regressor__alpha': <scipy.stats._distn_infrastructure.rv_frozen object at 0x7fdd603d2640>,\n",
       "                                        'regressor__l1_ratio': <scipy.stats._distn_infrastructure.rv_frozen object at 0x7fdd4203ef70>,\n",
       "                                        'scaler': ['passthrough']},\n",
       "                   pre_dispatch=8, refit='modOOSR2',\n",
       "                   scoring={'modOOSR2': make_scorer(modOOSR2)})"
      ]
     },
     "execution_count": 7,
     "metadata": {},
     "output_type": "execute_result"
    }
   ],
   "source": [
    "pipeline = Pipeline([\n",
    "    ('scaler', \"passthrough\"),\n",
    "    (\"pca\", PCA()),\n",
    "    ('regressor', ElasticNet())\n",
    "])\n",
    "\n",
    "param_grid = {\n",
    "    'scaler': [\"passthrough\"],\n",
    "    \"pca__n_components\": [i for i in range(1,21)],\n",
    "    'regressor__alpha': loguniform(0.001,10),\n",
    "    \"regressor__l1_ratio\": stats.uniform(0,1)\n",
    "}\n",
    "\n",
    "grid_search = RandomizedSearchCV(\n",
    "    estimator=pipeline, \n",
    "    param_distributions= param_grid,\n",
    "    scoring={\"modOOSR2\": make_scorer(modOOSR2)},\n",
    "    refit=\"modOOSR2\", \n",
    "    cv=holdout_cv(X_train, n_test = 3),\n",
    "    n_iter=250, \n",
    "    n_jobs=-1,\n",
    "    pre_dispatch =8,\n",
    "    error_score= \"raise\"\n",
    "    )\n",
    "\n",
    "grid_search.fit(X_train.values, y_train.values)"
   ]
  },
  {
   "cell_type": "code",
   "execution_count": 8,
   "id": "1da6d7b3-609d-4e8d-9c0b-ac6756f6f526",
   "metadata": {},
   "outputs": [
    {
     "data": {
      "text/html": [
       "<div>\n",
       "<style scoped>\n",
       "    .dataframe tbody tr th:only-of-type {\n",
       "        vertical-align: middle;\n",
       "    }\n",
       "\n",
       "    .dataframe tbody tr th {\n",
       "        vertical-align: top;\n",
       "    }\n",
       "\n",
       "    .dataframe thead th {\n",
       "        text-align: right;\n",
       "    }\n",
       "</style>\n",
       "<table border=\"1\" class=\"dataframe\">\n",
       "  <thead>\n",
       "    <tr style=\"text-align: right;\">\n",
       "      <th></th>\n",
       "      <th>mean_fit_time</th>\n",
       "      <th>std_fit_time</th>\n",
       "      <th>mean_score_time</th>\n",
       "      <th>std_score_time</th>\n",
       "      <th>param_pca__n_components</th>\n",
       "      <th>param_regressor__alpha</th>\n",
       "      <th>param_regressor__l1_ratio</th>\n",
       "      <th>param_scaler</th>\n",
       "      <th>params</th>\n",
       "      <th>split0_test_modOOSR2</th>\n",
       "      <th>mean_test_modOOSR2</th>\n",
       "      <th>std_test_modOOSR2</th>\n",
       "      <th>rank_test_modOOSR2</th>\n",
       "    </tr>\n",
       "  </thead>\n",
       "  <tbody>\n",
       "    <tr>\n",
       "      <th>5</th>\n",
       "      <td>1.371178</td>\n",
       "      <td>0.0</td>\n",
       "      <td>0.018561</td>\n",
       "      <td>0.0</td>\n",
       "      <td>10</td>\n",
       "      <td>0.006574</td>\n",
       "      <td>0.204267</td>\n",
       "      <td>passthrough</td>\n",
       "      <td>{'pca__n_components': 10, 'regressor__alpha': ...</td>\n",
       "      <td>0.027705</td>\n",
       "      <td>0.027705</td>\n",
       "      <td>0.0</td>\n",
       "      <td>5</td>\n",
       "    </tr>\n",
       "    <tr>\n",
       "      <th>33</th>\n",
       "      <td>1.472645</td>\n",
       "      <td>0.0</td>\n",
       "      <td>0.016812</td>\n",
       "      <td>0.0</td>\n",
       "      <td>11</td>\n",
       "      <td>0.00185</td>\n",
       "      <td>0.805049</td>\n",
       "      <td>passthrough</td>\n",
       "      <td>{'pca__n_components': 11, 'regressor__alpha': ...</td>\n",
       "      <td>0.027866</td>\n",
       "      <td>0.027866</td>\n",
       "      <td>0.0</td>\n",
       "      <td>3</td>\n",
       "    </tr>\n",
       "    <tr>\n",
       "      <th>35</th>\n",
       "      <td>1.198307</td>\n",
       "      <td>0.0</td>\n",
       "      <td>0.008574</td>\n",
       "      <td>0.0</td>\n",
       "      <td>1</td>\n",
       "      <td>0.00246</td>\n",
       "      <td>0.482845</td>\n",
       "      <td>passthrough</td>\n",
       "      <td>{'pca__n_components': 1, 'regressor__alpha': 0...</td>\n",
       "      <td>0.028015</td>\n",
       "      <td>0.028015</td>\n",
       "      <td>0.0</td>\n",
       "      <td>2</td>\n",
       "    </tr>\n",
       "    <tr>\n",
       "      <th>55</th>\n",
       "      <td>1.222568</td>\n",
       "      <td>0.0</td>\n",
       "      <td>0.010699</td>\n",
       "      <td>0.0</td>\n",
       "      <td>7</td>\n",
       "      <td>0.00483</td>\n",
       "      <td>0.166017</td>\n",
       "      <td>passthrough</td>\n",
       "      <td>{'pca__n_components': 7, 'regressor__alpha': 0...</td>\n",
       "      <td>0.027725</td>\n",
       "      <td>0.027725</td>\n",
       "      <td>0.0</td>\n",
       "      <td>4</td>\n",
       "    </tr>\n",
       "    <tr>\n",
       "      <th>214</th>\n",
       "      <td>1.238598</td>\n",
       "      <td>0.0</td>\n",
       "      <td>0.008778</td>\n",
       "      <td>0.0</td>\n",
       "      <td>1</td>\n",
       "      <td>0.001038</td>\n",
       "      <td>0.595005</td>\n",
       "      <td>passthrough</td>\n",
       "      <td>{'pca__n_components': 1, 'regressor__alpha': 0...</td>\n",
       "      <td>0.028710</td>\n",
       "      <td>0.028710</td>\n",
       "      <td>0.0</td>\n",
       "      <td>1</td>\n",
       "    </tr>\n",
       "  </tbody>\n",
       "</table>\n",
       "</div>"
      ],
      "text/plain": [
       "     mean_fit_time  std_fit_time  mean_score_time  std_score_time  \\\n",
       "5         1.371178           0.0         0.018561             0.0   \n",
       "33        1.472645           0.0         0.016812             0.0   \n",
       "35        1.198307           0.0         0.008574             0.0   \n",
       "55        1.222568           0.0         0.010699             0.0   \n",
       "214       1.238598           0.0         0.008778             0.0   \n",
       "\n",
       "    param_pca__n_components param_regressor__alpha param_regressor__l1_ratio  \\\n",
       "5                        10               0.006574                  0.204267   \n",
       "33                       11                0.00185                  0.805049   \n",
       "35                        1                0.00246                  0.482845   \n",
       "55                        7                0.00483                  0.166017   \n",
       "214                       1               0.001038                  0.595005   \n",
       "\n",
       "    param_scaler                                             params  \\\n",
       "5    passthrough  {'pca__n_components': 10, 'regressor__alpha': ...   \n",
       "33   passthrough  {'pca__n_components': 11, 'regressor__alpha': ...   \n",
       "35   passthrough  {'pca__n_components': 1, 'regressor__alpha': 0...   \n",
       "55   passthrough  {'pca__n_components': 7, 'regressor__alpha': 0...   \n",
       "214  passthrough  {'pca__n_components': 1, 'regressor__alpha': 0...   \n",
       "\n",
       "     split0_test_modOOSR2  mean_test_modOOSR2  std_test_modOOSR2  \\\n",
       "5                0.027705            0.027705                0.0   \n",
       "33               0.027866            0.027866                0.0   \n",
       "35               0.028015            0.028015                0.0   \n",
       "55               0.027725            0.027725                0.0   \n",
       "214              0.028710            0.028710                0.0   \n",
       "\n",
       "     rank_test_modOOSR2  \n",
       "5                     5  \n",
       "33                    3  \n",
       "35                    2  \n",
       "55                    4  \n",
       "214                   1  "
      ]
     },
     "execution_count": 8,
     "metadata": {},
     "output_type": "execute_result"
    }
   ],
   "source": [
    "results = pd.DataFrame(grid_search.cv_results_)\n",
    "results[results[\"rank_test_modOOSR2\"]<=5]"
   ]
  },
  {
   "cell_type": "code",
   "execution_count": 9,
   "id": "80815f07-68a8-45ec-bf88-236915a116d2",
   "metadata": {},
   "outputs": [
    {
     "data": {
      "text/plain": [
       "Pipeline(steps=[('scaler', 'passthrough'), ('pca', PCA(n_components=1)),\n",
       "                ('regressor',\n",
       "                 ElasticNet(alpha=0.0010377793860502193,\n",
       "                            l1_ratio=0.5950050366551096))])"
      ]
     },
     "execution_count": 9,
     "metadata": {},
     "output_type": "execute_result"
    }
   ],
   "source": [
    "grid_search.best_estimator_"
   ]
  },
  {
   "cell_type": "code",
   "execution_count": 10,
   "id": "5808a19c-2a52-411a-bbd6-71276179c0c6",
   "metadata": {},
   "outputs": [
    {
     "data": {
      "text/plain": [
       "0.00038013267813630236"
      ]
     },
     "execution_count": 10,
     "metadata": {},
     "output_type": "execute_result"
    }
   ],
   "source": [
    "modOOSR2(y_test.values, grid_search.predict(X_test.values))"
   ]
  },
  {
   "cell_type": "code",
   "execution_count": 11,
   "id": "5d76a269-b4b9-45d5-9f79-2c8aec31f543",
   "metadata": {},
   "outputs": [
    {
     "data": {
      "text/plain": [
       "5.004393918839334e-05"
      ]
     },
     "execution_count": 11,
     "metadata": {},
     "output_type": "execute_result"
    }
   ],
   "source": [
    "OOSR2(y_test.values, grid_search.predict(X_test.values), naive_mean.predict(X_test.values))"
   ]
  },
  {
   "cell_type": "code",
   "execution_count": 12,
   "id": "12d39f50-7794-41e0-bee1-4096df55f7a0",
   "metadata": {},
   "outputs": [
    {
     "data": {
      "text/plain": [
       "0.013261964413730306"
      ]
     },
     "execution_count": 12,
     "metadata": {},
     "output_type": "execute_result"
    }
   ],
   "source": [
    "best = grid_search.best_estimator_\n",
    "best.named_steps[\"regressor\"].intercept_"
   ]
  },
  {
   "cell_type": "code",
   "execution_count": 13,
   "id": "1bb73e82-ce43-4499-8de4-177dfd06a972",
   "metadata": {},
   "outputs": [
    {
     "data": {
      "text/plain": [
       "array([0.00507427])"
      ]
     },
     "execution_count": 13,
     "metadata": {},
     "output_type": "execute_result"
    }
   ],
   "source": [
    "best.named_steps[\"regressor\"].coef_"
   ]
  },
  {
   "cell_type": "code",
   "execution_count": 14,
   "id": "a2b719fb-0a87-4dae-a90a-ef74be6b2f95",
   "metadata": {},
   "outputs": [
    {
     "data": {
      "text/plain": [
       "array([[-4.71160658e-02, -4.70330396e-03, -6.39596515e-02,\n",
       "        -4.55053944e-02, -1.76902948e-01, -3.29501955e-01,\n",
       "        -3.44011301e-01, -1.23817920e-01, -1.42812611e-01,\n",
       "        -3.65047745e-01,  1.09353535e-01,  3.23651944e-02,\n",
       "        -1.71648167e-01, -8.23732129e-04, -2.23750571e-01,\n",
       "        -3.64326336e-01,  6.93703580e-02, -2.40066732e-01,\n",
       "        -1.72588161e-01, -2.61666543e-02,  1.55941512e-02,\n",
       "        -8.48931579e-03, -4.57233268e-01, -4.48067492e-02,\n",
       "        -1.55202972e-01,  1.91874260e-03,  2.42434547e-03,\n",
       "         2.89100724e-03,  6.91319467e-04,  4.60209054e-03,\n",
       "         5.30744960e-03, -1.21652646e-03, -1.44620757e-02,\n",
       "        -2.86953427e-02,  2.16089463e-02, -5.86589316e-02,\n",
       "        -5.75482230e-02, -2.09442885e-02,  3.86238275e-03,\n",
       "        -4.20752903e-02,  2.02310038e-03, -2.07229717e-03,\n",
       "         1.55504847e-03, -7.75966351e-03,  1.62536247e-03,\n",
       "         1.43122459e-03,  2.34699599e-03, -4.14722143e-04,\n",
       "         3.87432726e-03, -4.79633762e-03, -8.43370047e-04,\n",
       "         5.14021002e-04,  1.69316322e-03,  1.66256877e-03,\n",
       "         8.52450212e-03]])"
      ]
     },
     "execution_count": 14,
     "metadata": {},
     "output_type": "execute_result"
    }
   ],
   "source": [
    "best.named_steps[\"pca\"].components_"
   ]
  },
  {
   "cell_type": "code",
   "execution_count": 15,
   "id": "79312311-cf1c-4eef-9719-70ad78af4255",
   "metadata": {},
   "outputs": [
    {
     "data": {
      "text/plain": [
       "array([0.30221361])"
      ]
     },
     "execution_count": 15,
     "metadata": {},
     "output_type": "execute_result"
    }
   ],
   "source": [
    "best.named_steps[\"pca\"].explained_variance_ratio_"
   ]
  },
  {
   "cell_type": "code",
   "execution_count": null,
   "id": "3005ec09-ddaf-426d-958d-64bf2eca1faf",
   "metadata": {},
   "outputs": [],
   "source": []
  }
 ],
 "metadata": {
  "kernelspec": {
   "display_name": "Python 3",
   "language": "python",
   "name": "python3"
  },
  "language_info": {
   "codemirror_mode": {
    "name": "ipython",
    "version": 3
   },
   "file_extension": ".py",
   "mimetype": "text/x-python",
   "name": "python",
   "nbconvert_exporter": "python",
   "pygments_lexer": "ipython3",
   "version": "3.9.2"
  }
 },
 "nbformat": 4,
 "nbformat_minor": 5
}
