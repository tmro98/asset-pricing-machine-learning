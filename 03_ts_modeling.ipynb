{
 "cells": [
  {
   "attachments": {},
   "cell_type": "markdown",
   "metadata": {},
   "source": [
    "Inital imports"
   ]
  },
  {
   "cell_type": "code",
   "execution_count": 15,
   "metadata": {},
   "outputs": [],
   "source": [
    "import numpy as np\n",
    "import pandas as pd\n",
    "import matplotlib.pyplot as plt\n",
    "\n",
    "from sklearn.model_selection import TimeSeriesSplit\n",
    "from sklearn.model_selection import GridSearchCV\n",
    "from sklearn.pipeline import Pipeline\n",
    "from sklearn.metrics import make_scorer"
   ]
  },
  {
   "attachments": {},
   "cell_type": "markdown",
   "metadata": {},
   "source": [
    "Test/Train split"
   ]
  },
  {
   "cell_type": "code",
   "execution_count": 16,
   "metadata": {},
   "outputs": [],
   "source": [
    "df = pd.read_csv(\"data/timeseries.csv\", index_col=\"Date\")\n",
    "df.index = pd.to_datetime(df.index)\n",
    "df = df.round(4)"
   ]
  },
  {
   "cell_type": "code",
   "execution_count": 17,
   "metadata": {},
   "outputs": [],
   "source": [
    "train = df.iloc[:350]\n",
    "test = df.iloc[350:]"
   ]
  },
  {
   "cell_type": "code",
   "execution_count": 18,
   "metadata": {},
   "outputs": [],
   "source": [
    "X_train, y_train = train.drop([\"EXCESS_RETURN_T+1\"], axis=1).values, train[\"EXCESS_RETURN_T+1\"].values\n",
    "X_test, y_test = test.drop([\"EXCESS_RETURN_T+1\"], axis=1).values, test[\"EXCESS_RETURN_T+1\"].values"
   ]
  },
  {
   "cell_type": "code",
   "execution_count": 19,
   "metadata": {},
   "outputs": [
    {
     "data": {
      "text/plain": [
       "((350, 49), (350,), (165, 49), (165,))"
      ]
     },
     "execution_count": 19,
     "metadata": {},
     "output_type": "execute_result"
    }
   ],
   "source": [
    "X_train.shape, y_train.shape, X_test.shape, y_test.shape"
   ]
  },
  {
   "attachments": {},
   "cell_type": "markdown",
   "metadata": {},
   "source": [
    "Modified OOS R2"
   ]
  },
  {
   "cell_type": "code",
   "execution_count": 20,
   "metadata": {},
   "outputs": [],
   "source": [
    "def modOOSR2(y_true, y_pred):\n",
    "    numerator = ((y_true - y_pred) ** 2).sum(axis=0, dtype=np.float64)\n",
    "    denominator = (y_true**2).sum(axis=0, dtype=np.float64)\n",
    "    return 1 - (numerator/denominator)\n",
    "\n",
    "def OOSR2(y_true, y_pred, mean_model_pred):\n",
    "    numerator = ((y_true - y_pred) ** 2).sum(axis=0, dtype=np.float64)\n",
    "    denominator = ((y_true - mean_model_pred)**2).sum(axis=0, dtype=np.float64)\n",
    "    return 1 - (numerator/denominator)"
   ]
  },
  {
   "attachments": {},
   "cell_type": "markdown",
   "metadata": {},
   "source": [
    "Naive models"
   ]
  },
  {
   "cell_type": "code",
   "execution_count": 22,
   "metadata": {},
   "outputs": [
    {
     "data": {
      "text/plain": [
       "(0.033644436363636364, 0.03438000000000001, 0.023305483729676668)"
      ]
     },
     "execution_count": 22,
     "metadata": {},
     "output_type": "execute_result"
    }
   ],
   "source": [
    "from sklearn.dummy import DummyRegressor\n",
    "from sklearn.metrics import mean_absolute_error\n",
    "\n",
    "naive_mean = DummyRegressor(strategy=\"mean\")\n",
    "naive_const = DummyRegressor(strategy=\"constant\", constant=0)\n",
    "\n",
    "naive_mean.fit(X_train, y_train)\n",
    "naive_const.fit(X_train, y_train)\n",
    "\n",
    "res1 = mean_absolute_error(y_test, naive_mean.predict(X_test))\n",
    "res2 = mean_absolute_error(y_test, naive_const.predict(X_test))\n",
    "res3 = modOOSR2(y_test, naive_mean.predict(X_test))\n",
    "\n",
    "res1, res2, res3"
   ]
  },
  {
   "attachments": {},
   "cell_type": "markdown",
   "metadata": {},
   "source": [
    "Simple and penalized linear"
   ]
  },
  {
   "cell_type": "code",
   "execution_count": null,
   "metadata": {},
   "outputs": [],
   "source": [
    "from sklearn.linear_model import ElasticNet, Lasso, Ridge, LinearRegression\n",
    "from sklearn.preprocessing import MinMaxScaler, StandardScaler, MaxAbsScaler\n",
    "\n",
    "\n",
    "pipeline = Pipeline([\n",
    "    ('scaler', MaxAbsScaler()),\n",
    "    ('regressor', Ridge())\n",
    "])\n",
    "\n",
    "param_grid = {\n",
    "    #'scaler': [MinMaxScaler((-1,1)), StandardScaler()],\n",
    "    'regressor__alpha': [0.1, 1, 10, 20, 30, 40, 50],  \n",
    "    #\"scaler__feature_range': [(0, 1),(0, 5)],\n",
    "    #'regressor__l1_ratio':[0.1,0.2,0.3,0.4,0.5,0.6,0.7,0.8,0.9,1]\n",
    "}\n",
    "\n",
    "tscv = TimeSeriesSplit(n_splits=3)\n",
    "\n",
    "grid_search = GridSearchCV(\n",
    "    pipeline, \n",
    "    param_grid,\n",
    "    scoring={\"modOOSR2\": make_scorer(modR2)},\n",
    "    refit=\"modOOSR2\", \n",
    "    cv=tscv, \n",
    "    n_jobs=-1\n",
    "    )\n",
    "\n",
    "grid_search.fit(X_train, y_train)\n"
   ]
  },
  {
   "cell_type": "code",
   "execution_count": null,
   "metadata": {},
   "outputs": [],
   "source": [
    "modR2(y_test, grid_search.predict(X_test))"
   ]
  },
  {
   "cell_type": "code",
   "execution_count": null,
   "metadata": {},
   "outputs": [],
   "source": [
    "results = pd.DataFrame(grid_search.cv_results_)\n",
    "results"
   ]
  },
  {
   "cell_type": "code",
   "execution_count": null,
   "metadata": {},
   "outputs": [],
   "source": [
    "pipeline.get_params()"
   ]
  },
  {
   "cell_type": "code",
   "execution_count": null,
   "metadata": {},
   "outputs": [],
   "source": [
    "grid_search.best_estimator_"
   ]
  },
  {
   "cell_type": "code",
   "execution_count": null,
   "metadata": {},
   "outputs": [],
   "source": [
    "grid_search.best_params_"
   ]
  },
  {
   "cell_type": "code",
   "execution_count": null,
   "metadata": {},
   "outputs": [],
   "source": [
    "grid_search.best_score_"
   ]
  },
  {
   "cell_type": "code",
   "execution_count": null,
   "metadata": {},
   "outputs": [],
   "source": []
  }
 ],
 "metadata": {
  "kernelspec": {
   "display_name": "Python 3",
   "language": "python",
   "name": "python3"
  },
  "language_info": {
   "codemirror_mode": {
    "name": "ipython",
    "version": 3
   },
   "file_extension": ".py",
   "mimetype": "text/x-python",
   "name": "python",
   "nbconvert_exporter": "python",
   "pygments_lexer": "ipython3",
   "version": "3.11.2"
  },
  "orig_nbformat": 4
 },
 "nbformat": 4,
 "nbformat_minor": 2
}
